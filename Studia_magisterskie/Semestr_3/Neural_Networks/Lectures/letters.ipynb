{
 "cells": [
  {
   "cell_type": "code",
   "execution_count": null,
   "id": "7f1bdd0b",
   "metadata": {},
   "outputs": [],
   "source": [
    "from gensim.models import Word2Vec\n",
    "\n",
    "corpus = [list(line.strip()) for line in open('winnie-the-pooh.txt')]\n",
    "print (corpus[12])"
   ]
  },
  {
   "cell_type": "code",
   "execution_count": null,
   "id": "ed31a0d4",
   "metadata": {},
   "outputs": [],
   "source": [
    "model = Word2Vec(sentences=corpus, vector_size=20, window=2, min_count=1, workers=4)\n",
    "keys = model.wv.index_to_key\n",
    "\n",
    "for k in \"abce123\":\n",
    "    print ('KEY:', k)\n",
    "    for k0, v in model.wv.most_similar(k, topn=5):\n",
    "        print ('   ', v, k0)\n",
    "    print ()"
   ]
  },
  {
   "cell_type": "code",
   "execution_count": null,
   "id": "fc912211",
   "metadata": {},
   "outputs": [],
   "source": [
    "kv = model.wv\n",
    "type(kv), kv['a']"
   ]
  },
  {
   "cell_type": "code",
   "execution_count": null,
   "id": "d9f865ac",
   "metadata": {},
   "outputs": [],
   "source": [
    "model = Word2Vec(sentences=corpus, vector_size=30, window=1, min_count=1, workers=4)\n",
    "keys = model.wv.index_to_key\n",
    "\n",
    "from sklearn.cluster import KMeans\n",
    "\n",
    "\n",
    "data = []\n",
    "for k in keys:\n",
    "    data.append(model.wv[k])\n",
    "\n",
    "K = 6\n",
    "\n",
    "kmeans = KMeans(n_clusters=K, random_state=0).fit(data)\n",
    "\n",
    "clusters = [set() for i in range(K)]\n",
    "\n",
    "for k, lab in zip(keys, kmeans.labels_):\n",
    "    clusters[lab].add(k)\n",
    "    \n",
    "for i, c in enumerate(clusters):\n",
    "    txt = ' '.join(sorted(c))\n",
    "    print (f'CLUSTER {i}: {txt}')"
   ]
  },
  {
   "cell_type": "code",
   "execution_count": null,
   "id": "b00e99af",
   "metadata": {},
   "outputs": [],
   "source": [
    "import gensim.downloader\n",
    "gn = gensim.downloader.load('word2vec-google-news-300')"
   ]
  },
  {
   "cell_type": "code",
   "execution_count": null,
   "id": "61a188cf",
   "metadata": {},
   "outputs": [],
   "source": [
    "b = gn['bicycle']\n",
    "print (type(b),b.shape)"
   ]
  },
  {
   "cell_type": "code",
   "execution_count": null,
   "id": "8bfdf22d",
   "metadata": {},
   "outputs": [],
   "source": [
    "gn.most_similar('bicycle', topn=5)"
   ]
  },
  {
   "cell_type": "code",
   "execution_count": null,
   "id": "5fff9603",
   "metadata": {},
   "outputs": [],
   "source": [
    "gn.similar_by_vector(gn['car'] + gn['strawberry'], topn=3)"
   ]
  },
  {
   "cell_type": "code",
   "execution_count": null,
   "id": "44c61a06",
   "metadata": {},
   "outputs": [],
   "source": []
  },
  {
   "cell_type": "code",
   "execution_count": null,
   "id": "59a80554",
   "metadata": {},
   "outputs": [],
   "source": []
  }
 ],
 "metadata": {
  "kernelspec": {
   "display_name": "Python 3 (ipykernel)",
   "language": "python",
   "name": "python3"
  },
  "language_info": {
   "codemirror_mode": {
    "name": "ipython",
    "version": 3
   },
   "file_extension": ".py",
   "mimetype": "text/x-python",
   "name": "python",
   "nbconvert_exporter": "python",
   "pygments_lexer": "ipython3",
   "version": "3.10.4"
  }
 },
 "nbformat": 4,
 "nbformat_minor": 5
}
