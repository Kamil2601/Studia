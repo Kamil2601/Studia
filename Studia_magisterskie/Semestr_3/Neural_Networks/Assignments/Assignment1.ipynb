{
 "cells": [
  {
   "cell_type": "markdown",
   "metadata": {
    "cell_id": "96afc4de-06c2-44b0-9e0d-ec1df865f0dd",
    "deepnote_app_coordinates": {
     "h": 5,
     "w": 12,
     "x": 0,
     "y": 0
    },
    "deepnote_cell_type": "text-cell-h1",
    "is_collapsed": false,
    "tags": []
   },
   "source": [
    "# NN 2022"
   ]
  },
  {
   "cell_type": "markdown",
   "metadata": {
    "cell_id": "00001-caefeb56-f9c5-4f9e-a096-b89246dc63d7",
    "deepnote_app_coordinates": {
     "h": 5,
     "w": 12,
     "x": 0,
     "y": 6
    },
    "deepnote_cell_type": "markdown",
    "id": "CGXgWugfJ0Vl"
   },
   "source": [
    "## Assignment 1\n",
    "\n",
    "**Submission deadlines:** \n",
    "- get at least **2** points by Tuesday, 15.03.2022\n",
    "- remaining points: last lab session before or on Tuesday, 22.03.2022\n",
    "\n",
    "**Points:** Aim to get 8 out of 12 possible points\n",
    "\n",
    "## Submission instructions\n",
    "The class is held on-site in lab rooms. Please prepare you notebook on your computer or anywhere in the cloud (try using DeepNote or Google Colab).\n",
    "Make sure you know all the questions and asnwers, and that the notebook contains results; bfore presentation do `Runtime -> Restart and run all`\n",
    "![Picture title](image-20220302-183151.png)\n",
    "\n",
    "We provide starter code, however you are not required to use it as long as you properly solve the tasks.\n"
   ]
  },
  {
   "cell_type": "markdown",
   "metadata": {
    "cell_id": "00002-c92cc86e-f65f-4e16-9124-9ca4d4265c88",
    "deepnote_app_coordinates": {
     "h": 5,
     "w": 12,
     "x": 0,
     "y": 12
    },
    "deepnote_cell_type": "markdown",
    "id": "5S8iRaCPyO2a"
   },
   "source": [
    "# Task description\n",
    "\n",
    "## TLDR\n",
    "Implement and train a neural network using pure numpy."
   ]
  },
  {
   "cell_type": "markdown",
   "metadata": {
    "cell_id": "00003-1893a0a0-4515-4960-bce8-37f660543eea",
    "deepnote_app_coordinates": {
     "h": 5,
     "w": 12,
     "x": 0,
     "y": 18
    },
    "deepnote_cell_type": "markdown",
    "id": "JHcz7I2V-bVM"
   },
   "source": [
    "\n",
    "## Problem 1 [2p]\n",
    "Implement a two-layer network, manually set weights and biases to solve the XOR task.\n",
    "\n",
    "A two-layer neural network implementes a function $f: \\mathbb{R}^D \\rightarrow \\mathbb{R}^O$ where $D$ is the input dimensionality and $O$ is the output dinemsionality. The output goes through an intermediate representation (the hidden layer) with dimensionality $H$. \n",
    "\n",
    "The computations are as follows:\n",
    "$$\n",
    "\\begin{aligned}\n",
    "A_1 &= x W_1^T + b_1  & \\qquad\\text{Total input to neurons in the hidden layer (network's first layer)} \\\\\n",
    "O_1 &= \\sigma_1(A_1)  & \\qquad\\text{Output of the hidden layer} \\\\\n",
    "A_2 &= O_1 W_2^T + b_2 & \\qquad\\text{Total input to neurons in the output layer (network's second layer)}\\\\\n",
    "O_2 &= \\sigma_2(A_2)  & \\qquad\\text{Output of the network}\n",
    "\\end{aligned}\n",
    "$$\n",
    "\n",
    "Where $W$ are weight matrices, $b$ are bias vectors, $\\sigma$ are non-linear activation functions (e.g. the logistic sigmoid applied element-wise, or softmax).\n",
    "\n",
    "For the 2D xor problem the network will:\n",
    "- have 2 inputs, 2 hidden neurons, one output\n",
    "- use the logistic sigmoid everywhere (that way we, when hand-designig the weights, we can assume that neurons' outputs are binary).\n",
    "\n",
    "Therrefore the shapes of the data flowing through the network will be:\n",
    "- input: $x\\in\\mathbb{}R^{2}$\n",
    "- hidden layer parameters: $W_1\\in\\mathbb{}R^{2\\times 2}$ and $b_1\\in\\mathbb{}R^{2}$\n",
    "- representations in the hidden layer: $A_1\\in\\mathbb{}R^{2}$ and $O_1\\in\\mathbb{}R^{2}$\n",
    "- output layer parameters: $W_2\\in\\mathbb{}R^{1\\times 2}$ and $b_2\\in\\mathbb{}R^{1}$\n",
    "- representations in the output layer: $A_2\\in\\mathbb{}R^{1}$ and $O_2\\in\\mathbb{}R^{1}$\n",
    "\n",
    "The network can be seen as a logistic regression model, prefixed by a nonlinear transformation of the data.\n",
    "\n",
    "The first tasks consists of:\n",
    "- implementing the network\n",
    "- selecting parametwrs ($W_1, b_1, W_2, b_2$) such that $f(x)\\approx XOR(x_1, x_2)$ where the approximation is die to the sigmoids - the output may be close to 0 or 1, but doesn't need to saturate at 0 or 1.\n",
    "\n",
    "NB: the convention on weight matrix shapes follows linear [layers in PyTorch](https://pytorch.org/docs/stable/generated/torch.nn.Linear.html).\n"
   ]
  },
  {
   "cell_type": "markdown",
   "metadata": {
    "cell_id": "00004-0d502510-cfd1-44da-b88c-da6aaf275617",
    "deepnote_app_coordinates": {
     "h": 5,
     "w": 12,
     "x": 0,
     "y": 24
    },
    "deepnote_cell_type": "markdown",
    "id": "0QSpZxuH-bLe"
   },
   "source": [
    "## Problem 2 [2p]\n",
    "1. Add a backward pass.\n",
    "2. Use a sensible random initialization for weights and biases.\n",
    "3. Numerically check the correctness of your gradient computation.\n",
    "\n",
    "There is nice article about taking derivative over vectors and vector chain rule: https://explained.ai/matrix-calculus/ if someone don't have experience with suchr calculus.\n"
   ]
  },
  {
   "cell_type": "markdown",
   "metadata": {
    "cell_id": "00005-96083315-f850-4103-946e-cc9b11377543",
    "deepnote_app_coordinates": {
     "h": 5,
     "w": 12,
     "x": 0,
     "y": 30
    },
    "deepnote_cell_type": "markdown",
    "id": "s1Tn8j0m-bAy"
   },
   "source": [
    "## Problem 3 [2p]\n",
    "1. Implement gradient descent\n",
    "2. Train your network to solve 3D XOR\n",
    "3. Try several hidden layer sizes, for each size record the fracton of successful trainings. Then answer:\n",
    "    - What is the minimal hidden size required to solve 3D XOR (even with low reliability, when the training has to be repeated multiple times)\n",
    "    - What is the minimal hidden size required to reliably solve 3D XOR\n",
    "    - Which networks are easier to train - small or large ones? Why?\n"
   ]
  },
  {
   "cell_type": "markdown",
   "metadata": {
    "cell_id": "00006-94cc4eb9-0202-4308-9a9e-007db44a6a98",
    "deepnote_app_coordinates": {
     "h": 5,
     "w": 12,
     "x": 0,
     "y": 36
    },
    "deepnote_cell_type": "markdown",
    "id": "RP9Pvpmf-a2A"
   },
   "source": [
    "## Problem 4 [1p]\n",
    "Replace the first nonlinearity with the [ReLU](https://en.wikipedia.org/wiki/Rectifier_(neural_networks)) activation function. Find a network architecture which reliably learns the 3D XOR problem.\n"
   ]
  },
  {
   "cell_type": "markdown",
   "metadata": {
    "cell_id": "00007-9e6e984c-5131-4333-837b-7e57c4bfb650",
    "deepnote_app_coordinates": {
     "h": 5,
     "w": 12,
     "x": 0,
     "y": 42
    },
    "deepnote_cell_type": "markdown",
    "id": "cGgtpe-w-asB"
   },
   "source": [
    "## Problem 5 [1p]\n",
    "Add a second hidden layer to your network, implement the forward and backward pass, then demonstrate training.\n"
   ]
  },
  {
   "cell_type": "markdown",
   "metadata": {
    "cell_id": "00008-86ea4bdd-83dc-4197-baad-d216fbacc786",
    "deepnote_app_coordinates": {
     "h": 5,
     "w": 12,
     "x": 0,
     "y": 48
    },
    "deepnote_cell_type": "markdown",
    "id": "Pe-pcFeO-aiE"
   },
   "source": [
    "## Problem 6 [2p]\n",
    "Implement a way to have a _variable number_ of hidden layers. Check how deep sigmoid or ReLU networks you  can train. For simplicity you can assume that all hidden layers have the same number of neurons, and use the same activation function.\n"
   ]
  },
  {
   "cell_type": "markdown",
   "metadata": {
    "cell_id": "00009-64a0b978-7933-40be-89e4-a3d35d52c7ab",
    "deepnote_app_coordinates": {
     "h": 5,
     "w": 12,
     "x": 0,
     "y": 54
    },
    "deepnote_cell_type": "markdown",
    "id": "kIpn17Cm-aW7"
   },
   "source": [
    "## Problem 7 [2p]\n",
    "For each weight matrix $w\\in\\mathbb{R}^{n\\times m}$, add a randomly initialized `backward weight` $w_b\\in\\mathbb{R}^{m\\times n}$, which will not change during training. Change the backward pass to use $w_b$ instead of $w^T$, getting an approxmatoin of the true gradient. Can you get your network to train?\n",
    "\n",
    "NB: this approach, dubbed [feedback alignment](https://www.nature.com/articles/ncomms13276), was proposed to make error backpropagation more biologically plausible, by providing a solution to the \"weight transport problem\". Regular backpropagation requires that neurons not only know their incoming weights (thet they control), but also their outgoing weights (that are controlled by neurons in the upper layers). This is nearly impossible in a real brain."
   ]
  },
  {
   "cell_type": "markdown",
   "metadata": {
    "cell_id": "00010-954fd65b-4d81-4bbc-bf6b-4d10d50be9b8",
    "deepnote_app_coordinates": {
     "h": 5,
     "w": 12,
     "x": 0,
     "y": 60
    },
    "deepnote_cell_type": "markdown",
    "id": "rXJaoHSH0DZO"
   },
   "source": [
    "# Solutions and starter code"
   ]
  },
  {
   "cell_type": "code",
   "execution_count": 26,
   "metadata": {
    "cell_id": "00011-97f2c7fe-a3d5-4a6b-bc12-8a96bfeed475",
    "deepnote_app_coordinates": {
     "h": 5,
     "w": 12,
     "x": 0,
     "y": 66
    },
    "deepnote_cell_type": "code",
    "id": "YiTEWD2oqW0Y"
   },
   "outputs": [],
   "source": [
    "import matplotlib.pyplot as plt\n",
    "import numpy as np\n",
    "from numba.experimental import jitclass\n",
    "from numba import float32\n",
    "from tqdm import tqdm"
   ]
  },
  {
   "cell_type": "markdown",
   "metadata": {
    "cell_id": "00012-8bc44e88-e665-483d-89fc-c866879ad335",
    "deepnote_app_coordinates": {
     "h": 5,
     "w": 12,
     "x": 0,
     "y": 72
    },
    "deepnote_cell_type": "markdown",
    "id": "eqtfJKR40J3x"
   },
   "source": [
    "XOR dataset creation"
   ]
  },
  {
   "cell_type": "code",
   "execution_count": 3,
   "metadata": {
    "cell_id": "00013-3adfc55c-5dcc-476a-9e4a-328f2044ebc1",
    "colab": {
     "base_uri": "https://localhost:8080/",
     "height": 296
    },
    "deepnote_app_coordinates": {
     "h": 5,
     "w": 12,
     "x": 0,
     "y": 78
    },
    "deepnote_cell_type": "code",
    "id": "lYEbCfbSpv5M",
    "outputId": "48a99aad-e15b-4c7b-f881-bbfbe1941a15"
   },
   "outputs": [
    {
     "data": {
      "text/plain": [
       "(-0.05, 1.05, -0.05, 1.05)"
      ]
     },
     "execution_count": 3,
     "metadata": {},
     "output_type": "execute_result"
    },
    {
     "data": {
      "image/png": "[encoded data removed]",
      "text/plain": [
       "<Figure size 432x288 with 1 Axes>"
      ]
     },
     "metadata": {
      "needs_background": "light"
     },
     "output_type": "display_data"
    }
   ],
   "source": [
    "# Let's define a XOR dataset\n",
    "\n",
    "\n",
    "# X will be matrix of N 2-dimensional inputs\n",
    "X = np.array([[0, 0], [0, 1], [1, 0], [1, 1],], dtype=np.float32)\n",
    "# Y is a matrix of N numners - answers\n",
    "Y = np.array([[0], [1], [1], [0],], dtype=np.float32)\n",
    "\n",
    "plt.scatter(\n",
    "    X[:, 0], X[:, 1], c=Y[:, 0],\n",
    ")\n",
    "plt.xlabel(\"X[0]\")\n",
    "plt.ylabel(\"X[1]\")\n",
    "plt.axis(\"square\")"
   ]
  },
  {
   "cell_type": "markdown",
   "metadata": {
    "cell_id": "00014-fe501b87-4247-497d-a7c7-f528483d31cc",
    "deepnote_app_coordinates": {
     "h": 5,
     "w": 12,
     "x": 0,
     "y": 84
    },
    "deepnote_cell_type": "markdown",
    "id": "Rb3azMn929_I"
   },
   "source": [
    "## Problem 1"
   ]
  },
  {
   "cell_type": "markdown",
   "metadata": {
    "cell_id": "00015-97a3483d-0ae6-4bee-afd5-6226abc622a5",
    "deepnote_app_coordinates": {
     "h": 5,
     "w": 12,
     "x": 0,
     "y": 90
    },
    "deepnote_cell_type": "markdown",
    "id": "RZCM_hdELE04"
   },
   "source": [
    "The code below contains a mock-up of a two-layer neural network. Fill in the code and manually set weights to solve the XOR problem.\n",
    "\n",
    "Please note: the shapes are set to be compatible with PyTorch's conventions:\n",
    "* a batch containing $N$ $D$-dimensional examples has shape $N\\times D$ (each example is a row!)\n",
    "* a weight matrix in a linear layer with $I$ inputs and $O$ outputs has shape $O \\times I$\n",
    "* a bias vector is a 1D vector. Please note that [broadcasting rules](https://docs.scipy.org/doc/numpy/user/basics.broadcasting.html) allow us to think about it as a $1 \\times D$ matrix."
   ]
  },
  {
   "cell_type": "code",
   "execution_count": 20,
   "metadata": {
    "cell_id": "00016-87dd53c6-4f21-4286-8a85-61c2a92fa819",
    "deepnote_app_coordinates": {
     "h": 5,
     "w": 12,
     "x": 0,
     "y": 96
    },
    "deepnote_cell_type": "code",
    "id": "lrrRuk6zLiF0"
   },
   "outputs": [],
   "source": [
    "def sigmoid(x):\n",
    "    return 1/(1 + np.exp(-x))\n",
    "\n",
    "\n",
    "class SmallNet:\n",
    "    def __init__(self, in_features, num_hidden, dtype=np.float32):\n",
    "        self.W1 = np.zeros((num_hidden, in_features), dtype=dtype)\n",
    "        self.b1 = np.zeros((num_hidden,), dtype=dtype)\n",
    "        self.W2 = np.zeros((1, num_hidden), dtype=dtype)\n",
    "        self.b2 = np.zeros((1,), dtype=dtype)\n",
    "        self.init_params()\n",
    "\n",
    "    def init_params(self):\n",
    "        # TODO for Problem 2:\n",
    "        # set all parameters to small random values, e.g. from N(0, 0.5)\n",
    "        self.W1 = np.random.standard_normal(self.W1.shape) * 0.5\n",
    "        self.b1 = np.random.standard_normal(self.b1.shape) * 0.5\n",
    "        self.W2 = np.random.standard_normal(self.W2.shape) * 0.5\n",
    "        self.b2 = np.random.standard_normal(self.b2.shape) * 0.5\n",
    "        \n",
    "\n",
    "    def forward(self, X, Y=None, do_backward=False):\n",
    "        # TODO Problem 1: Fill in details of forward propagation\n",
    "\n",
    "        # Input to neurons in 1st layer\n",
    "        A1 = X @ self.W1.T + self.b1\n",
    "        # Outputs after the sigmoid non-linearity\n",
    "        O1 = sigmoid(A1)\n",
    "        # Inputs to neuron in the second layer\n",
    "        A2 = O1 @ self.W2.T + self.b2 \n",
    "        # Outputs after the sigmoid non-linearity\n",
    "        O2 = sigmoid(A2)\n",
    "\n",
    "        # When Y is none, simply return the predictions. Else compute the loss\n",
    "        if Y is not None:\n",
    "            loss = -Y * np.log(O2) - (1-Y) * np.log(1-O2) # TODO cross-entropy loss\n",
    "            # normalize loss by batch size\n",
    "            loss = loss.sum() / X.shape[0]\n",
    "        else:\n",
    "            loss = np.nan\n",
    "\n",
    "        if do_backward:\n",
    "            # TODO in Problem 2:\n",
    "            # fill in the gradient computation\n",
    "            # Please note, that there is a correspondance between\n",
    "            # the forward and backward pass: with backward computations happening\n",
    "            # in reverse order.\n",
    "            # We save the gradients with respect to the parameters as fields of self.\n",
    "            # It is not very elegant, but simplifies training code later on.\n",
    "\n",
    "            # A2_grad is the gradient of loss with respect to A2\n",
    "            # Hint: there is a concise formula for the gradient\n",
    "            # of logistic sigmoid and cross-entropy loss\n",
    "            A2_grad = O2 - Y\n",
    "            self.b2_grad = A2_grad.sum(0) / X.shape[0]\n",
    "            self.W2_grad = A2_grad.T @ O1 / X.shape[0]\n",
    "            O1_grad = A2_grad @ self.W2\n",
    "            A1_grad = O1_grad * O1 * (1 - O1)\n",
    "            self.b1_grad = A1_grad.sum(0) / X.shape[0]\n",
    "            self.W1_grad = A1_grad.T @ X / X.shape[0]\n",
    "\n",
    "        return O2, loss\n",
    "        "
   ]
  },
  {
   "cell_type": "code",
   "execution_count": 5,
   "metadata": {
    "cell_id": "00017-32ce9293-0a37-4397-aeac-25eef428e8d4",
    "colab": {
     "base_uri": "https://localhost:8080/"
    },
    "deepnote_app_coordinates": {
     "h": 5,
     "w": 12,
     "x": 0,
     "y": 102
    },
    "deepnote_cell_type": "code",
    "id": "jJswvBk0oiIY",
    "outputId": "e6559317-7afa-4509-fbac-4880e73b91cc"
   },
   "outputs": [
    {
     "name": "stdout",
     "output_type": "stream",
     "text": [
      "XORnet([0. 0.]) = 4.543910487654575e-05\n",
      "XORnet([0. 1.]) = 0.999954519621495\n",
      "XORnet([1. 0.]) = 0.999954519621495\n",
      "XORnet([1. 1.]) = 4.543910487654575e-05\n"
     ]
    }
   ],
   "source": [
    "# TODO Problem 1:\n",
    "# Set by hand the weight values to solve the XOR problem\n",
    "\n",
    "net = SmallNet(2, 2, dtype=np.float64)\n",
    "net.W1 = np.array([[20, 20],[20, 20]])\n",
    "net.b1 = np.array([-10, -30])\n",
    "net.W2 = np.array([[20, -20]])\n",
    "net.b2 = np.array([-10])\n",
    "\n",
    "# Hint: since we use the logistic sigmoid activation, the weights may need to\n",
    "# be fairly large\n",
    "predictions, loss = net.forward(X, Y, do_backward=True)\n",
    "for x, p in zip(X, predictions):\n",
    "    print(f\"XORnet({x}) = {p[0]}\")"
   ]
  },
  {
   "cell_type": "markdown",
   "metadata": {
    "cell_id": "00018-9f8740d2-90e7-4d20-a535-002df8547aba",
    "deepnote_app_coordinates": {
     "h": 5,
     "w": 12,
     "x": 0,
     "y": 108
    },
    "deepnote_cell_type": "markdown",
    "id": "wmxCi5Vl6_xB"
   },
   "source": [
    "## Problem 2"
   ]
  },
  {
   "cell_type": "code",
   "execution_count": 6,
   "metadata": {
    "cell_id": "00019-8f804996-a00a-4bb5-a524-ad056659e023",
    "deepnote_app_coordinates": {
     "h": 5,
     "w": 12,
     "x": 0,
     "y": 114
    },
    "deepnote_cell_type": "code",
    "id": "eSM5hgJ1mrhY"
   },
   "outputs": [],
   "source": [
    "def check_grad(net, param_name, X, Y, eps=1e-5):\n",
    "    \"\"\"A gradient checking routine\"\"\"\n",
    "\n",
    "    param = getattr(net, param_name)\n",
    "    param_flat_accessor = param.reshape(-1)\n",
    "\n",
    "    grad = np.zeros_like(param)\n",
    "    grad_flat_accessor = grad.reshape(-1)\n",
    "\n",
    "    net.forward(X, Y, do_backward=True)\n",
    "    orig_grad = getattr(net, param_name + \"_grad\")\n",
    "    assert param.shape == orig_grad.shape\n",
    "\n",
    "    for i in range(param_flat_accessor.shape[0]):\n",
    "        orig_val = param_flat_accessor[i]\n",
    "        param_flat_accessor[i] = orig_val + eps\n",
    "        _, loss_positive = net.forward(X, Y)\n",
    "        param_flat_accessor[i] = orig_val - eps\n",
    "        _, loss_negative = net.forward(X, Y)\n",
    "        param_flat_accessor[i] = orig_val\n",
    "        grad_flat_accessor[i] = (loss_positive - loss_negative) / (2 * eps)\n",
    "\n",
    "\n",
    "    assert np.allclose(grad, orig_grad)\n",
    "    return grad, orig_grad"
   ]
  },
  {
   "cell_type": "code",
   "execution_count": 7,
   "metadata": {
    "cell_id": "00020-1c4174cf-f129-4cad-adad-4734810a8ce1",
    "deepnote_app_coordinates": {
     "h": 5,
     "w": 12,
     "x": 0,
     "y": 120
    },
    "deepnote_cell_type": "code",
    "id": "TTZu0jFEvgXF"
   },
   "outputs": [],
   "source": [
    "# Hint: use float64 for checking the correctness of the gradient\n",
    "net = SmallNet(2, 2, dtype=np.float64)\n",
    "\n",
    "for param_name in [\"W1\", \"b1\", \"W2\", \"b2\"]:\n",
    "    check_grad(net, param_name, X, Y)"
   ]
  },
  {
   "cell_type": "markdown",
   "metadata": {
    "cell_id": "00021-145837f8-c83f-4aab-8e62-0114e59f30fe",
    "deepnote_app_coordinates": {
     "h": 5,
     "w": 12,
     "x": 0,
     "y": 126
    },
    "deepnote_cell_type": "markdown",
    "id": "8mUOs3cVvjM2"
   },
   "source": [
    "## Problem 3"
   ]
  },
  {
   "cell_type": "code",
   "execution_count": 8,
   "metadata": {
    "cell_id": "00022-91b3eba0-6025-4839-847c-f5cb275fad07",
    "colab": {
     "base_uri": "https://localhost:8080/"
    },
    "deepnote_app_coordinates": {
     "h": 5,
     "w": 12,
     "x": 0,
     "y": 132
    },
    "deepnote_cell_type": "code",
    "id": "nn2AAoZo0vjU",
    "outputId": "7b6b5a9a-dea5-4357-e8c1-36a34c7c272a"
   },
   "outputs": [
    {
     "name": "stdout",
     "output_type": "stream",
     "text": [
      "after 0 steps \tloss=0.7000094893230879\n",
      "after 5000 steps \tloss=0.0016854397664548466\n",
      "after 10000 steps \tloss=0.0007889465324727282\n",
      "after 15000 steps \tloss=0.0005086587620667573\n",
      "after 20000 steps \tloss=0.00037298243721898335\n",
      "after 25000 steps \tloss=0.0002933393891413528\n",
      "after 30000 steps \tloss=0.00024111970493297168\n",
      "after 35000 steps \tloss=0.00020431832929697783\n",
      "after 40000 steps \tloss=0.0001770278051701008\n",
      "after 45000 steps \tloss=0.00015600821871180777\n",
      "after 50000 steps \tloss=0.00013933656144413489\n",
      "after 55000 steps \tloss=0.00012580050548778707\n",
      "after 60000 steps \tloss=0.00011459848062412008\n",
      "after 65000 steps \tloss=0.00010517964382566274\n",
      "after 70000 steps \tloss=9.715316488501303e-05\n",
      "after 75000 steps \tloss=9.02341875136118e-05\n",
      "after 80000 steps \tloss=8.421027412916293e-05\n",
      "after 85000 steps \tloss=7.89198225284126e-05\n",
      "after 90000 steps \tloss=7.423775576705975e-05\n",
      "after 95000 steps \tloss=7.006578078725038e-05\n"
     ]
    }
   ],
   "source": [
    "net = SmallNet(2, 10, dtype=np.float64)\n",
    "\n",
    "alpha = 1  # set a learning rate\n",
    "\n",
    "for i in range(100000):\n",
    "    _, loss = net.forward(X, Y, do_backward=True)\n",
    "    if (i % 5000) == 0:\n",
    "        print(f\"after {i} steps \\tloss={loss}\")\n",
    "    for param_name in [\"W1\", \"b1\", \"W2\", \"b2\"]:\n",
    "        param = getattr(net, param_name)\n",
    "        # Hint: use the construct `param[:]` to change the contents of the array!\n",
    "        # Doing instead `param = new_val` simply changes to what the variable\n",
    "        # param points to, without affecting the network!\n",
    "        # alternatively, you could do setattr(net, param_name, new_value)\n",
    "        param_grad = getattr(net, param_name + \"_grad\")\n",
    "        param[:] = param - alpha * param_grad"
   ]
  },
  {
   "cell_type": "code",
   "execution_count": 9,
   "metadata": {
    "cell_id": "00023-c92941a8-24d1-46e8-a410-d189c1d87b08",
    "colab": {
     "base_uri": "https://localhost:8080/"
    },
    "deepnote_app_coordinates": {
     "h": 5,
     "w": 12,
     "x": 0,
     "y": 138
    },
    "deepnote_cell_type": "code",
    "id": "TwpEjpkU1JvK",
    "outputId": "dc044de9-81c1-4944-d9a2-5dcc72bf9a57"
   },
   "outputs": [
    {
     "name": "stdout",
     "output_type": "stream",
     "text": [
      "XORnet([0. 0.]) = 4.349562478594154e-05\n",
      "XORnet([0. 1.]) = 0.9999404430628491\n",
      "XORnet([1. 0.]) = 0.9999270237816725\n",
      "XORnet([1. 1.]) = 8.926426025787873e-05\n"
     ]
    }
   ],
   "source": [
    "predictions, loss = net.forward(X, Y, do_backward=True)\n",
    "for x, p in zip(X, predictions):\n",
    "    print(f\"XORnet({x}) = {p[0]}\")"
   ]
  },
  {
   "cell_type": "code",
   "execution_count": 48,
   "metadata": {},
   "outputs": [],
   "source": [
    "def gradient_descent(net, X, Y, params = [\"W1\", \"b1\", \"W2\", \"b2\"], iterations=100000, alpha = 1, debug=False):\n",
    "    losses = []\n",
    "    for i in range(iterations):\n",
    "        _, loss = net.forward(X, Y, do_backward=True)\n",
    "        losses.append(loss)\n",
    "        if (i % 5000) == 0 and debug:\n",
    "            print(f\"after {i} steps \\tloss={loss}\")\n",
    "        for param_name in params:\n",
    "            param = getattr(net, param_name)\n",
    "            # Hint: use the construct `param[:]` to change the contents of the array!\n",
    "            # Doing instead `param = new_val` simply changes to what the variable\n",
    "            # param points to, without affecting the network!\n",
    "            # alternatively, you could do setattr(net, param_name, new_value)\n",
    "            param_grad = getattr(net, param_name + \"_grad\")\n",
    "            param[:] = param - alpha * param_grad\n",
    "    predictions, loss = net.forward(X,Y)\n",
    "    return predictions, loss, losses"
   ]
  },
  {
   "cell_type": "code",
   "execution_count": 10,
   "metadata": {
    "cell_id": "00024-e09655a3-84e1-4a43-9b61-00edb56c6054",
    "deepnote_app_coordinates": {
     "h": 5,
     "w": 12,
     "x": 0,
     "y": 144
    },
    "deepnote_cell_type": "code",
    "id": "U0ZMyHqz8xrC"
   },
   "outputs": [
    {
     "name": "stdout",
     "output_type": "stream",
     "text": [
      "0.0011099884327728832\n",
      "0.00020988406255815898\n",
      "5.436684974767829e-05\n",
      "4.4579895617252746e-05\n",
      "3.544222632836862e-05\n"
     ]
    },
    {
     "data": {
      "image/png": "[encoded data removed]",
      "text/plain": [
       "<Figure size 720x360 with 1 Axes>"
      ]
     },
     "metadata": {
      "needs_background": "light"
     },
     "output_type": "display_data"
    }
   ],
   "source": [
    "# TODO:\n",
    "# Generate data for a 3D XOR task\n",
    "# Then estimate the success rate of training the network with diferent\n",
    "# hidden sizes.\n",
    "\n",
    "X3 = np.array([[0,0,1], [0,1,0], [1,0,0], [1,1,1], [0,0,0], [1,1,0], [1,0,1], [0,1,1]])\n",
    "Y3 = np.array([[1]] * 4 + [[0]] * 4)\n",
    "\n",
    "plt.figure(figsize=(10,5))\n",
    "for hidden_dim in [2, 3, 5, 10, 20]:\n",
    "    net = SmallNet(3, hidden_dim)\n",
    "    predictions, loss, losses = gradient_descent(net, X3, Y3, alpha=1)\n",
    "    plt.plot(losses, label=hidden_dim)\n",
    "    print(loss)\n",
    "plt.legend()\n",
    "plt.show()"
   ]
  },
  {
   "cell_type": "markdown",
   "metadata": {
    "cell_id": "00025-9703bd09-6aae-4830-8221-09b53a623e4b",
    "deepnote_app_coordinates": {
     "h": 5,
     "w": 12,
     "x": 0,
     "y": 150
    },
    "deepnote_cell_type": "markdown",
    "id": "UuaLEoV-9DLG"
   },
   "source": [
    "## Problem 4\n"
   ]
  },
  {
   "cell_type": "code",
   "execution_count": 34,
   "metadata": {
    "cell_id": "00026-1a2be430-91e0-4209-ab3f-9ef84c39513b",
    "deepnote_app_coordinates": {
     "h": 5,
     "w": 12,
     "x": 0,
     "y": 156
    },
    "deepnote_cell_type": "code",
    "id": "w3lk9_TM-MvK"
   },
   "outputs": [],
   "source": [
    "def relu(x):\n",
    "    return x * (x > 0)\n",
    "\n",
    "def d_relu(x):\n",
    "    return 1. * (x > 0)\n",
    "\n",
    "\n",
    "class SmallReluNet:\n",
    "    def __init__(self, in_features, num_hidden, dtype=np.float32):\n",
    "        self.W1 = np.zeros((num_hidden, in_features), dtype=dtype)\n",
    "        self.b1 = np.zeros((num_hidden,), dtype=dtype)\n",
    "        self.W2 = np.zeros((1, num_hidden), dtype=dtype)\n",
    "        self.b2 = np.zeros((1,), dtype=dtype)\n",
    "        self.init_params()\n",
    "\n",
    "    def init_params(self):\n",
    "        # TODO for Problem 2:\n",
    "        # set all parameters to small random values, e.g. from N(0, 0.5)\n",
    "        self.W1 = np.random.standard_normal(self.W1.shape) * 0.5\n",
    "        self.b1 = np.random.standard_normal(self.b1.shape) * 0.5\n",
    "        self.W2 = np.random.standard_normal(self.W2.shape) * 0.5\n",
    "        self.b2 = np.random.standard_normal(self.b2.shape) * 0.5\n",
    "        \n",
    "\n",
    "    def forward(self, X, Y=None, do_backward=False):\n",
    "        # TODO Problem 1: Fill in details of forward propagation\n",
    "\n",
    "        # Input to neurons in 1st layer\n",
    "        A1 = X @ self.W1.T + self.b1\n",
    "        # Outputs after the sigmoid non-linearity\n",
    "        O1 = relu(A1)\n",
    "        # Inputs to neuron in the second layer\n",
    "        A2 = O1 @ self.W2.T + self.b2 \n",
    "        # Outputs after the sigmoid non-linearity\n",
    "        O2 = sigmoid(A2)\n",
    "\n",
    "        # When Y is none, simply return the predictions. Else compute the loss\n",
    "        if Y is not None:\n",
    "            loss = -Y * np.log(O2) - (1-Y) * np.log(1-O2) # TODO cross-entropy loss\n",
    "            # normalize loss by batch size\n",
    "            loss = loss.sum() / X.shape[0]\n",
    "        else:\n",
    "            loss = np.nan\n",
    "\n",
    "        if do_backward:\n",
    "            A2_grad = O2 - Y\n",
    "            self.b2_grad = A2_grad.sum(0) / X.shape[0]\n",
    "            self.W2_grad = A2_grad.T @ O1 / X.shape[0]\n",
    "            O1_grad = A2_grad @ self.W2\n",
    "            A1_grad = O1_grad * d_relu(A1)\n",
    "            self.b1_grad = A1_grad.sum(0) / X.shape[0]\n",
    "            self.W1_grad = A1_grad.T @ X / X.shape[0]\n",
    "\n",
    "        return O2, loss"
   ]
  },
  {
   "cell_type": "code",
   "execution_count": 15,
   "metadata": {},
   "outputs": [
    {
     "name": "stdout",
     "output_type": "stream",
     "text": [
      "2 0.5753152172909426\n",
      "3 0.2813309801414134\n",
      "5 0.0008942384363761879\n",
      "10 0.0004856772302621924\n",
      "20 0.0004448099776332117\n"
     ]
    },
    {
     "data": {
      "image/png": "[encoded data removed]",
      "text/plain": [
       "<Figure size 720x360 with 1 Axes>"
      ]
     },
     "metadata": {
      "needs_background": "light"
     },
     "output_type": "display_data"
    }
   ],
   "source": [
    "plt.figure(figsize=(10,5))\n",
    "for hidden_dim in [2, 3, 5, 10, 20]:\n",
    "    net = SmallReluNet(3, hidden_dim)\n",
    "    predictions, loss, losses = gradient_descent(net, X3, Y3, iterations=10000, alpha=0.3)\n",
    "    plt.plot(losses, label=hidden_dim)\n",
    "    print(hidden_dim, loss)\n",
    "plt.legend()\n",
    "plt.show()"
   ]
  },
  {
   "cell_type": "markdown",
   "metadata": {
    "cell_id": "00027-de8a387d-3b6a-48d5-b6c8-fddf13637e38",
    "deepnote_app_coordinates": {
     "h": 5,
     "w": 12,
     "x": 0,
     "y": 162
    },
    "deepnote_cell_type": "markdown",
    "id": "_Hr_iAKX-ND1"
   },
   "source": [
    "## Problem 5"
   ]
  },
  {
   "cell_type": "code",
   "execution_count": 3,
   "metadata": {},
   "outputs": [],
   "source": [
    "class TwoLayerReluNet:\n",
    "    def __init__(self, in_features, num_hidden_1, num_hidden_2, dtype=np.float32):\n",
    "        self.W1 = np.zeros((num_hidden_1, in_features), dtype=dtype)\n",
    "        self.b1 = np.zeros((num_hidden_1,), dtype=dtype)\n",
    "        self.W2 = np.zeros((num_hidden_2, num_hidden_1), dtype=dtype)\n",
    "        self.b2 = np.zeros((num_hidden_2,), dtype=dtype)\n",
    "        self.W3 = np.zeros((1, num_hidden_2))\n",
    "        self.b3 = np.zeros((1,))\n",
    "        self.init_params()\n",
    "\n",
    "    def init_params(self):\n",
    "        # TODO for Problem 2:\n",
    "        # set all parameters to small random values, e.g. from N(0, 0.5)\n",
    "        self.W1 = np.random.standard_normal(self.W1.shape) * 0.5\n",
    "        self.b1 = np.random.standard_normal(self.b1.shape) * 0.5\n",
    "        self.W2 = np.random.standard_normal(self.W2.shape) * 0.5\n",
    "        self.b2 = np.random.standard_normal(self.b2.shape) * 0.5\n",
    "        self.W3 = np.random.standard_normal(self.W3.shape) * 0.5\n",
    "        self.b3 = np.random.standard_normal(self.b3.shape) * 0.5\n",
    "        \n",
    "\n",
    "    def forward(self, X, Y=None, do_backward=False):\n",
    "        A1 = X @ self.W1.T + self.b1\n",
    "        O1 = relu(A1)\n",
    "        A2 = O1 @ self.W2.T + self.b2 \n",
    "        O2 = relu(A2)\n",
    "        A3 = O2 @ self.W3.T + self.b3\n",
    "        O3 = sigmoid(A3)\n",
    "\n",
    "        # When Y is none, simply return the predictions. Else compute the loss\n",
    "        if Y is not None:\n",
    "            loss = -Y * np.log(O3) - (1-Y) * np.log(1-O3) # TODO cross-entropy loss\n",
    "            # normalize loss by batch size\n",
    "            loss = loss.sum() / X.shape[0]\n",
    "        else:\n",
    "            loss = np.nan\n",
    "\n",
    "        if do_backward:\n",
    "            A3_grad = O3 - Y\n",
    "            self.b3_grad = A3_grad.sum(0) / X.shape[0]\n",
    "            self.W3_grad = A3_grad.T @ O3 / X.shape[0]\n",
    "            O2_grad = A3_grad @ self.W3\n",
    "            A2_grad = O2_grad * d_relu(A2)\n",
    "            self.b2_grad = A2_grad.sum(0) / X.shape[0]\n",
    "            self.W2_grad = A2_grad.T @ O1 / X.shape[0]\n",
    "            O1_grad = A2_grad @ self.W2\n",
    "            A1_grad = O1_grad * d_relu(A1)\n",
    "            self.b1_grad = A1_grad.sum(0) / X.shape[0]\n",
    "            self.W1_grad = A1_grad.T @ X / X.shape[0]\n",
    "\n",
    "        return O3, loss"
   ]
  },
  {
   "cell_type": "code",
   "execution_count": 50,
   "metadata": {
    "cell_id": "00028-0aa6ea62-907d-44bf-9ba4-71870d3dd547",
    "deepnote_app_coordinates": {
     "h": 5,
     "w": 12,
     "x": 0,
     "y": 168
    },
    "deepnote_cell_type": "code",
    "id": "rnz6CndQ-NRI"
   },
   "outputs": [],
   "source": [
    "class TwoLayerNet:\n",
    "    def __init__(self, in_features, num_hidden_1, num_hidden_2, dtype=np.float32):\n",
    "        self.W1 = np.zeros((num_hidden_1, in_features), dtype=dtype)\n",
    "        self.b1 = np.zeros((num_hidden_1,), dtype=dtype)\n",
    "        self.W2 = np.zeros((num_hidden_2, num_hidden_1), dtype=dtype)\n",
    "        self.b2 = np.zeros((num_hidden_2,), dtype=dtype)\n",
    "        self.W3 = np.zeros((1, num_hidden_2))\n",
    "        self.b3 = np.zeros((1,))\n",
    "        self.init_params()\n",
    "\n",
    "    def init_params(self):\n",
    "        self.W1 = np.random.standard_normal(self.W1.shape) * 0.5\n",
    "        self.b1 = np.random.standard_normal(self.b1.shape) * 0.5\n",
    "        self.W2 = np.random.standard_normal(self.W2.shape) * 0.5\n",
    "        self.b2 = np.random.standard_normal(self.b2.shape) * 0.5\n",
    "        self.W3 = np.random.standard_normal(self.W3.shape) * 0.5\n",
    "        self.b3 = np.random.standard_normal(self.b3.shape) * 0.5\n",
    "        \n",
    "\n",
    "    def forward(self, X, Y=None, do_backward=False):\n",
    "        A1 = X @ self.W1.T + self.b1\n",
    "        O1 = sigmoid(A1)\n",
    "        A2 = O1 @ self.W2.T + self.b2 \n",
    "        O2 = sigmoid(A2)\n",
    "        A3 = O2 @ self.W3.T + self.b3\n",
    "        O3 = sigmoid(A3)\n",
    "\n",
    "        # When Y is none, simply return the predictions. Else compute the loss\n",
    "        if Y is not None:\n",
    "            loss = -Y * np.log(O3) - (1-Y) * np.log(1-O3) # TODO cross-entropy loss\n",
    "            # normalize loss by batch size\n",
    "            loss = loss.sum() / X.shape[0]\n",
    "        else:\n",
    "            loss = np.nan\n",
    "\n",
    "        if do_backward:\n",
    "            A3_grad = O3 - Y\n",
    "            self.b3_grad = A3_grad.sum(0) / X.shape[0]\n",
    "            self.W3_grad = A3_grad.T @ O2 / X.shape[0]\n",
    "            O2_grad = A3_grad @ self.W3\n",
    "            A2_grad = O2_grad * O2 * (1 - O2)\n",
    "            self.b2_grad = A2_grad.sum(0) / X.shape[0]\n",
    "            self.W2_grad = A2_grad.T @ O1 / X.shape[0]\n",
    "            O1_grad = A2_grad @ self.W2\n",
    "            A1_grad = O1_grad * O1 * (1-O1)\n",
    "            self.b1_grad = A1_grad.sum(0) / X.shape[0]\n",
    "            self.W1_grad = A1_grad.T @ X / X.shape[0]\n",
    "\n",
    "        return O3, loss"
   ]
  },
  {
   "cell_type": "code",
   "execution_count": 56,
   "metadata": {},
   "outputs": [
    {
     "name": "stdout",
     "output_type": "stream",
     "text": [
      "0.0004903100261699756\n"
     ]
    },
    {
     "data": {
      "image/png": "[encoded data removed]",
      "text/plain": [
       "<Figure size 720x360 with 1 Axes>"
      ]
     },
     "metadata": {
      "needs_background": "light"
     },
     "output_type": "display_data"
    }
   ],
   "source": [
    "# TODO:\n",
    "# Generate data for a 3D XOR task\n",
    "# Then estimate the success rate of training the network with diferent\n",
    "# hidden sizes.\n",
    "\n",
    "X3 = np.array([[0,0,1], [0,1,0], [1,0,0], [1,1,1], [0,0,0], [1,1,0], [1,0,1], [0,1,1]])\n",
    "Y3 = np.array([[1]] * 4 + [[0]] * 4)\n",
    "\n",
    "net = TwoLayerNet(3, 5, 5)\n",
    "params = [\"W1\", \"b1\", \"W2\", \"b2\", \"W3\", \"b3\"]\n",
    "predictions, loss, losses = gradient_descent(net, X3, Y3, alpha=0.1, params=params, iterations=50000, debug=False)\n",
    "\n",
    "\n",
    "plt.figure(figsize=(10,5))\n",
    "plt.plot(losses)\n",
    "print(loss)\n",
    "# plt.legend()\n",
    "plt.show()"
   ]
  },
  {
   "cell_type": "markdown",
   "metadata": {
    "cell_id": "00029-1de44bc6-5f35-4df3-af9a-408291ccc867",
    "deepnote_app_coordinates": {
     "h": 5,
     "w": 12,
     "x": 0,
     "y": 174
    },
    "deepnote_cell_type": "markdown",
    "id": "4PcNxrCt-NcN"
   },
   "source": [
    "## Problem 6"
   ]
  },
  {
   "cell_type": "code",
   "execution_count": 76,
   "metadata": {
    "cell_id": "00030-fdaced74-34ab-4cfc-8fa2-f3a0b012fbf2",
    "deepnote_app_coordinates": {
     "h": 5,
     "w": 12,
     "x": 0,
     "y": 180
    },
    "deepnote_cell_type": "code",
    "id": "6Brepirl-Nln"
   },
   "outputs": [],
   "source": [
    "class NLayerNet:\n",
    "    def __init__(self, in_features, nums_hidden, dtype=np.float32):\n",
    "        self.W = [np.zeros((nums_hidden[0], in_features), dtype=dtype)]\n",
    "        self.b = [np.zeros((nums_hidden[0],), dtype=dtype)]\n",
    "        for i in range(1, len(nums_hidden)):\n",
    "            n_out = nums_hidden[i]\n",
    "            n_in = nums_hidden[i-1]\n",
    "            self.W.append(np.zeros((n_out, n_in), dtype=dtype))\n",
    "            self.b.append(np.zeros((n_out,), dtype=dtype))\n",
    "\n",
    "        self.W.append(np.zeros((1, nums_hidden[-1]), dtype=dtype))\n",
    "        self.b.append(np.zeros((1,), dtype=dtype))\n",
    "\n",
    "        self.init_params()\n",
    "\n",
    "    def init_params(self):\n",
    "        for i in range(len(self.W)):\n",
    "            self.W[i] = np.random.standard_normal(self.W[i].shape) * 0.5\n",
    "            self.b[i] = np.random.standard_normal(self.b[i].shape) * 0.5\n",
    "\n",
    "    def forward(self, X, Y=None, do_backward=False):\n",
    "        A = [X @ self.W[0].T + self.b[0]]\n",
    "        O = [sigmoid(A[0])]\n",
    "\n",
    "        for i in range(1, len(self.W)):\n",
    "            a = O[i-1] @ self.W[i].T + self.b[i]\n",
    "            o = sigmoid(a)\n",
    "\n",
    "            A.append(a)\n",
    "            O.append(o)\n",
    "\n",
    "        # When Y is none, simply return the predictions. Else compute the loss\n",
    "        if Y is not None:\n",
    "            loss = -Y * np.log(O[-1]) - (1-Y) * np.log(1-O[-1]) # TODO cross-entropy loss\n",
    "            # normalize loss by batch size\n",
    "            loss = loss.sum() / X.shape[0]\n",
    "        else:\n",
    "            loss = np.nan\n",
    "\n",
    "        if do_backward:\n",
    "            self.b_grad = [None] * len(self.b)\n",
    "            self.W_grad = [None] * len(self.W)\n",
    "\n",
    "\n",
    "            A_grad = O[-1] - Y\n",
    "\n",
    "\n",
    "            for i in range(len(self.W)-1, 0 , -1):\n",
    "                self.b_grad[i] = A_grad.sum(0) / X.shape[0]\n",
    "                self.W_grad[i] = A_grad.T @ O[i-1] / X.shape[0]\n",
    "                O_grad = A_grad @ self.W[i]\n",
    "                A_grad = O_grad * O[i-1] * (1 - O[i-1])\n",
    "                \n",
    "\n",
    "            self.b_grad[0] = A_grad.sum(0) / X.shape[0]\n",
    "            self.W_grad[0] = A_grad.T @ X / X.shape[0]\n",
    "\n",
    "            \n",
    "            # O2_grad = A3_grad @ self.W3\n",
    "            # A2_grad = O2_grad * O2 * (1 - O2)\n",
    "            # self.b2_grad = A2_grad.sum(0) / X.shape[0]\n",
    "            # self.W2_grad = A2_grad.T @ O1 / X.shape[0]\n",
    "            # O1_grad = A2_grad @ self.W2\n",
    "            # A1_grad = O1_grad * O1 * (1-O1)\n",
    "            # self.b1_grad = A1_grad.sum(0) / X.shape[0]\n",
    "            # self.W1_grad = A1_grad.T @ X / X.shape[0]\n",
    "\n",
    "        return O[-1], loss"
   ]
  },
  {
   "cell_type": "code",
   "execution_count": 77,
   "metadata": {},
   "outputs": [],
   "source": [
    "def gradient_descent_2(net, X, Y, iterations=100000, alpha = 1, debug=False):\n",
    "    losses = []\n",
    "    for i in range(iterations):\n",
    "        _, loss = net.forward(X, Y, do_backward=True)\n",
    "        losses.append(loss)\n",
    "        if (i % 5000) == 0 and debug:\n",
    "            print(f\"after {i} steps \\tloss={loss}\")\n",
    "            \n",
    "        for i in range(len(net.W)):\n",
    "            net.b[i] -= alpha * net.b_grad[i]\n",
    "            net.W[i] -= alpha * net.W_grad[i]\n",
    "    predictions, loss = net.forward(X,Y)\n",
    "    return predictions, loss, losses"
   ]
  },
  {
   "cell_type": "code",
   "execution_count": 83,
   "metadata": {},
   "outputs": [
    {
     "name": "stdout",
     "output_type": "stream",
     "text": [
      "layers: 1, loss: 0.0005625510540331678\n",
      "layers: 2, loss: 0.00019928371681184943\n",
      "layers: 3, loss: 0.00022107513677290292\n",
      "layers: 5, loss: 0.6931484088186654\n",
      "layers: 10, loss: 0.6931471821512042\n",
      "layers: 20, loss: 0.6931471805599454\n",
      "layers: 50, loss: 0.6931471805599453\n"
     ]
    },
    {
     "data": {
      "image/png": "[encoded data removed]",
      "text/plain": [
       "<Figure size 720x360 with 1 Axes>"
      ]
     },
     "metadata": {
      "needs_background": "light"
     },
     "output_type": "display_data"
    }
   ],
   "source": [
    "plt.figure(figsize=(10,5))\n",
    "for num_layers in [1,2,3,5,10,20,50]:\n",
    "    layers = [5] * num_layers\n",
    "    net = NLayerNet(3, layers)\n",
    "    predictions, loss, losses = gradient_descent_2(net, X3, Y3, alpha=0.1, iterations=100000, debug=False)\n",
    "    plt.plot(losses, label=num_layers)\n",
    "    print(f\"layers: {num_layers}, loss: {loss}\")\n",
    "\n",
    "plt.legend()\n",
    "plt.show()"
   ]
  },
  {
   "cell_type": "code",
   "execution_count": 88,
   "metadata": {},
   "outputs": [
    {
     "name": "stdout",
     "output_type": "stream",
     "text": [
      "after 0 steps \tloss=0.8098901961519345\n",
      "after 5000 steps \tloss=0.6931466264803804\n",
      "after 10000 steps \tloss=0.693146397992347\n",
      "after 15000 steps \tloss=0.6931461416623613\n",
      "after 20000 steps \tloss=0.6931458455475229\n",
      "after 25000 steps \tloss=0.693145492925324\n",
      "after 30000 steps \tloss=0.6931450594300668\n",
      "after 35000 steps \tloss=0.6931445080939259\n",
      "after 40000 steps \tloss=0.6931437803255021\n",
      "after 45000 steps \tloss=0.6931427785398316\n",
      "after 50000 steps \tloss=0.693141330380356\n",
      "after 55000 steps \tloss=0.6931391086933054\n",
      "after 60000 steps \tloss=0.6931354329860038\n",
      "after 65000 steps \tloss=0.6931287055853568\n",
      "after 70000 steps \tloss=0.6931144829888206\n",
      "after 75000 steps \tloss=0.6930767159965998\n",
      "after 80000 steps \tloss=0.6929185878197964\n",
      "after 85000 steps \tloss=0.6854389750771719\n",
      "after 90000 steps \tloss=0.0015089812708723258\n",
      "after 95000 steps \tloss=0.0005548965311488589\n"
     ]
    },
    {
     "data": {
      "image/png": "[encoded data removed]",
      "text/plain": [
       "<Figure size 720x360 with 1 Axes>"
      ]
     },
     "metadata": {
      "needs_background": "light"
     },
     "output_type": "display_data"
    }
   ],
   "source": [
    "layers = [5] * 4\n",
    "net = NLayerNet(3, layers)\n",
    "predictions, loss, losses = gradient_descent_2(net, X3, Y3, alpha=0.3, iterations=100000, debug=True)\n",
    "plt.figure(figsize=(10,5))\n",
    "plt.plot(losses)\n",
    "plt.show()"
   ]
  },
  {
   "cell_type": "code",
   "execution_count": 90,
   "metadata": {},
   "outputs": [
    {
     "name": "stdout",
     "output_type": "stream",
     "text": [
      "after 0 steps \tloss=0.73411267162899\n",
      "after 5000 steps \tloss=0.6931464287615523\n",
      "after 10000 steps \tloss=0.693146346217467\n",
      "after 15000 steps \tloss=0.693146258995531\n",
      "after 20000 steps \tloss=0.6931461664378127\n",
      "after 25000 steps \tloss=0.6931460678007988\n",
      "after 30000 steps \tloss=0.6931459622390379\n",
      "after 35000 steps \tloss=0.6931458487852755\n",
      "after 40000 steps \tloss=0.693145726326148\n",
      "after 45000 steps \tloss=0.6931455935722322\n",
      "after 50000 steps \tloss=0.6931454490208497\n",
      "after 55000 steps \tloss=0.6931452909095221\n",
      "after 60000 steps \tloss=0.693145117157226\n",
      "after 65000 steps \tloss=0.6931449252896043\n",
      "after 70000 steps \tloss=0.6931447123428471\n",
      "after 75000 steps \tloss=0.6931444747388995\n",
      "after 80000 steps \tloss=0.6931442081216589\n",
      "after 85000 steps \tloss=0.6931439071393939\n",
      "after 90000 steps \tloss=0.6931435651519451\n",
      "after 95000 steps \tloss=0.693143173831039\n",
      "after 100000 steps \tloss=0.6931427226060292\n",
      "after 105000 steps \tloss=0.6931421978817106\n",
      "after 110000 steps \tloss=0.6931415819126678\n",
      "after 115000 steps \tloss=0.6931408511472628\n",
      "after 120000 steps \tloss=0.6931399737297417\n",
      "after 125000 steps \tloss=0.6931389056231849\n",
      "after 130000 steps \tloss=0.6931375843895902\n",
      "after 135000 steps \tloss=0.6931359188180793\n",
      "after 140000 steps \tloss=0.6931337708189194\n",
      "after 145000 steps \tloss=0.6931309220222766\n",
      "after 150000 steps \tloss=0.6931270078360752\n",
      "after 155000 steps \tloss=0.693121375642815\n",
      "after 160000 steps \tloss=0.6931127439523133\n",
      "after 165000 steps \tloss=0.6930982487750047\n",
      "after 170000 steps \tloss=0.6930701121941286\n",
      "after 175000 steps \tloss=0.6929988545349439\n",
      "after 180000 steps \tloss=0.692645336270298\n",
      "after 185000 steps \tloss=0.33256244136621216\n",
      "after 190000 steps \tloss=0.000895770252614739\n",
      "after 195000 steps \tloss=0.00042765963918810245\n",
      "after 200000 steps \tloss=0.00027757149602282736\n",
      "after 205000 steps \tloss=0.00020426696774675313\n",
      "after 210000 steps \tloss=0.0001610291206674033\n",
      "after 215000 steps \tloss=0.00013259065697922637\n",
      "after 220000 steps \tloss=0.00011250369738139082\n",
      "after 225000 steps \tloss=9.758205024568083e-05\n",
      "after 230000 steps \tloss=8.607303645158261e-05\n",
      "after 235000 steps \tloss=7.693400753518915e-05\n",
      "after 240000 steps \tloss=6.950645070575247e-05\n",
      "after 245000 steps \tloss=6.335431693679628e-05\n",
      "after 250000 steps \tloss=5.817757131163649e-05\n",
      "after 255000 steps \tloss=5.3763101938232886e-05\n",
      "after 260000 steps \tloss=4.9955432850379704e-05\n",
      "after 265000 steps \tloss=4.6638515204505e-05\n",
      "after 270000 steps \tloss=4.3724002067193113e-05\n",
      "after 275000 steps \tloss=4.114346677964627e-05\n",
      "after 280000 steps \tloss=3.884310109790855e-05\n",
      "after 285000 steps \tloss=3.678001857692771e-05\n",
      "after 290000 steps \tloss=3.491962398794733e-05\n",
      "after 295000 steps \tloss=3.3233706929556775e-05\n",
      "after 300000 steps \tloss=3.169903748516437e-05\n",
      "after 305000 steps \tloss=3.029631633194869e-05\n",
      "after 310000 steps \tloss=2.90093792554471e-05\n",
      "after 315000 steps \tloss=2.7824587022349434e-05\n",
      "after 320000 steps \tloss=2.673035216273866e-05\n",
      "after 325000 steps \tloss=2.5716768153318747e-05\n",
      "after 330000 steps \tloss=2.4775316080305073e-05\n",
      "after 335000 steps \tloss=2.3898630551664184e-05\n",
      "after 340000 steps \tloss=2.3080311369471204e-05\n",
      "after 345000 steps \tloss=2.231477086738249e-05\n",
      "after 350000 steps \tloss=2.1597109283813078e-05\n",
      "after 355000 steps \tloss=2.092301235077093e-05\n",
      "after 360000 steps \tloss=2.0288666616090198e-05\n",
      "after 365000 steps \tloss=1.9690689022361285e-05\n",
      "after 370000 steps \tloss=1.9126068022108582e-05\n",
      "after 375000 steps \tloss=1.8592114085198348e-05\n",
      "after 380000 steps \tloss=1.808641789881419e-05\n",
      "after 385000 steps \tloss=1.760681490186177e-05\n",
      "after 390000 steps \tloss=1.715135506272533e-05\n",
      "after 395000 steps \tloss=1.671827701938608e-05\n",
      "after 400000 steps \tloss=1.630598586469864e-05\n",
      "after 405000 steps \tloss=1.591303399308202e-05\n",
      "after 410000 steps \tloss=1.55381045267393e-05\n",
      "after 415000 steps \tloss=1.5179996926846312e-05\n",
      "after 420000 steps \tloss=1.4837614460116723e-05\n",
      "after 425000 steps \tloss=1.4509953248914746e-05\n",
      "after 430000 steps \tloss=1.4196092676055636e-05\n",
      "after 435000 steps \tloss=1.3895186952809763e-05\n",
      "after 440000 steps \tloss=1.3606457689631244e-05\n",
      "after 445000 steps \tloss=1.33291873330869e-05\n",
      "after 450000 steps \tloss=1.3062713353307222e-05\n",
      "after 455000 steps \tloss=1.2806423084503698e-05\n",
      "after 460000 steps \tloss=1.2559749133671098e-05\n",
      "after 465000 steps \tloss=1.2322165287207418e-05\n",
      "after 470000 steps \tloss=1.2093182852220836e-05\n",
      "after 475000 steps \tloss=1.1872347380548474e-05\n",
      "after 480000 steps \tloss=1.1659235729909904e-05\n",
      "after 485000 steps \tloss=1.1453453421323166e-05\n",
      "after 490000 steps \tloss=1.1254632259585915e-05\n",
      "after 495000 steps \tloss=1.1062428186635966e-05\n",
      "after 500000 steps \tloss=1.0876519341130726e-05\n",
      "after 505000 steps \tloss=1.0696604302289731e-05\n",
      "after 510000 steps \tloss=1.0522400497043868e-05\n",
      "after 515000 steps \tloss=1.035364275404531e-05\n",
      "after 520000 steps \tloss=1.019008198832813e-05\n",
      "after 525000 steps \tloss=1.0031484003240858e-05\n",
      "after 530000 steps \tloss=9.877628397771014e-06\n",
      "after 535000 steps \tloss=9.728307568269932e-06\n",
      "after 540000 steps \tloss=9.583325795820638e-06\n",
      "after 545000 steps \tloss=9.442498410269418e-06\n",
      "after 550000 steps \tloss=9.305651023565614e-06\n",
      "after 555000 steps \tloss=9.172618826178178e-06\n",
      "after 560000 steps \tloss=9.043245940357668e-06\n",
      "after 565000 steps \tloss=8.917384824817235e-06\n",
      "after 570000 steps \tloss=8.79489572641926e-06\n",
      "after 575000 steps \tloss=8.675646174662556e-06\n",
      "after 580000 steps \tloss=8.559510514556799e-06\n",
      "after 585000 steps \tloss=8.44636947545547e-06\n",
      "after 590000 steps \tloss=8.336109771489566e-06\n",
      "after 595000 steps \tloss=8.228623732325225e-06\n",
      "after 600000 steps \tloss=8.123808960331619e-06\n",
      "after 605000 steps \tloss=8.021568012521468e-06\n",
      "after 610000 steps \tloss=7.92180810564041e-06\n",
      "after 615000 steps \tloss=7.8244408415602e-06\n",
      "after 620000 steps \tloss=7.729381951976464e-06\n",
      "after 625000 steps \tloss=7.63655106095384e-06\n",
      "after 630000 steps \tloss=7.545871463056317e-06\n",
      "after 635000 steps \tloss=7.457269917187682e-06\n",
      "after 640000 steps \tloss=7.370676453491337e-06\n",
      "after 645000 steps \tloss=7.286024193406629e-06\n",
      "after 650000 steps \tloss=7.203249181382842e-06\n",
      "after 655000 steps \tloss=7.122290227098975e-06\n",
      "after 660000 steps \tloss=7.0430887584390735e-06\n",
      "after 665000 steps \tloss=6.965588683044294e-06\n",
      "after 670000 steps \tloss=6.889736258996766e-06\n",
      "after 675000 steps \tloss=6.815479973400137e-06\n",
      "after 680000 steps \tloss=6.742770427982466e-06\n",
      "after 685000 steps \tloss=6.671560232581884e-06\n",
      "after 690000 steps \tloss=6.601803903975357e-06\n",
      "after 695000 steps \tloss=6.533457771368939e-06\n",
      "after 700000 steps \tloss=6.466479887342138e-06\n",
      "after 705000 steps \tloss=6.400829943774541e-06\n",
      "after 710000 steps \tloss=6.336469192768539e-06\n",
      "after 715000 steps \tloss=6.273360372276753e-06\n",
      "after 720000 steps \tloss=6.211467635615336e-06\n",
      "after 725000 steps \tloss=6.150756485307227e-06\n",
      "after 730000 steps \tloss=6.091193710006372e-06\n",
      "after 735000 steps \tloss=6.0327473256131116e-06\n",
      "after 740000 steps \tloss=5.975386519123566e-06\n",
      "after 745000 steps \tloss=5.919081595740375e-06\n",
      "after 750000 steps \tloss=5.863803928786802e-06\n",
      "after 755000 steps \tloss=5.809525912132797e-06\n",
      "after 760000 steps \tloss=5.756220915243991e-06\n",
      "after 765000 steps \tloss=5.703863240784277e-06\n",
      "after 770000 steps \tloss=5.6524280840780525e-06\n",
      "after 775000 steps \tloss=5.6018914946819254e-06\n",
      "after 780000 steps \tloss=5.55223034030182e-06\n",
      "after 785000 steps \tloss=5.5034222721256455e-06\n",
      "after 790000 steps \tloss=5.455445691835214e-06\n",
      "after 795000 steps \tloss=5.4082797208386444e-06\n",
      "after 800000 steps \tloss=5.361904170349338e-06\n",
      "after 805000 steps \tloss=5.3162995132690935e-06\n",
      "after 810000 steps \tloss=5.271446857431281e-06\n",
      "after 815000 steps \tloss=5.22732792010691e-06\n",
      "after 820000 steps \tloss=5.183925003496049e-06\n",
      "after 825000 steps \tloss=5.1412209719401235e-06\n",
      "after 830000 steps \tloss=5.099199229481159e-06\n",
      "after 835000 steps \tloss=5.057843699072514e-06\n",
      "after 840000 steps \tloss=5.0171388024002575e-06\n",
      "after 845000 steps \tloss=4.97706944087029e-06\n",
      "after 850000 steps \tloss=4.937620977178348e-06\n",
      "after 855000 steps \tloss=4.898779217976371e-06\n",
      "after 860000 steps \tloss=4.860530397316048e-06\n",
      "after 865000 steps \tloss=4.822861160480936e-06\n",
      "after 870000 steps \tloss=4.785758548914957e-06\n",
      "after 875000 steps \tloss=4.7492099857753955e-06\n",
      "after 880000 steps \tloss=4.713203261929998e-06\n",
      "after 885000 steps \tloss=4.6777265226340994e-06\n",
      "after 890000 steps \tloss=4.642768254762865e-06\n",
      "after 895000 steps \tloss=4.608317274848459e-06\n",
      "after 900000 steps \tloss=4.574362717186607e-06\n",
      "after 905000 steps \tloss=4.540894022637058e-06\n",
      "after 910000 steps \tloss=4.507900928076314e-06\n",
      "after 915000 steps \tloss=4.475373456197303e-06\n",
      "after 920000 steps \tloss=4.44330190533682e-06\n",
      "after 925000 steps \tloss=4.411676840218916e-06\n",
      "after 930000 steps \tloss=4.380489082948077e-06\n",
      "after 935000 steps \tloss=4.349729704446513e-06\n",
      "after 940000 steps \tloss=4.319390015752668e-06\n",
      "after 945000 steps \tloss=4.2894615602495466e-06\n",
      "after 950000 steps \tloss=4.259936105920808e-06\n",
      "after 955000 steps \tloss=4.23080563813421e-06\n",
      "after 960000 steps \tloss=4.202062352216901e-06\n",
      "after 965000 steps \tloss=4.1736986467801105e-06\n",
      "after 970000 steps \tloss=4.145707117446304e-06\n",
      "after 975000 steps \tloss=4.118080550007345e-06\n",
      "after 980000 steps \tloss=4.090811914734532e-06\n",
      "after 985000 steps \tloss=4.063894360452696e-06\n",
      "after 990000 steps \tloss=4.03732120891963e-06\n",
      "after 995000 steps \tloss=4.011085949441437e-06\n"
     ]
    },
    {
     "data": {
      "image/png": "[encoded data removed]",
      "text/plain": [
       "<Figure size 720x360 with 1 Axes>"
      ]
     },
     "metadata": {
      "needs_background": "light"
     },
     "output_type": "display_data"
    }
   ],
   "source": [
    "layers = [5] * 5\n",
    "net = NLayerNet(3, layers)\n",
    "predictions, loss, losses = gradient_descent_2(net, X3, Y3, alpha=0.3, iterations=1000000, debug=True)\n",
    "plt.figure(figsize=(10,5))\n",
    "plt.plot(losses)\n",
    "plt.show()"
   ]
  },
  {
   "cell_type": "code",
   "execution_count": 98,
   "metadata": {},
   "outputs": [
    {
     "name": "stdout",
     "output_type": "stream",
     "text": [
      "after 0 steps \tloss=0.7189182341231595\n",
      "after 5000 steps \tloss=0.6931474858191269\n",
      "after 10000 steps \tloss=0.6931474834285622\n",
      "after 15000 steps \tloss=0.6931474810654892\n",
      "after 20000 steps \tloss=0.6931474787294716\n",
      "after 25000 steps \tloss=0.6931474764200825\n",
      "after 30000 steps \tloss=0.6931474741369035\n",
      "after 35000 steps \tloss=0.6931474718795243\n",
      "after 40000 steps \tloss=0.6931474696475431\n",
      "after 45000 steps \tloss=0.6931474674405658\n",
      "after 50000 steps \tloss=0.6931474652582061\n",
      "after 55000 steps \tloss=0.6931474631000853\n",
      "after 60000 steps \tloss=0.6931474609658321\n",
      "after 65000 steps \tloss=0.6931474588550826\n",
      "after 70000 steps \tloss=0.6931474567674794\n",
      "after 75000 steps \tloss=0.6931474547026726\n",
      "after 80000 steps \tloss=0.6931474526603185\n",
      "after 85000 steps \tloss=0.6931474506400805\n",
      "after 90000 steps \tloss=0.6931474486416278\n",
      "after 95000 steps \tloss=0.6931474466646363\n",
      "after 100000 steps \tloss=0.6931474447087884\n",
      "after 105000 steps \tloss=0.6931474427737709\n",
      "after 110000 steps \tloss=0.6931474408592785\n",
      "after 115000 steps \tloss=0.69314743896501\n",
      "after 120000 steps \tloss=0.6931474370906706\n",
      "after 125000 steps \tloss=0.6931474352359708\n",
      "after 130000 steps \tloss=0.6931474334006262\n",
      "after 135000 steps \tloss=0.693147431584358\n",
      "after 140000 steps \tloss=0.6931474297868919\n",
      "after 145000 steps \tloss=0.6931474280079594\n",
      "after 150000 steps \tloss=0.693147426247296\n",
      "after 155000 steps \tloss=0.6931474245046425\n",
      "after 160000 steps \tloss=0.6931474227797443\n",
      "after 165000 steps \tloss=0.6931474210723514\n",
      "after 170000 steps \tloss=0.6931474193822179\n",
      "after 175000 steps \tloss=0.6931474177091026\n",
      "after 180000 steps \tloss=0.6931474160527684\n",
      "after 185000 steps \tloss=0.6931474144129827\n",
      "after 190000 steps \tloss=0.6931474127895163\n",
      "after 195000 steps \tloss=0.6931474111821447\n",
      "after 200000 steps \tloss=0.6931474095906471\n",
      "after 205000 steps \tloss=0.6931474080148061\n",
      "after 210000 steps \tloss=0.6931474064544088\n",
      "after 215000 steps \tloss=0.6931474049092454\n",
      "after 220000 steps \tloss=0.69314740337911\n",
      "after 225000 steps \tloss=0.6931474018637998\n",
      "after 230000 steps \tloss=0.693147400363116\n",
      "after 235000 steps \tloss=0.6931473988768626\n",
      "after 240000 steps \tloss=0.6931473974048479\n",
      "after 245000 steps \tloss=0.6931473959468818\n",
      "after 250000 steps \tloss=0.6931473945027791\n",
      "after 255000 steps \tloss=0.6931473930723566\n",
      "after 260000 steps \tloss=0.6931473916554344\n",
      "after 265000 steps \tloss=0.6931473902518357\n",
      "after 270000 steps \tloss=0.6931473888613867\n",
      "after 275000 steps \tloss=0.6931473874839162\n",
      "after 280000 steps \tloss=0.693147386119256\n",
      "after 285000 steps \tloss=0.6931473847672404\n",
      "after 290000 steps \tloss=0.6931473834277069\n",
      "after 295000 steps \tloss=0.6931473821004951\n",
      "after 300000 steps \tloss=0.6931473807854471\n",
      "after 305000 steps \tloss=0.6931473794824086\n",
      "after 310000 steps \tloss=0.6931473781912264\n",
      "after 315000 steps \tloss=0.6931473769117507\n",
      "after 320000 steps \tloss=0.6931473756438333\n",
      "after 325000 steps \tloss=0.6931473743873293\n",
      "after 330000 steps \tloss=0.6931473731420956\n",
      "after 335000 steps \tloss=0.693147371907991\n",
      "after 340000 steps \tloss=0.6931473706848772\n",
      "after 345000 steps \tloss=0.6931473694726176\n",
      "after 350000 steps \tloss=0.6931473682710778\n",
      "after 355000 steps \tloss=0.6931473670801256\n",
      "after 360000 steps \tloss=0.6931473658996309\n",
      "after 365000 steps \tloss=0.6931473647294654\n",
      "after 370000 steps \tloss=0.6931473635695031\n",
      "after 375000 steps \tloss=0.6931473624196194\n",
      "after 380000 steps \tloss=0.6931473612796922\n",
      "after 385000 steps \tloss=0.693147360149601\n",
      "after 390000 steps \tloss=0.6931473590292269\n",
      "after 395000 steps \tloss=0.693147357918453\n",
      "after 400000 steps \tloss=0.6931473568171646\n",
      "after 405000 steps \tloss=0.6931473557252479\n",
      "after 410000 steps \tloss=0.6931473546425914\n",
      "after 415000 steps \tloss=0.6931473535690849\n",
      "after 420000 steps \tloss=0.6931473525046201\n",
      "after 425000 steps \tloss=0.6931473514490903\n",
      "after 430000 steps \tloss=0.6931473504023903\n",
      "after 435000 steps \tloss=0.6931473493644164\n",
      "after 440000 steps \tloss=0.6931473483350663\n",
      "after 445000 steps \tloss=0.6931473473142397\n",
      "after 450000 steps \tloss=0.6931473463018372\n",
      "after 455000 steps \tloss=0.693147345297761\n",
      "after 460000 steps \tloss=0.693147344301915\n",
      "after 465000 steps \tloss=0.6931473433142044\n",
      "after 470000 steps \tloss=0.6931473423345353\n",
      "after 475000 steps \tloss=0.6931473413628157\n",
      "after 480000 steps \tloss=0.6931473403989548\n",
      "after 485000 steps \tloss=0.6931473394428627\n",
      "after 490000 steps \tloss=0.6931473384944513\n",
      "after 495000 steps \tloss=0.6931473375536338\n",
      "after 500000 steps \tloss=0.6931473366203238\n",
      "after 505000 steps \tloss=0.6931473356944371\n",
      "after 510000 steps \tloss=0.6931473347758902\n",
      "after 515000 steps \tloss=0.6931473338646006\n",
      "after 520000 steps \tloss=0.6931473329604876\n",
      "after 525000 steps \tloss=0.6931473320634709\n",
      "after 530000 steps \tloss=0.6931473311734716\n",
      "after 535000 steps \tloss=0.6931473302904121\n",
      "after 540000 steps \tloss=0.6931473294142156\n",
      "after 545000 steps \tloss=0.6931473285448064\n",
      "after 550000 steps \tloss=0.6931473276821101\n",
      "after 555000 steps \tloss=0.6931473268260527\n",
      "after 560000 steps \tloss=0.6931473259765619\n",
      "after 565000 steps \tloss=0.6931473251335662\n",
      "after 570000 steps \tloss=0.6931473242969947\n",
      "after 575000 steps \tloss=0.6931473234667775\n",
      "after 580000 steps \tloss=0.6931473226428464\n",
      "after 585000 steps \tloss=0.6931473218251332\n",
      "after 590000 steps \tloss=0.693147321013571\n",
      "after 595000 steps \tloss=0.693147320208094\n",
      "after 600000 steps \tloss=0.6931473194086367\n",
      "after 605000 steps \tloss=0.6931473186151351\n",
      "after 610000 steps \tloss=0.6931473178275257\n",
      "after 615000 steps \tloss=0.6931473170457457\n",
      "after 620000 steps \tloss=0.6931473162697337\n",
      "after 625000 steps \tloss=0.6931473154994282\n",
      "after 630000 steps \tloss=0.6931473147347695\n",
      "after 635000 steps \tloss=0.6931473139756981\n",
      "after 640000 steps \tloss=0.6931473132221553\n",
      "after 645000 steps \tloss=0.693147312474083\n",
      "after 650000 steps \tloss=0.6931473117314246\n",
      "after 655000 steps \tloss=0.6931473109941233\n",
      "after 660000 steps \tloss=0.6931473102621237\n",
      "after 665000 steps \tloss=0.6931473095353706\n",
      "after 670000 steps \tloss=0.69314730881381\n",
      "after 675000 steps \tloss=0.6931473080973884\n",
      "after 680000 steps \tloss=0.6931473073860526\n",
      "after 685000 steps \tloss=0.6931473066797507\n",
      "after 690000 steps \tloss=0.693147305978431\n",
      "after 695000 steps \tloss=0.6931473052820425\n",
      "after 700000 steps \tloss=0.6931473045905352\n",
      "after 705000 steps \tloss=0.6931473039038596\n",
      "after 710000 steps \tloss=0.693147303221966\n",
      "after 715000 steps \tloss=0.6931473025448068\n",
      "after 720000 steps \tloss=0.6931473018723336\n",
      "after 725000 steps \tloss=0.6931473012044995\n",
      "after 730000 steps \tloss=0.693147300541258\n",
      "after 735000 steps \tloss=0.6931472998825625\n",
      "after 740000 steps \tloss=0.6931472992283679\n",
      "after 745000 steps \tloss=0.6931472985786293\n",
      "after 750000 steps \tloss=0.6931472979333024\n",
      "after 755000 steps \tloss=0.6931472972923431\n",
      "after 760000 steps \tloss=0.6931472966557082\n",
      "after 765000 steps \tloss=0.6931472960233547\n",
      "after 770000 steps \tloss=0.6931472953952407\n",
      "after 775000 steps \tloss=0.6931472947713241\n",
      "after 780000 steps \tloss=0.6931472941515638\n",
      "after 785000 steps \tloss=0.6931472935359191\n",
      "after 790000 steps \tloss=0.6931472929243496\n",
      "after 795000 steps \tloss=0.6931472923168154\n",
      "after 800000 steps \tloss=0.6931472917132773\n",
      "after 805000 steps \tloss=0.6931472911136964\n",
      "after 810000 steps \tloss=0.6931472905180345\n",
      "after 815000 steps \tloss=0.6931472899262532\n",
      "after 820000 steps \tloss=0.6931472893383153\n",
      "after 825000 steps \tloss=0.6931472887541836\n",
      "after 830000 steps \tloss=0.6931472881738215\n",
      "after 835000 steps \tloss=0.6931472875971928\n",
      "after 840000 steps \tloss=0.6931472870242616\n",
      "after 845000 steps \tloss=0.6931472864549928\n",
      "after 850000 steps \tloss=0.693147285889351\n",
      "after 855000 steps \tloss=0.693147285327302\n",
      "after 860000 steps \tloss=0.6931472847688116\n",
      "after 865000 steps \tloss=0.6931472842138457\n",
      "after 870000 steps \tloss=0.6931472836623711\n",
      "after 875000 steps \tloss=0.6931472831143548\n",
      "after 880000 steps \tloss=0.6931472825697641\n",
      "after 885000 steps \tloss=0.6931472820285667\n",
      "after 890000 steps \tloss=0.6931472814907309\n",
      "after 895000 steps \tloss=0.693147280956225\n",
      "after 900000 steps \tloss=0.6931472804250176\n",
      "after 905000 steps \tloss=0.6931472798970784\n",
      "after 910000 steps \tloss=0.6931472793723762\n",
      "after 915000 steps \tloss=0.6931472788508813\n",
      "after 920000 steps \tloss=0.6931472783325637\n",
      "after 925000 steps \tloss=0.693147277817394\n",
      "after 930000 steps \tloss=0.6931472773053431\n",
      "after 935000 steps \tloss=0.6931472767963819\n",
      "after 940000 steps \tloss=0.6931472762904821\n",
      "after 945000 steps \tloss=0.6931472757876154\n",
      "after 950000 steps \tloss=0.6931472752877537\n",
      "after 955000 steps \tloss=0.6931472747908696\n",
      "after 960000 steps \tloss=0.6931472742969359\n",
      "after 965000 steps \tloss=0.6931472738059253\n",
      "after 970000 steps \tloss=0.6931472733178112\n",
      "after 975000 steps \tloss=0.6931472728325674\n",
      "after 980000 steps \tloss=0.6931472723501673\n",
      "after 985000 steps \tloss=0.6931472718705853\n",
      "after 990000 steps \tloss=0.6931472713937958\n",
      "after 995000 steps \tloss=0.6931472709197736\n"
     ]
    },
    {
     "data": {
      "image/png": "[encoded data removed]",
      "text/plain": [
       "<Figure size 720x360 with 1 Axes>"
      ]
     },
     "metadata": {
      "needs_background": "light"
     },
     "output_type": "display_data"
    }
   ],
   "source": [
    "layers = [5] * 6\n",
    "net = NLayerNet(3, layers)\n",
    "predictions, loss, losses = gradient_descent_2(net, X3, Y3, alpha=0.2, iterations=1000000, debug=True)\n",
    "plt.figure(figsize=(10,5))\n",
    "plt.plot(losses)\n",
    "plt.show()"
   ]
  },
  {
   "cell_type": "markdown",
   "metadata": {
    "cell_id": "00031-032edb86-1c56-46e7-8ea3-3e011d72bf5f",
    "deepnote_app_coordinates": {
     "h": 5,
     "w": 12,
     "x": 0,
     "y": 186
    },
    "deepnote_cell_type": "markdown",
    "id": "nWuv7Q77-Nut"
   },
   "source": [
    "## Problem 7"
   ]
  },
  {
   "cell_type": "code",
   "execution_count": null,
   "metadata": {
    "cell_id": "00032-2eab2b1a-f83b-409c-a066-1642cd2ab2d8",
    "deepnote_app_coordinates": {
     "h": 5,
     "w": 12,
     "x": 0,
     "y": 192
    },
    "deepnote_cell_type": "code",
    "id": "avuvSoWY-N4Z"
   },
   "outputs": [],
   "source": []
  }
 ],
 "metadata": {
  "colab": {
   "collapsed_sections": [],
   "include_colab_link": true,
   "name": "Assignment1.ipynb",
   "provenance": []
  },
  "deepnote": {},
  "deepnote_app_layout": "article",
  "deepnote_execution_queue": [],
  "deepnote_notebook_id": "1f038069-bae5-44e5-92ba-67bdff2c54a6",
  "kernelspec": {
   "display_name": "Python 3",
   "language": "python",
   "name": "python3"
  },
  "language_info": {
   "codemirror_mode": {
    "name": "ipython",
    "version": 3
   },
   "file_extension": ".py",
   "mimetype": "text/x-python",
   "name": "python",
   "nbconvert_exporter": "python",
   "pygments_lexer": "ipython3",
   "version": "3.8.10"
  }
 },
 "nbformat": 4,
 "nbformat_minor": 0
}
