{
 "cells": [
  {
   "cell_type": "markdown",
   "id": "5ef34449",
   "metadata": {},
   "source": [
    "### Assigment 4\n",
    "\n",
    "**Submission deadlines**:\n",
    "\n",
    "* get at least 4 points by Tuesday, 12.05.2022\n",
    "* remaining points: last lab session before or on Tuesday, 19.05.2022\n",
    "\n",
    "**Points:** Aim to get 12 out of 15+ possible points\n",
    "\n",
    "All needed data files are on Drive: <https://drive.google.com/drive/folders/1HaMbhzaBxxNa_z_QJXSDCbv5VddmhVVZ?usp=sharing> (or will be soon :) )\n",
    "\n",
    "## Task 1 (5 points)\n",
    "\n",
    "Implement simplified word2vec with negative sampling from scratch (using pure numpy). Assume that in the training data objects and contexts are given explicitly, one pair per line, and objects are on the left. The result of the training should be object vectors. Please, write them to a file using *natural* text format, ie\n",
    "\n",
    "<pre>\n",
    "word1 x1_1 x1_2 ... x1_N \n",
    "word2 x2_1 x2_2 ... x2_N\n",
    "...\n",
    "wordK xK_1 xK_2 ... xk_N\n",
    "</pre>\n",
    "\n",
    "Use the loss from Slide 3 in Lecture NLP.2, compute the gradient manually. You can use some gradient clipping, or regularisation. \n",
    "\n",
    "**Remark**: the data is specially prepared to make the learning process easier. \n",
    "Present vectors using the code below. In this task we define success as 'obtaining a result which looks definitely not random'\n"
   ]
  },
  {
   "cell_type": "code",
   "execution_count": 3,
   "id": "2f801c8e",
   "metadata": {},
   "outputs": [],
   "source": [
    "from gensim.models import KeyedVectors\n",
    "import numpy as np\n",
    "import re\n",
    "from tqdm.auto import tqdm\n",
    "from numba import njit"
   ]
  },
  {
   "cell_type": "code",
   "execution_count": 28,
   "id": "284bb7f5",
   "metadata": {},
   "outputs": [
    {
     "name": "stdout",
     "output_type": "stream",
     "text": [
      "[['nagromadzenie' 'następstwo']\n",
      " ['temat' 'skarbnica']\n",
      " ['zaspokojenie' 'pragnienie']\n",
      " ['dudkiewicz' 'pokonać']\n",
      " ['odpis' 'wyciąg']\n",
      " ['entuzjazm' 'znajomość']\n",
      " ['zakład' 'alpinizm']\n",
      " ['ręka' 'przeciwny']\n",
      " ['odroczenie' 'realizacja']\n",
      " ['rysunek' 'górnik']]\n"
     ]
    }
   ],
   "source": [
    "data_file = open(\"./data/task1_objects_contexts_polish.txt\")\n",
    "\n",
    "# data_lines = data_file.readlines()\n",
    "data_lines = [re.sub(\"[ ].+_\", \" \", line) for line in data_file.readlines()]\n",
    "\n",
    "full_data = [line.rstrip().split(\" \") for line in data_lines]\n",
    "full_data = np.array(full_data)\n",
    "\n",
    "print(full_data[:10])\n",
    "\n",
    "# data = data[:5000]\n",
    "# print(data.shape)\n",
    "\n",
    "# print(np.unique(data).shape)\n"
   ]
  },
  {
   "cell_type": "code",
   "execution_count": 29,
   "id": "ce3c9685",
   "metadata": {},
   "outputs": [
    {
     "name": "stdout",
     "output_type": "stream",
     "text": [
      "42240\n"
     ]
    }
   ],
   "source": [
    "data = full_data[:200000]\n",
    "unique_words = np.unique(data)\n",
    "print(len(unique_words))"
   ]
  },
  {
   "cell_type": "code",
   "execution_count": 30,
   "id": "ad0d4f61",
   "metadata": {},
   "outputs": [],
   "source": [
    "word_to_index = {word: index for index, word in enumerate(unique_words)}\n",
    "index_to_word = unique_words\n",
    "\n",
    "\n",
    "def word_to_one_hot_vector(word):\n",
    "    result = np.zeros(len(word_to_index))\n",
    "    result[word_to_index[word]] = 1\n",
    "\n",
    "    return result"
   ]
  },
  {
   "cell_type": "code",
   "execution_count": 31,
   "id": "7c026f3c",
   "metadata": {},
   "outputs": [],
   "source": [
    "class NegativeSampler:\n",
    "    def __init__(self, words):\n",
    "        sorted_words = np.sort(words)\n",
    "        self.words, counts = np.unique(sorted_words, return_counts=True)\n",
    "        self.probabilites = counts / counts.sum()\n",
    "        self.probabilites = self.probabilites ** 0.75 / (self.probabilites ** 0.75).sum()\n",
    "\n",
    "    def get(self, size=None):\n",
    "        return np.random.choice(a = self.words, size=size, p = self.probabilites)"
   ]
  },
  {
   "cell_type": "code",
   "execution_count": 32,
   "id": "e3c67753",
   "metadata": {},
   "outputs": [],
   "source": [
    "@njit\n",
    "def sigmoid(x):\n",
    "    return 1 / (1 + np.exp(-x))"
   ]
  },
  {
   "cell_type": "code",
   "execution_count": 51,
   "id": "c5b853a9",
   "metadata": {},
   "outputs": [],
   "source": [
    "class Network:\n",
    "    def __init__(self, vec_size, vocabulary_size):\n",
    "        self.vec_size = vec_size\n",
    "        self.vocabulary_size = vocabulary_size\n",
    "\n",
    "        self.W_word = np.random.rand(vocabulary_size, vec_size) - 0.5\n",
    "        self.W_context = np.random.rand(vocabulary_size, vec_size) - 0.5\n",
    "\n",
    "    def forward(self, x):\n",
    "        v = x @ self.W_word\n",
    "\n",
    "        z = v @ self.W_context.T\n",
    "\n",
    "        return v, z \n"
   ]
  },
  {
   "cell_type": "markdown",
   "id": "b054ac56",
   "metadata": {},
   "source": [
    "$$\n",
    "\\begin{aligned}\n",
    "\\frac{\\partial}{\\partial v_x} \\log{\\sigma(v_c \\cdot v_x)}\n",
    "&= \\frac{1}{\\sigma(v_c \\cdot v_x)} \\cdot \\frac{\\partial}{\\partial v_x} \\sigma(v_c \\cdot v_x) \\\\\n",
    "&= \\frac{1}{\\sigma(v_c \\cdot v_x)} \\cdot \\sigma(v_c \\cdot v_x)(1-\\sigma(v_c \\cdot v_x)) \\cdot \\frac{\\partial}{\\partial v_x} (v_c \\cdot v_x) \\\\\n",
    "&= (1-\\sigma(v_c \\cdot v_x)) \\cdot v_c\n",
    "\\end{aligned}\n",
    "$$"
   ]
  },
  {
   "cell_type": "code",
   "execution_count": 34,
   "id": "6c0e8926",
   "metadata": {},
   "outputs": [],
   "source": [
    "@njit\n",
    "def log_sigmoid_derivative(vc, vx):    \n",
    "    return (1 - sigmoid(np.dot(vc, vx))) * vc "
   ]
  },
  {
   "cell_type": "code",
   "execution_count": 49,
   "id": "a301af0a",
   "metadata": {},
   "outputs": [],
   "source": [
    "np.save(\"W_word.npy\", net.W_word)\n",
    "np.save(\"W_context.npy\", net.W_context)"
   ]
  },
  {
   "cell_type": "code",
   "execution_count": null,
   "id": "c11363d4",
   "metadata": {},
   "outputs": [],
   "source": [
    "vec_size = 20\n",
    "k = 2\n",
    "learning_rate = 0.2\n",
    "num_epochs = 5\n",
    "\n",
    "sampler = NegativeSampler(data[:,1])\n",
    "net = Network(vec_size=vec_size, vocabulary_size=len(unique_words))\n",
    "\n",
    "\n",
    "# print(sampler.words\n",
    "for epoch in range(num_epochs):\n",
    "    for i in tqdm(range(len(data))):\n",
    "        word, context = data[i]\n",
    "        word_index = word_to_index[word]\n",
    "        context_index = word_to_index[word]\n",
    "\n",
    "        u_c = net.W_context[context_index]\n",
    "        v_w = net.W_word[word_index]\n",
    "\n",
    "        random_contexts = sampler.get(k)\n",
    "\n",
    "        random_contexts_index =  [word_to_index[rc] for rc in random_contexts]\n",
    "        \n",
    "        u_rs = net.W_context[random_contexts_index]\n",
    "\n",
    "\n",
    "        objective = -np.log(sigmoid(np.dot(u_c, v_w))) - np.log(sigmoid(np.dot(-u_rs, v_w))).sum()\n",
    "\n",
    "        W_word_grad = np.zeros_like(net.W_word)\n",
    "        W_context_grad = np.zeros_like(net.W_context)\n",
    "\n",
    "        W_word_grad[word_index] += -log_sigmoid_derivative(u_c, v_w) - sum([log_sigmoid_derivative(ur, v_w) for ur in u_rs])\n",
    "        W_context_grad[context_index] += -log_sigmoid_derivative(v_w, u_c)\n",
    "\n",
    "        for rci, u_r in zip(random_contexts_index, u_rs):\n",
    "            W_context_grad[rci] -= log_sigmoid_derivative(-v_w, u_r)\n",
    "\n",
    "\n",
    "\n",
    "        net.W_word -= learning_rate * W_word_grad\n",
    "        net.W_context -= learning_rate * W_context_grad\n",
    "        "
   ]
  },
  {
   "cell_type": "code",
   "execution_count": 47,
   "id": "0b023789",
   "metadata": {},
   "outputs": [],
   "source": [
    "f = open('task1_w2v_vectors.txt', \"w\")\n",
    "\n",
    "word_count = 0\n",
    "\n",
    "for i, word in enumerate(unique_words):\n",
    "    # if re.search(\"[_]\", word) == None:\n",
    "    word_count += 1\n",
    "\n",
    "\n",
    "f.write(str(word_count) + \" \" + str(vec_size) + \"\\n\")\n",
    "\n",
    "for i, word in enumerate(unique_words):\n",
    "    # if re.search(\"[_]\", word) == None:\n",
    "        # print(i, word, net.W_word[i])\n",
    "        # print(np.array2string(net.W_word[i] , precision=5, separator=\" \")[1:-1])\n",
    "    line = word + \" \" + \" \".join([str(n) for n in net.W_word[i]]) + \"\\n\"\n",
    "    f.write(line)\n",
    "\n",
    "f.close()"
   ]
  },
  {
   "cell_type": "code",
   "execution_count": 48,
   "id": "7ae909d9",
   "metadata": {},
   "outputs": [
    {
     "name": "stdout",
     "output_type": "stream",
     "text": [
      "WORD: pies\n",
      "    poznanie 0.7710974216461182\n",
      "    skubanie 0.7406127452850342\n",
      "    hulanka 0.7393867373466492\n",
      "    liberia 0.7369136214256287\n",
      "    kryza 0.7277839183807373\n",
      "    nadawanie 0.7157407999038696\n",
      "    czechowicz 0.6986311078071594\n",
      "    nasycanie 0.6977938413619995\n",
      "    brunecik 0.6949965357780457\n",
      "    zaduch 0.6925697922706604\n",
      "\n",
      "WORD: smok\n",
      "    użalanie 0.7268655896186829\n",
      "    jeans 0.7127077579498291\n",
      "    kreacjonista 0.7063548564910889\n",
      "    om 0.7014721632003784\n",
      "    wartownik 0.6987805366516113\n",
      "    roztapianie 0.6953824162483215\n",
      "    wytchnienie 0.6919029355049133\n",
      "    kręcz 0.6892112493515015\n",
      "    pisanka 0.6859136819839478\n",
      "    prześwit 0.6822215914726257\n",
      "\n",
      "WORD: miłość\n",
      "    bezprawie 0.7448083758354187\n",
      "    indukcyjność 0.7335239052772522\n",
      "    kamyczek 0.7319576144218445\n",
      "    faust 0.7280334234237671\n",
      "    obserwatorium 0.7183815836906433\n",
      "    śmigłowiec 0.7106461524963379\n",
      "    ważka 0.7075098752975464\n",
      "    natężenie 0.6910296082496643\n",
      "    czersk 0.689306378364563\n",
      "    dog 0.6822916269302368\n",
      "\n",
      "WORD: rower\n",
      "    dom 0.8204826712608337\n",
      "    napisanie 0.8052078485488892\n",
      "    błonka 0.7452024221420288\n",
      "    celność 0.73319411277771\n",
      "    naczalstwo 0.7043749094009399\n",
      "    ludobójstwo 0.6948959231376648\n",
      "    ułan 0.6905518174171448\n",
      "    przezimowanie 0.6900992393493652\n",
      "    wezwanie 0.6831469535827637\n",
      "    glosa 0.6803110241889954\n",
      "\n",
      "WORD: maraton\n",
      "    migot 0.7661618590354919\n",
      "    skorzystanie 0.7261759042739868\n",
      "    przysłup 0.7118504047393799\n",
      "    saudyjczyk 0.7016404271125793\n",
      "    komplikowanie 0.6971887350082397\n",
      "    ceramika 0.6852042078971863\n",
      "    zaliczka 0.6757417321205139\n",
      "    tratwa 0.6696131825447083\n",
      "    asystentka 0.6691656708717346\n",
      "    obronienie 0.6629314422607422\n",
      "\n",
      "WORD: logika\n",
      "    zderzenie 0.7699899673461914\n",
      "    farba 0.7240120768547058\n",
      "    łopian 0.7104240655899048\n",
      "    komunista 0.7002270817756653\n",
      "    współczesność 0.6914675831794739\n",
      "    szczepienie 0.6841199398040771\n",
      "    dekadentyzm 0.6736573576927185\n",
      "    skrzydło 0.672756552696228\n",
      "    strzałka 0.6720443367958069\n",
      "    zaniechanie 0.6693737506866455\n",
      "\n",
      "WORD: motyl\n",
      "    zanik 0.7904645800590515\n",
      "    szpica 0.7738434076309204\n",
      "    carlos 0.7483270764350891\n",
      "    pajęczyna 0.747849702835083\n",
      "    ottawa 0.7178725004196167\n",
      "    bangladesz 0.7149065136909485\n",
      "    ochotnik 0.7132190465927124\n",
      "    ciemieniucha 0.7113902568817139\n",
      "    unerwienie 0.7093666195869446\n",
      "    biometeorolog 0.7093375325202942\n",
      "\n"
     ]
    }
   ],
   "source": [
    "\n",
    "task1_wv = KeyedVectors.load_word2vec_format('task1_w2v_vectors.txt', binary=False)\n",
    "\n",
    "example_english_words = ['dog', 'dragon', 'love', 'bicycle', 'marathon', 'logic', 'butterfly']  # replace, or add your own examples\n",
    "example_polish_words = ['pies', 'smok', 'miłość', 'rower', 'maraton', 'logika', 'motyl']\n",
    "\n",
    "example_words = example_polish_words\n",
    "\n",
    "for w0 in example_words:\n",
    "    print ('WORD:', w0)\n",
    "    for w, v in task1_wv.most_similar(w0):\n",
    "        print ('   ', w, v)\n",
    "    print ()"
   ]
  },
  {
   "cell_type": "markdown",
   "id": "41228961",
   "metadata": {},
   "source": [
    "## Task 2 (4 points)\n",
    "\n",
    "Your task is to train the embeddings for Simple Wikipedia titles, using gensim library. As the example below shows, training is really simple:\n",
    "\n",
    "```python\n",
    "from gensim.test.utils import common_texts\n",
    "from gensim.models import Word2Vec\n",
    "model = Word2Vec(sentences=common_texts, vector_size=100, window=5, min_count=1, workers=4)\n",
    "model.save(\"word2vec.model\")\n",
    "```\n",
    "*sentences* can be a list of list of tokens, you can also use *gensim.models.word2vec.LineSentence(source)* to create restartable iterator from file. At first, use [this file] containing such pairs of titles, that one article links to another.\n",
    "\n",
    "We say that two titles are *related* if they both contain a word (or a word bigram) which is not very popular (it occurs only in several titles). Make this definition more precise, and create the corpora which contains pairs of related titles. Make a mixture of the original corpora, and the new one, then train title vectors again.\n",
    "\n",
    "Compare these two approaches using similar code to the code from Task 1."
   ]
  },
  {
   "cell_type": "code",
   "execution_count": 6,
   "id": "2f6ad8e4",
   "metadata": {},
   "outputs": [],
   "source": [
    "from gensim.test.utils import common_texts\n",
    "from gensim.models import Word2Vec\n",
    "\n",
    "model = Word2Vec(sentences=common_texts, vector_size=100, window=5, min_count=1, workers=4)\n",
    "model.save(\"word2vec.model\")"
   ]
  },
  {
   "cell_type": "code",
   "execution_count": 7,
   "id": "e8f580d5",
   "metadata": {},
   "outputs": [
    {
     "name": "stdout",
     "output_type": "stream",
     "text": [
      "WORD: pies\n"
     ]
    },
    {
     "ename": "AttributeError",
     "evalue": "'Word2Vec' object has no attribute 'most_similar'",
     "output_type": "error",
     "traceback": [
      "\u001b[0;31m---------------------------------------------------------------------------\u001b[0m",
      "\u001b[0;31mAttributeError\u001b[0m                            Traceback (most recent call last)",
      "\u001b[1;32m/home/kamil/University/Studia_magisterskie/Semestr_3/Neural_Networks/Assignments/Assignment4.ipynb Cell 17'\u001b[0m in \u001b[0;36m<module>\u001b[0;34m\u001b[0m\n\u001b[1;32m      <a href='vscode-notebook-cell:/home/kamil/University/Studia_magisterskie/Semestr_3/Neural_Networks/Assignments/Assignment4.ipynb#ch0000020?line=7'>8</a>\u001b[0m \u001b[39mfor\u001b[39;00m w0 \u001b[39min\u001b[39;00m example_words:\n\u001b[1;32m      <a href='vscode-notebook-cell:/home/kamil/University/Studia_magisterskie/Semestr_3/Neural_Networks/Assignments/Assignment4.ipynb#ch0000020?line=8'>9</a>\u001b[0m     \u001b[39mprint\u001b[39m (\u001b[39m'\u001b[39m\u001b[39mWORD:\u001b[39m\u001b[39m'\u001b[39m, w0)\n\u001b[0;32m---> <a href='vscode-notebook-cell:/home/kamil/University/Studia_magisterskie/Semestr_3/Neural_Networks/Assignments/Assignment4.ipynb#ch0000020?line=9'>10</a>\u001b[0m     \u001b[39mfor\u001b[39;00m w, v \u001b[39min\u001b[39;00m model\u001b[39m.\u001b[39;49mmost_similar(w0):\n\u001b[1;32m     <a href='vscode-notebook-cell:/home/kamil/University/Studia_magisterskie/Semestr_3/Neural_Networks/Assignments/Assignment4.ipynb#ch0000020?line=10'>11</a>\u001b[0m         \u001b[39mprint\u001b[39m (\u001b[39m'\u001b[39m\u001b[39m   \u001b[39m\u001b[39m'\u001b[39m, w, v)\n\u001b[1;32m     <a href='vscode-notebook-cell:/home/kamil/University/Studia_magisterskie/Semestr_3/Neural_Networks/Assignments/Assignment4.ipynb#ch0000020?line=11'>12</a>\u001b[0m     \u001b[39mprint\u001b[39m ()\n",
      "\u001b[0;31mAttributeError\u001b[0m: 'Word2Vec' object has no attribute 'most_similar'"
     ]
    }
   ],
   "source": [
    "# task1_wv = KeyedVectors.load_word2vec_format('word2vec.model', binary=False)\n",
    "\n",
    "example_english_words = ['dog', 'dragon', 'love', 'bicycle', 'marathon', 'logic', 'butterfly']  # replace, or add your own examples\n",
    "example_polish_words = ['pies', 'smok', 'miłość', 'rower', 'maraton', 'logika', 'motyl']\n",
    "\n",
    "example_words = example_polish_words\n",
    "\n",
    "for w0 in example_words:\n",
    "    print ('WORD:', w0)\n",
    "    for w, v in model.most_similar(w0):\n",
    "        print ('   ', w, v)\n",
    "    print ()"
   ]
  },
  {
   "cell_type": "markdown",
   "id": "d711fdca",
   "metadata": {},
   "source": [
    "# Task 3 (4 points)\n",
    "\n",
    "Suppose that we have two languages: Upper and Lower. This is an example Upper sentence:\n",
    "\n",
    "<pre>\n",
    "THE QUICK BROWN FOX JUMPS OVER THE LAZY DOG.\n",
    "</pre>\n",
    "\n",
    "And this is its translation into Lower:\n",
    "\n",
    "<pre>\n",
    "the quick brown fox jumps over the lazy dog\n",
    "</pre>\n",
    "\n",
    "You have two corpora for these languages (with different sentences). Your task is to train word embedings for both languages together, so as to make embeddings of the words which are its translations as close as possible. But unfortunately, you have the budget which allows you to prepare the translation only for 1000 words (we call it D, you have to deside which words you want to be in D)\n",
    "\n",
    "Prepare the corpora wich contains three kind of sentences:\n",
    "* Upper corpus sentences\n",
    "* Lower corpus sentences\n",
    "* sentences derived from Upper/Lower corpus, modified using D\n",
    "\n",
    "There are many possible ways of doing this, for instance this one (ROT13.COM: hfr rirel fragrapr sebz obgu pbecben gjvpr: jvgubhg nal zbqvsvpngvbaf, naq jvgu rirel jbeqf sebz Q ercynprq ol vgf genafyngvba)\n",
    "\n",
    "We define the score for an Upper WORD as  $\\frac{1}{p}$, where $p$ is a position of its translation in the list of **Lower** words most similar to WORD. For instance, when most similar words to DOG are:\n",
    "\n",
    "<pre>\n",
    "WOLF, CAT, WOLVES, LION, gopher, dog\n",
    "</pre>\n",
    "\n",
    "then the score for the word DOG is 0.5. Compute the average score separately for words from D, and for words out of D (hint: if the computation takes to much time do it for a random sample).\n"
   ]
  },
  {
   "cell_type": "markdown",
   "id": "4947e307",
   "metadata": {},
   "source": [
    "# Task 4 (4 points)\n",
    "\n",
    "In this task you are asked to do two things:\n",
    "1. compare the embeddings computed on small corpus (like Brown Corpus , see: <https://en.wikipedia.org/wiki/Brown_Corpus>) with the ones coming from Google News Corpus\n",
    "2. Try to use other resourses like WordNet to enrich to corpus, and obtain better embeddings\n",
    "\n",
    "You can use the following code snippets:\n",
    "\n",
    "```python\n",
    "# printing tokenized Brown Corpora\n",
    "from nltk.corpus import brown\n",
    "for s in brown.sents():\n",
    "    print(*s)\n",
    "    \n",
    "#iterating over all synsets in WordNet\n",
    "from nltk.corpus import wordnet as wn\n",
    "\n",
    "for synset_type in 'avrns': # n == noun, v == verb, ...\n",
    "    for synset in list(wn.all_synsets(synset_type)))[:10]:\n",
    "        print (synset.definition())\n",
    "        print (synset.examples())\n",
    "        print ([lem.name() for lem in synset.lemmas()])\n",
    "        print (synset.hyperonims()) # nodes 1 level up in ontology\n",
    "        \n",
    "# loading model and compute cosine similarity between words\n",
    "\n",
    "model = Word2Vec.load('models/w2v.wordnet5.model') \n",
    "print (model.wv.similarity('dog', 'cat'))\n",
    "```\n",
    "\n",
    "Embeddings will be tested using WordSim-353 dataset, the code showing the quality is in the cell below. Prepare the following corpora:\n",
    "1. Tokenized Brown Corpora\n",
    "2. Definitions and examples from Princeton WordNet\n",
    "3. (1) and (2) together\n",
    "4. (3) enriched with pseudosentences containing (a subset) of WordNet knowledge (such as 'tiger is a carnivore')\n",
    "\n",
    "Train 4 Word2Vec models, and raport Spearman correletion between similarities based on your vectors, and similarities based on human judgements.\n",
    "\n"
   ]
  },
  {
   "cell_type": "code",
   "execution_count": null,
   "id": "947a2fbc",
   "metadata": {},
   "outputs": [],
   "source": [
    "# Code for computing correlation between W2V similarity, and human judgements\n",
    "\n",
    "import gensim.downloader\n",
    "from scipy.stats import spearmanr\n",
    "\n",
    "gn = gensim.downloader.load('word2vec-google-news-300')\n",
    "\n",
    "for similarity_type in ['relatedness', 'similarity']:\n",
    "    ws353 = []\n",
    "    for x in open(f'wordsim_{similarity_type}_goldstandard.txt'): \n",
    "        a,b,val = x.split()\n",
    "        val = float(val)\n",
    "        ws353.append( (a,b,val))\n",
    "    # spearmanr returns 2 vallues: correlation and pval. pval should be close to zero\n",
    "    print (similarity_type + ':', spearmanr(vals, ys)) "
   ]
  },
  {
   "cell_type": "code",
   "execution_count": null,
   "id": "7cf71c95",
   "metadata": {},
   "outputs": [],
   "source": []
  }
 ],
 "metadata": {
  "kernelspec": {
   "display_name": "Python 3.8.10 64-bit",
   "language": "python",
   "name": "python3"
  },
  "language_info": {
   "codemirror_mode": {
    "name": "ipython",
    "version": 3
   },
   "file_extension": ".py",
   "mimetype": "text/x-python",
   "name": "python",
   "nbconvert_exporter": "python",
   "pygments_lexer": "ipython3",
   "version": "3.8.10"
  },
  "vscode": {
   "interpreter": {
    "hash": "916dbcbb3f70747c44a77c7bcd40155683ae19c65e1c03b4aa3499c5328201f1"
   }
  }
 },
 "nbformat": 4,
 "nbformat_minor": 5
}
