{
 "cells": [
  {
   "cell_type": "markdown",
   "metadata": {},
   "source": [
    "# Simulated Annealing Demo\n",
    "\n",
    "Skrypt przedstawia przykładową implementację algorytmu symulowanego wyżarzania (ang. Simulated Annealing, SA) i jego zastosowanie do rozwiązywania problemu Quadratic Assignment Problem (QAP). Problem jest dokładnie opisany m.in. w pracy Burkarda i innych [1]. Popularne instancje problemu QAP można znaleźć w bibliotece QAPLib [2]. Skrypt skupia się na rozwiązywaniu instancji NUG12 [3], w celu rozwiązywania innych instancji może okazać się konieczna zmiana ustawień parametrów algorytmu.\n",
    "\n",
    "Literatura:\n",
    "\n",
    "[1]  Burkard, R., Cela, E., Pardalos, P., Pitsoulis, L., \"The Quadratic Assignment Problem\", http://citeseerx.ist.psu.edu/viewdoc/summary?doi=10.1.1.217.1914\n",
    "\n",
    "[2] QAPLIB, http://anjos.mgi.polymtl.ca/qaplib/\n",
    "\n",
    "[3] NUG12, http://anjos.mgi.polymtl.ca/qaplib/data.d/nug12.dat"
   ]
  },
  {
   "cell_type": "raw",
   "metadata": {},
   "source": [
    "# Popularne instancje QAP wraz z dokładnym minimum funkcji celu\n",
    "   Nug12   12    578 (OPT)    (12,7,9,3,4,8,11,1,5,6,10,2)                 \n",
    "   Nug14   14   1014 (OPT)    (9,8,13,2,1,11,7,14,3,4,12,5,6,10)            \n",
    "   Nug15   15   1150 (OPT)    (1,2,13,8,9,4,3,14,7,11,10,15,6,5,12)          \n",
    "   Nug16a  16   1610 (OPT)    (9,14,2,15,16,3,10,12,8,11,6,5,7,1,4,13)      \n",
    "   Nug16b  16   1240 (OPT)    (16,12,13,8,4,2,9,11,15,10,7,3,14,6,1,5)       \n",
    "   Nug17   17   1732 (OPT)    (16,15,2,14,9,11,8,12,10,3,4,1,7,6,13,17,5)       \n",
    "   Nug18   18   1930 (OPT)    (10,3,14,2,18,6,7,12,15,4,5,1,11,8,17,13,9,16)     \n",
    "   Nug20   20   2570 (OPT)    (18,14,10,3,9,4,2,12,11,16,19,15,20,8,13,17,5,7,1,6)\n",
    "   Nug21   21   2438 (OPT)    (4,21,3,9,13,2,5,14,18,11,16,10,6,15,20,19,8,7,1,12,17) \n",
    "   Nug22   22   3596 (OPT)    (2,21,9,10,7,3,1,19,8,20,17,5,13,6,12,16,11,22,18,14,15) \n",
    "   Nug24   24   3488 (OPT)    (17,8,11,23,4,20,15,19,22,18,3,14,1,10,7,9,16,21,24,12,6,13,5,2)\n",
    "   Nug25   25   3744 (OPT)    (5,11,20,15,22,2,25,8,9,1,18,16,3,6,19,24,21,14,7,10,17,12,4,23,13)\n",
    "*  Nug27   27   5234 (OPT)    (23,18,3,1,27,17,5,12,7,15,4,26,8,19,20,2,24,21,14,10,9,13,22,25,6,16,11)\n",
    "*  Nug28   28   5166 (OPT)    (18,21,9,1,28,20,11,3,13,12,10,19,14,22,15,2,25,16,4,23,7,17,24,26,5,27,8,6)\n",
    "*  Nug30   30   6124 (OPT)    (5 12 6 13 2 21 26 24 10 9 29 28 17 1 8 7 19 25 23 22 11 16 30 4 15 18 27 3 14 20)   "
   ]
  },
  {
   "cell_type": "code",
   "execution_count": 2,
   "metadata": {},
   "outputs": [],
   "source": [
    "import numpy as np\n",
    "import matplotlib.pyplot as plt\n",
    "import time\n",
    "import urllib.request\n",
    "from tqdm.auto import tqdm\n",
    "\n",
    "%matplotlib inline"
   ]
  },
  {
   "cell_type": "code",
   "execution_count": 3,
   "metadata": {},
   "outputs": [],
   "source": [
    "QAP_INSTANCE_URL = 'https://www.opt.math.tugraz.at/qaplib/data.d/nug12.dat'\n",
    "                    \n"
   ]
  },
  {
   "cell_type": "markdown",
   "metadata": {},
   "source": [
    "## Reading input data"
   ]
  },
  {
   "cell_type": "code",
   "execution_count": 4,
   "metadata": {},
   "outputs": [
    {
     "name": "stdout",
     "output_type": "stream",
     "text": [
      "Problem size: 12\n",
      "Flow matrix:\n",
      " [[0. 1. 2. 3. 1. 2. 3. 4. 2. 3. 4. 5.]\n",
      " [1. 0. 1. 2. 2. 1. 2. 3. 3. 2. 3. 4.]\n",
      " [2. 1. 0. 1. 3. 2. 1. 2. 4. 3. 2. 3.]\n",
      " [3. 2. 1. 0. 4. 3. 2. 1. 5. 4. 3. 2.]\n",
      " [1. 2. 3. 4. 0. 1. 2. 3. 1. 2. 3. 4.]\n",
      " [2. 1. 2. 3. 1. 0. 1. 2. 2. 1. 2. 3.]\n",
      " [3. 2. 1. 2. 2. 1. 0. 1. 3. 2. 1. 2.]\n",
      " [4. 3. 2. 1. 3. 2. 1. 0. 4. 3. 2. 1.]\n",
      " [2. 3. 4. 5. 1. 2. 3. 4. 0. 1. 2. 3.]\n",
      " [3. 2. 3. 4. 2. 1. 2. 3. 1. 0. 1. 2.]\n",
      " [4. 3. 2. 3. 3. 2. 1. 2. 2. 1. 0. 1.]\n",
      " [5. 4. 3. 2. 4. 3. 2. 1. 3. 2. 1. 0.]]\n",
      "Distance matrix:\n",
      " [[ 0.  5.  2.  4.  1.  0.  0.  6.  2.  1.  1.  1.]\n",
      " [ 5.  0.  3.  0.  2.  2.  2.  0.  4.  5.  0.  0.]\n",
      " [ 2.  3.  0.  0.  0.  0.  0.  5.  5.  2.  2.  2.]\n",
      " [ 4.  0.  0.  0.  5.  2.  2. 10.  0.  0.  5.  5.]\n",
      " [ 1.  2.  0.  5.  0. 10.  0.  0.  0.  5.  1.  1.]\n",
      " [ 0.  2.  0.  2. 10.  0.  5.  1.  1.  5.  4.  0.]\n",
      " [ 0.  2.  0.  2.  0.  5.  0. 10.  5.  2.  3.  3.]\n",
      " [ 6.  0.  5. 10.  0.  1. 10.  0.  0.  0.  5.  0.]\n",
      " [ 2.  4.  5.  0.  0.  1.  5.  0.  0.  0. 10. 10.]\n",
      " [ 1.  5.  2.  0.  5.  5.  2.  0.  0.  0.  5.  0.]\n",
      " [ 1.  0.  2.  5.  1.  4.  3.  5. 10.  5.  0.  2.]\n",
      " [ 1.  0.  2.  5.  1.  0.  3.  0. 10.  0.  2.  0.]]\n"
     ]
    }
   ],
   "source": [
    "qap_instance_file = urllib.request.urlopen(QAP_INSTANCE_URL)\n",
    "\n",
    "line = qap_instance_file.readline()\n",
    "n = int(line.decode()[:-1].split()[0])\n",
    "\n",
    "\n",
    "A = np.empty((n, n))\n",
    "qap_instance_file.readline()\n",
    "for i in range(n):\n",
    "    line = qap_instance_file.readline()\n",
    "    A[i, :] = list(map(int, line.decode()[:-1].split()))\n",
    "\n",
    "\n",
    "B = np.empty((n, n))\n",
    "qap_instance_file.readline()\n",
    "for i in range(n):\n",
    "    line = qap_instance_file.readline()\n",
    "    B[i, :] = list(map(int, line.decode()[:-1].split()))\n",
    "\n",
    "\n",
    "print('Problem size: %d' % n)\n",
    "print('Flow matrix:\\n', A)\n",
    "print('Distance matrix:\\n', B)"
   ]
  },
  {
   "cell_type": "markdown",
   "metadata": {},
   "source": [
    "## Objective function"
   ]
  },
  {
   "cell_type": "code",
   "execution_count": 5,
   "metadata": {
    "collapsed": true
   },
   "outputs": [],
   "source": [
    "def qap_objective_function(p):\n",
    "    s = 0.0\n",
    "    for i in range(n):\n",
    "        s += (A[i, :] * B[p[i], p]).sum()\n",
    "    return s"
   ]
  },
  {
   "cell_type": "code",
   "execution_count": 6,
   "metadata": {},
   "outputs": [],
   "source": [
    "# p = [11, 6, 8, 2, 3, 7, 10, 0, 4, 5, 9, 1]\n",
    "# print(qap_objective_function(p), p)"
   ]
  },
  {
   "cell_type": "markdown",
   "metadata": {},
   "source": [
    "## Random Sampling"
   ]
  },
  {
   "cell_type": "code",
   "execution_count": 7,
   "metadata": {},
   "outputs": [
    {
     "name": "stdout",
     "output_type": "stream",
     "text": [
      "42.441425800323486\n",
      "588.0 [ 1  9  5  4  2  8  6 11  0 10  7  3]\n"
     ]
    }
   ],
   "source": [
    "t0 = time.time()\n",
    "\n",
    "T = 1000000\n",
    "\n",
    "permutations = np.empty((T, n), dtype=np.int64)\n",
    "costs = np.zeros(T)\n",
    "for i in range(T):\n",
    "    permutations[i, :] = np.random.permutation(n)\n",
    "    costs[i] = qap_objective_function(permutations[i, :])\n",
    "\n",
    "print(time.time() - t0)\n",
    "\n",
    "p = permutations[costs.argmin(), :]\n",
    "print(qap_objective_function(p), p)"
   ]
  },
  {
   "cell_type": "code",
   "execution_count": 8,
   "metadata": {},
   "outputs": [
    {
     "data": {
      "image/png": "[encoded data removed]",
      "text/plain": [
       "<Figure size 432x288 with 1 Axes>"
      ]
     },
     "metadata": {
      "needs_background": "light"
     },
     "output_type": "display_data"
    },
    {
     "name": "stdout",
     "output_type": "stream",
     "text": [
      "812.026658 49.73530638641965\n"
     ]
    }
   ],
   "source": [
    "plt.figure()\n",
    "plt.hist(costs, bins=100)\n",
    "plt.show()\n",
    "\n",
    "print(costs.mean(), costs.std())"
   ]
  },
  {
   "cell_type": "markdown",
   "metadata": {},
   "source": [
    "## Simulated Annealing"
   ]
  },
  {
   "cell_type": "code",
   "execution_count": 9,
   "metadata": {
    "collapsed": true
   },
   "outputs": [],
   "source": [
    "def random_neighbor(p, radius):\n",
    "    q = p.copy()\n",
    "    for r in range(radius):\n",
    "        i, j = np.random.choice(n, 2, replace=False)\n",
    "        q[i], q[j] = q[j], q[i]\n",
    "    return q"
   ]
  },
  {
   "cell_type": "code",
   "execution_count": 10,
   "metadata": {},
   "outputs": [],
   "source": [
    "def simulated_annealing(T, radius, alpha):\n",
    "    t0 = time.time()\n",
    "\n",
    "    p = np.random.permutation(n)\n",
    "    p_cost = qap_objective_function(p)\n",
    "    costs = np.zeros(T)\n",
    "    for t in range(T):\n",
    "        q = random_neighbor(p, radius)\n",
    "        q_cost = qap_objective_function(q)\n",
    "        if(q_cost < p_cost):\n",
    "            p, p_cost = q, q_cost\n",
    "        elif(np.random.rand() < np.exp(- alpha * (q_cost - p_cost) * t/T)):\n",
    "            p, p_cost = q, q_cost\n",
    "        costs[t] = p_cost\n",
    "\n",
    "    print(time.time() - t0, costs.min(), costs.argmin())\n",
    "\n",
    "    return costs"
   ]
  },
  {
   "cell_type": "code",
   "execution_count": 11,
   "metadata": {},
   "outputs": [
    {
     "name": "stdout",
     "output_type": "stream",
     "text": [
      "27.89400839805603 578.0 60197\n",
      "28.04676055908203 578.0 40991\n"
     ]
    }
   ],
   "source": [
    "T = 500000\n",
    "radius = 1\n",
    "alpha = 1.0\n",
    "\n",
    "simulated_annealing(T, radius, alpha)\n",
    "\n",
    "t0 = time.time()\n",
    "\n",
    "p = np.random.permutation(n)\n",
    "p_cost = qap_objective_function(p)\n",
    "costs = np.zeros(T)\n",
    "for t in range(T):\n",
    "    q = random_neighbor(p, radius)\n",
    "    q_cost = qap_objective_function(q)\n",
    "    if(q_cost < p_cost):\n",
    "        p, p_cost = q, q_cost\n",
    "    elif(np.random.rand() < np.exp(- alpha * (q_cost - p_cost) * t/T)):\n",
    "        p, p_cost = q, q_cost\n",
    "    costs[t] = p_cost\n",
    "\n",
    "print(time.time() - t0, costs.min(), costs.argmin())"
   ]
  },
  {
   "cell_type": "code",
   "execution_count": 12,
   "metadata": {},
   "outputs": [
    {
     "data": {
      "image/png": "[encoded data removed]",
      "text/plain": [
       "<Figure size 432x288 with 1 Axes>"
      ]
     },
     "metadata": {
      "needs_background": "light"
     },
     "output_type": "display_data"
    }
   ],
   "source": [
    "plt.figure()\n",
    "plt.plot(costs)\n",
    "plt.show()"
   ]
  },
  {
   "cell_type": "markdown",
   "metadata": {},
   "source": [
    "## 1a\n",
    "\n",
    "T, radius, alpha: time, costs.min costs.argmin\n",
    "\n",
    "### N14:\n",
    "* 500000, 1, 1.0:  31.978957414627075 1014.0\n",
    "\n",
    "### N18\n",
    "* 500000, 1, 1.0: 39.154966592788696 1930.0\n",
    "* 500000, 1, 0.5: 39.064759731292725 1944.0"
   ]
  },
  {
   "cell_type": "code",
   "execution_count": 13,
   "metadata": {},
   "outputs": [
    {
     "name": "stdout",
     "output_type": "stream",
     "text": [
      "27.92837142944336 578.0 59124\n",
      "27.598791122436523 578.0 55421\n",
      "27.705946683883667 578.0 43654\n",
      "28.318705081939697 578.0 42150\n",
      "27.804508686065674 578.0 86522\n",
      "28.01276731491089 578.0 30380\n",
      "28.019346952438354 578.0 44845\n",
      "27.64880609512329 578.0 53738\n",
      "28.024539947509766 578.0 41423\n"
     ]
    },
    {
     "data": {
      "text/plain": [
       "[array([840., 800., 812., ..., 578., 578., 578.]),\n",
       " array([790., 768., 720., ..., 586., 586., 586.]),\n",
       " array([776., 780., 836., ..., 600., 600., 600.]),\n",
       " array([810., 826., 862., ..., 586., 586., 586.]),\n",
       " array([780., 752., 746., ..., 578., 578., 578.]),\n",
       " array([756., 708., 728., ..., 578., 578., 578.]),\n",
       " array([866., 898., 840., ..., 586., 586., 586.]),\n",
       " array([910., 878., 906., ..., 592., 592., 592.]),\n",
       " array([820., 842., 786., ..., 578., 578., 578.])]"
      ]
     },
     "execution_count": 13,
     "metadata": {},
     "output_type": "execute_result"
    }
   ],
   "source": [
    "# 1b\n",
    "T = 500000\n",
    "radius = 1\n",
    "alpha = 1.0\n",
    "\n",
    "k = 10\n",
    "\n",
    "costs = []\n",
    "\n",
    "for i in range(1,k):\n",
    "    costs.append(simulated_annealing(T, radius, alpha))\n",
    "    # costs += simulated_annealing(T, radius, alpha)\n",
    "\n",
    "costs\n"
   ]
  },
  {
   "cell_type": "code",
   "execution_count": 23,
   "metadata": {},
   "outputs": [
    {
     "data": {
      "image/png": "[encoded data removed]",
      "text/plain": [
       "<Figure size 432x288 with 1 Axes>"
      ]
     },
     "metadata": {
      "needs_background": "light"
     },
     "output_type": "display_data"
    },
    {
     "name": "stdout",
     "output_type": "stream",
     "text": [
      "601.5102573333334 44.26190054799332\n"
     ]
    }
   ],
   "source": [
    "costs2 = np.concatenate(costs)\n",
    "\n",
    "\n",
    "plt.figure()\n",
    "plt.hist(costs2)\n",
    "plt.show()\n",
    "\n",
    "print(costs2.mean(), costs2.std())"
   ]
  },
  {
   "cell_type": "code",
   "execution_count": 14,
   "metadata": {},
   "outputs": [],
   "source": [
    "def simulated_annealing_2(T, radius, alpha):\n",
    "    t0 = time.time()\n",
    "\n",
    "    p = np.random.permutation(n)\n",
    "    p_cost = qap_objective_function(p)\n",
    "    costs = np.zeros(T)\n",
    "\n",
    "    succeses = 0\n",
    "    acc_fails = 0\n",
    "\n",
    "    for t in range(T):\n",
    "        q = random_neighbor(p, radius)\n",
    "        q_cost = qap_objective_function(q)\n",
    "        if(q_cost < p_cost):\n",
    "            succeses += 1\n",
    "            p, p_cost = q, q_cost\n",
    "        elif(np.random.rand() < np.exp(- alpha * (q_cost - p_cost) * t/T)):\n",
    "            acc_fails += 1\n",
    "            p, p_cost = q, q_cost\n",
    "        costs[t] = p_cost\n",
    "\n",
    "    print(time.time() - t0, costs.min(), costs.argmin())\n",
    "\n",
    "\n",
    "\n",
    "    return (succeses, acc_fails)"
   ]
  },
  {
   "cell_type": "code",
   "execution_count": 15,
   "metadata": {},
   "outputs": [
    {
     "data": {
      "text/plain": [
       "[1, 3]"
      ]
     },
     "execution_count": 15,
     "metadata": {},
     "output_type": "execute_result"
    }
   ],
   "source": [
    "x = map((lambda x: x[0]), [(1,2), (3,4)])\n",
    "list(x)"
   ]
  },
  {
   "cell_type": "code",
   "execution_count": 16,
   "metadata": {},
   "outputs": [
    {
     "name": "stdout",
     "output_type": "stream",
     "text": [
      "27.698051929473877 578.0 54099\n",
      "32.678197145462036 578.0 92590\n",
      "37.032097816467285 578.0 53620\n",
      "27.596624851226807 578.0 102148\n",
      "27.57080578804016 578.0 30130\n",
      "27.694801092147827 578.0 19609\n",
      "27.694265365600586 586.0 21389\n",
      "32.44162607192993 588.0 17323\n",
      "32.368515729904175 586.0 18373\n",
      "37.087008476257324 586.0 81275\n"
     ]
    }
   ],
   "source": [
    "import matplotlib.pyplot as plt\n",
    "T = 500000\n",
    "# radius = 1\n",
    "# alpha = 1.0\n",
    "\n",
    "\n",
    "inputs = [(1, 1.0), (2, 1.0), (3, 1.0), (1, 0.5), (1, 1.5), (1, 2.0), (1, 2.5), (2, 2.0), (2, 2.5), (3, 3.0)]\n",
    "\n",
    "labels = map(str, inputs)\n",
    "\n",
    "outputs = list(map((lambda x: simulated_annealing_2(T, x[0], x[1])), inputs))\n",
    "\n"
   ]
  },
  {
   "cell_type": "code",
   "execution_count": 17,
   "metadata": {},
   "outputs": [
    {
     "data": {
      "text/plain": [
       "[(12844, 14413),\n",
       " (8240, 16469),\n",
       " (7405, 7878),\n",
       " (25315, 29331),\n",
       " (8227, 9227),\n",
       " (6270, 7146),\n",
       " (5192, 6539),\n",
       " (4269, 12136),\n",
       " (3349, 11250),\n",
       " (2530, 2669)]"
      ]
     },
     "execution_count": 17,
     "metadata": {},
     "output_type": "execute_result"
    }
   ],
   "source": [
    "outputs"
   ]
  },
  {
   "cell_type": "code",
   "execution_count": 18,
   "metadata": {},
   "outputs": [
    {
     "data": {
      "image/png": "[encoded data removed]",
      "text/plain": [
       "<Figure size 1080x720 with 1 Axes>"
      ]
     },
     "metadata": {
      "needs_background": "light"
     },
     "output_type": "display_data"
    }
   ],
   "source": [
    "succ = list(map((lambda x: x[0]), outputs))\n",
    "acc_fail = list(map((lambda x: x[1]), outputs))\n",
    "labels = list(labels)\n",
    "width = 0.4\n",
    "\n",
    "fig, ax = plt.subplots()\n",
    "\n",
    "fig.set_size_inches(15, 10, forward=True)\n",
    "ax.bar(labels, succ, width, label='Sucess')\n",
    "ax.bar(labels, acc_fail, width, bottom=succ,\n",
    "       label='Accepted failure')\n",
    "\n",
    "# ax.set_ylabel('Scores')\n",
    "# ax.set_title('Scores by group and gender')\n",
    "ax.legend()\n",
    "\n",
    "plt.show()"
   ]
  },
  {
   "cell_type": "code",
   "execution_count": 19,
   "metadata": {},
   "outputs": [],
   "source": [
    "# 1d\n",
    "# Odległość Hamminga - liczba pozycji na której ciągi się różnią\n",
    "\n",
    "def hamming_distance(p, q):\n",
    "    return sum(map((lambda x: x!=0), p-q))\n",
    "\n",
    "def permutation_distance(p, q):\n",
    "    return min([hamming_distance(np.roll(p, k), q) for k in range(len(p))])\n",
    "\n"
   ]
  },
  {
   "cell_type": "code",
   "execution_count": 24,
   "metadata": {},
   "outputs": [],
   "source": [
    "def simulated_annealing_3(T, radius, alpha):\n",
    "    t0 = time.time()\n",
    "\n",
    "    p = np.random.permutation(n)\n",
    "    p_cost = qap_objective_function(p)\n",
    "    costs = np.zeros(T)\n",
    "\n",
    "    succeses = 0\n",
    "    acc_fails = 0\n",
    "    \n",
    "    # res = []\n",
    "    cost_diffs = []\n",
    "    distances = []\n",
    "\n",
    "    for t in range(T):\n",
    "        q = random_neighbor(p, radius)\n",
    "        q_cost = qap_objective_function(q)\n",
    "        if(q_cost < p_cost):\n",
    "            succeses += 1\n",
    "            cost_diffs.append(p_cost - q_cost)\n",
    "            distances.append(permutation_distance(p, q))\n",
    "            p, p_cost = q, q_cost\n",
    "            # res.append((p_cost - q_cost, permutation_distance(p, q)))\n",
    "            \n",
    "\n",
    "        elif(np.random.rand() < np.exp(- alpha * (q_cost - p_cost) * t/T)):\n",
    "            acc_fails += 1\n",
    "            p, p_cost = q, q_cost\n",
    "        costs[t] = p_cost\n",
    "\n",
    "    # print(time.time() - t0, costs.min(), costs.argmin())\n",
    "\n",
    "    # print(cost_diffs, distances)\n",
    "\n",
    "\n",
    "\n",
    "    return (cost_diffs, distances)"
   ]
  },
  {
   "cell_type": "code",
   "execution_count": 25,
   "metadata": {},
   "outputs": [
    {
     "name": "stderr",
     "output_type": "stream",
     "text": [
      "100%|██████████| 1/1 [00:33<00:00, 33.47s/it]\n"
     ]
    }
   ],
   "source": [
    "T = 500000\n",
    "radius = 1\n",
    "alpha = 1.0\n",
    "\n",
    "\n",
    "costs_diff = []\n",
    "dists = []\n",
    "\n",
    "for i in tqdm(range(1)):\n",
    "    (c, d) = simulated_annealing_3(T, radius, alpha)\n",
    "    costs_diff += c\n",
    "    dists += d\n",
    "\n",
    "\n"
   ]
  },
  {
   "cell_type": "code",
   "execution_count": 22,
   "metadata": {},
   "outputs": [
    {
     "data": {
      "image/png": "[encoded data removed]",
      "text/plain": [
       "<Figure size 432x288 with 1 Axes>"
      ]
     },
     "metadata": {
      "needs_background": "light"
     },
     "output_type": "display_data"
    }
   ],
   "source": [
    "\n",
    "plt.scatter(x=costs_diff, y=dists)\n",
    "plt.show()"
   ]
  }
 ],
 "metadata": {
  "interpreter": {
   "hash": "31f2aee4e71d21fbe5cf8b01ff0e069b9275f58929596ceb00d14d90e3e16cd6"
  },
  "kernelspec": {
   "display_name": "Python 3.8.10 64-bit",
   "name": "python3"
  },
  "language_info": {
   "codemirror_mode": {
    "name": "ipython",
    "version": 3
   },
   "file_extension": ".py",
   "mimetype": "text/x-python",
   "name": "python",
   "nbconvert_exporter": "python",
   "pygments_lexer": "ipython3",
   "version": "3.8.10"
  }
 },
 "nbformat": 4,
 "nbformat_minor": 2
}
