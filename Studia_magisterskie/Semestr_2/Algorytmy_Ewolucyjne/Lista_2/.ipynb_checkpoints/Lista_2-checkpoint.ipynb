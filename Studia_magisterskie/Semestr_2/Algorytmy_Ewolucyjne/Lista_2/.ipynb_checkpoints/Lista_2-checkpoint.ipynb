{
 "cells": [
  {
   "cell_type": "markdown",
   "metadata": {},
   "source": [
    "# SGA-PMX Demo\n",
    "\n",
    "Skrypt przedstawia przykładową implementację algorytmu Simple Genetic Algorithm (SGA) z operatorem PMX i jego zastosowanie do rozwiązywania problemu komiwojażera (ang. Travelling Salesman Problem, TSP). Popularne instancje problemu TSP można znaleźć w bibliotece TSPLib [1]. Skrypt skupia się na rozwiązywaniu instancji BERLIN52, w celu rozwiązywania innych instancji może okazać się konieczna zmiana ustawień parametrów algorytmu, a może też i operatorów ewolucyjnych.\n",
    "\n",
    "Literatura:\n",
    "\n",
    "[1] TSPLIB, http://comopt.ifi.uni-heidelberg.de/software/TSPLIB95/"
   ]
  },
  {
   "cell_type": "code",
   "execution_count": null,
   "metadata": {},
   "outputs": [],
   "source": []
  },
  {
   "cell_type": "code",
   "execution_count": 1,
   "metadata": {},
   "outputs": [],
   "source": [
    "import numpy as np\n",
    "import matplotlib.pyplot as plt\n",
    "import time\n",
    "from tqdm.auto import tqdm\n",
    "import itertools as it\n",
    "\n",
    "%matplotlib inline"
   ]
  },
  {
   "cell_type": "markdown",
   "metadata": {},
   "source": [
    "## Input data"
   ]
  },
  {
   "cell_type": "code",
   "execution_count": null,
   "metadata": {},
   "outputs": [],
   "source": [
    "# BERLIN52\n",
    "\n",
    "n = 52\n",
    "print('Problem size: %d' % n)\n",
    "\n",
    "coords = np.array([565.0, 575.0, 25.0, 185.0, 345.0, 750.0, 945.0, 685.0, 845.0, 655.0, 880.0, 660.0, 25.0, 230.0, 525.0, 1000.0, 580.0, 1175.0, 650.0, 1130.0, 1605.0, 620.0, 1220.0, 580.0, 1465.0, 200.0, 1530.0, 5.0, 845.0, 680.0, 725.0, 370.0, 145.0, 665.0, 415.0, 635.0, 510.0, 875.0, 560.0, 365.0, 300.0, 465.0, 520.0, 585.0, 480.0, 415.0, 835.0, 625.0, 975.0, 580.0, 1215.0, 245.0, 1320.0, 315.0, 1250.0, 400.0, 660.0, 180.0, 410.0, 250.0, 420.0, 555.0, 575.0, 665.0, 1150.0, 1160.0, 700.0, 580.0, 685.0, 595.0, 685.0, 610.0, 770.0, 610.0, 795.0, 645.0, 720.0, 635.0, 760.0, 650.0, 475.0, 960.0, 95.0, 260.0, 875.0, 920.0, 700.0, 500.0, 555.0, 815.0, 830.0, 485.0, 1170.0, 65.0, 830.0, 610.0, 605.0, 625.0, 595.0, 360.0, 1340.0, 725.0, 1740.0, 245.0])\n",
    "coords = coords.reshape(n, 2)\n",
    "\n",
    "A = np.empty((n, n))\n",
    "for i in range(n):\n",
    "    for j in range(n):\n",
    "        A[i, j] = np.sqrt(((coords[i, :] - coords[j, :])**2).sum())\n",
    "print('Distance matrix:\\n', A)\n",
    "\n",
    "p = [0, 48, 31, 44, 18, 40,  7,  8,  9, 42, 32, 50, 10, 51, 13, 12, 46, 25, 26, 27, 11, 24,  3,  5, 14,  4, 23, 47, 37, 36, 39, 38, 35, 34, 33, 43, 45, 15, 28, 49, 19, 22, 29,  1,  6, 41, 20, 16,  2, 17, 30, 21]\n",
    "print('Optimal solution:\\n', p)\n",
    "\n",
    "print(coords)"
   ]
  },
  {
   "cell_type": "code",
   "execution_count": null,
   "metadata": {},
   "outputs": [],
   "source": [
    "plt.figure(figsize=(12,8))\n",
    "\n",
    "plt.plot(coords[:, 0], coords[:, 1], 'o')\n",
    "\n",
    "for i in range(n):\n",
    "    plt.text(coords[i, 0]+8, coords[i, 1]+8, str(i), fontdict={'weight':'bold', 'size':8})\n",
    "\n",
    "plt.title('Berlin52 - problem definition')\n",
    "\n",
    "plt.show()"
   ]
  },
  {
   "cell_type": "code",
   "execution_count": null,
   "metadata": {},
   "outputs": [],
   "source": [
    "from matplotlib.lines import Line2D\n",
    "\n",
    "\n",
    "def plot_path(route):\n",
    "\n",
    "    plt.figure(figsize=(12,8))\n",
    "    fig, ax = plt.subplots(figsize=(12,8))\n",
    "\n",
    "    plt.plot(coords[:, 0], coords[:, 1], 'o')\n",
    "\n",
    "    for i in range(n):\n",
    "        plt.text(coords[i, 0]+8, coords[i, 1]+8, str(i), fontdict={'weight':'bold', 'size':8})\n",
    "\n",
    "    ax.add_line(Line2D(\n",
    "        [coords[0, 0], coords[route[0], 0]],\n",
    "        [coords[0, 1], coords[route[0], 1]],\n",
    "        linewidth=1, color='gray'))\n",
    "    plt.text((coords[0, 0] + coords[route[0], 0])/2 + 6,\n",
    "            (coords[0, 1] + coords[route[0], 1])/2 + 6,\n",
    "            '%d' % A[0, route[0]], fontdict={'weight':'normal', 'size':7})\n",
    "    for i in range(1, len(route)):\n",
    "        ax.add_line(Line2D(\n",
    "            [coords[route[i-1], 0], coords[route[i], 0]],\n",
    "            [coords[route[i-1], 1], coords[route[i], 1]],\n",
    "            linewidth=1, color='gray'))\n",
    "        plt.text((coords[route[i-1], 0] + coords[route[i], 0])/2 + 6,\n",
    "                (coords[route[i-1], 1] + coords[route[i], 1])/2 + 6,\n",
    "                '%d' % A[route[i-1], route[i]], fontdict={'weight':'normal', 'size':7})\n",
    "    ax.add_line(Line2D(\n",
    "        [coords[route[-1], 0], coords[0, 0]],\n",
    "        [coords[route[-1], 1], coords[0, 1]],\n",
    "        linewidth=1, color='gray'))\n",
    "    plt.text((coords[route[-1], 0] + coords[0, 0])/2 + 6,\n",
    "            (coords[route[-1], 1] + coords[0, 1])/2 + 6,\n",
    "            '%d' % A[route[-1], 0], fontdict={'weight':'normal', 'size':7})\n",
    "\n",
    "    plt.title('Berlin52 - optimal solution')\n",
    "\n",
    "    plt.show()"
   ]
  },
  {
   "cell_type": "code",
   "execution_count": null,
   "metadata": {},
   "outputs": [],
   "source": [
    "plot_path(p)"
   ]
  },
  {
   "cell_type": "markdown",
   "metadata": {},
   "source": [
    "## Objective function"
   ]
  },
  {
   "cell_type": "code",
   "execution_count": null,
   "metadata": {
    "collapsed": true,
    "jupyter": {
     "outputs_hidden": true
    }
   },
   "outputs": [],
   "source": [
    "def tsp_objective_function(p, dist=A):\n",
    "    s = 0.0\n",
    "    n = len(p)\n",
    "    for i in range(n):\n",
    "        s += dist[p[i-1], p[i]]\n",
    "    return s"
   ]
  },
  {
   "cell_type": "code",
   "execution_count": null,
   "metadata": {},
   "outputs": [],
   "source": [
    "print(tsp_objective_function(p), p)"
   ]
  },
  {
   "cell_type": "markdown",
   "metadata": {},
   "source": [
    "## Random Sampling"
   ]
  },
  {
   "cell_type": "code",
   "execution_count": 8,
   "metadata": {},
   "outputs": [
    {
     "name": "stdout",
     "output_type": "stream",
     "text": [
      "20.195223331451416\n",
      "21315.540428573084 [32  2 48 43 49 12 46 13 28 19 34 22  7  0 14 23 25 51 11 31 38 27 26 42\n",
      " 18 29 21 15  8  9 44 50 10  5 45 17 30 40 35 41  6 20  1 36 47 37 16 39\n",
      "  4 24  3 33]\n"
     ]
    }
   ],
   "source": [
    "t0 = time.time()\n",
    "\n",
    "T = 1000000\n",
    "\n",
    "permutations = np.empty((T, n), dtype=np.int64)\n",
    "costs = np.zeros(T)\n",
    "for i in range(T):\n",
    "    permutations[i, :] = np.random.permutation(n)\n",
    "    costs[i] = tsp_objective_function(permutations[i, :])\n",
    "\n",
    "print(time.time() - t0)\n",
    "\n",
    "p = permutations[costs.argmin(), :]\n",
    "print(tsp_objective_function(p), p)"
   ]
  },
  {
   "cell_type": "code",
   "execution_count": 9,
   "metadata": {},
   "outputs": [
    {
     "data": {
      "image/png": "[encoded data removed]",
      "text/plain": [
       "<Figure size 864x288 with 1 Axes>"
      ]
     },
     "metadata": {
      "needs_background": "light"
     },
     "output_type": "display_data"
    },
    {
     "name": "stdout",
     "output_type": "stream",
     "text": [
      "29913.628925342015 1577.958314583908\n"
     ]
    }
   ],
   "source": [
    "plt.figure(figsize=(12,4))\n",
    "plt.hist(costs, bins=100)\n",
    "# plt.plot(costs)\n",
    "plt.show()\n",
    "\n",
    "print(costs.mean(), costs.std())"
   ]
  },
  {
   "cell_type": "markdown",
   "metadata": {},
   "source": [
    "## Simulated Annealing"
   ]
  },
  {
   "cell_type": "code",
   "execution_count": 10,
   "metadata": {
    "collapsed": true,
    "jupyter": {
     "outputs_hidden": true
    }
   },
   "outputs": [],
   "source": [
    "def random_neighbor(p, radius):\n",
    "    q = p.copy()\n",
    "    for r in range(radius):\n",
    "        i, j = np.random.choice(n, 2, replace=False)\n",
    "        q[i], q[j] = q[j], q[i]\n",
    "    return q"
   ]
  },
  {
   "cell_type": "code",
   "execution_count": 11,
   "metadata": {},
   "outputs": [],
   "source": [
    "T = 500000\n",
    "radius = 1\n",
    "alpha = 1.0\n",
    "\n",
    "t0 = time.time()\n",
    "\n",
    "p = np.random.permutation(n)\n",
    "p_cost = tsp_objective_function(p)\n",
    "costs = np.zeros(T)\n",
    "for t in range(T):\n",
    "    q = random_neighbor(p, radius)\n",
    "    q_cost = tsp_objective_function(q)\n",
    "    if(q_cost < p_cost):\n",
    "        p, p_cost = q, q_cost\n",
    "    elif(np.random.rand() < np.exp(- alpha * (q_cost - p_cost) * t/T)):\n",
    "        p, p_cost = q, q_cost\n",
    "    costs[t] = p_cost\n",
    "\n",
    "print(time.time() - t0, costs.min())"
   ]
  },
  {
   "cell_type": "code",
   "execution_count": null,
   "metadata": {},
   "outputs": [],
   "source": [
    "print(costs)\n",
    "plt.figure(figsize=(12,4))\n",
    "plt.plot(costs)\n",
    "plt.show()"
   ]
  },
  {
   "cell_type": "markdown",
   "metadata": {},
   "source": [
    "## SGA-PMX"
   ]
  },
  {
   "cell_type": "code",
   "execution_count": null,
   "metadata": {
    "collapsed": true,
    "jupyter": {
     "outputs_hidden": true
    }
   },
   "outputs": [],
   "source": [
    "def PMX(ind1, ind2):\n",
    "    l = len(ind1)\n",
    "\n",
    "    p = np.random.randint(0,l)\n",
    "    q = np.random.randint(p, l+1)\n",
    "\n",
    "    cut1 = ind1[p:q].copy()\n",
    "    cut2 = ind2[p:q].copy()\n",
    "\n",
    "    ind1[p:q] = cut2.copy()\n",
    "    ind2[p:q] = cut1.copy()\n",
    "\n",
    "    swap1 = dict(zip(cut2, cut1))\n",
    "    swap2 = dict(zip(cut1, cut2))\n",
    "\n",
    "    for i in range(l):\n",
    "        if (not (p <= i < q)):\n",
    "            while (ind1[i] in swap1):\n",
    "                ind1[i] = swap1[ind1[i]]\n",
    "\n",
    "            while (ind2[i] in swap2):\n",
    "                ind2[i] = swap2[ind2[i]]\n",
    "\n",
    "    return ind1, ind2"
   ]
  },
  {
   "cell_type": "code",
   "execution_count": null,
   "metadata": {
    "collapsed": true,
    "jupyter": {
     "outputs_hidden": true
    }
   },
   "outputs": [],
   "source": [
    "def reverse_sequence_mutation(p):\n",
    "    a = np.random.choice(len(p), 2, False)\n",
    "    i, j = a.min(), a.max()\n",
    "    q = p.copy()\n",
    "    q[i:j+1] = q[i:j+1][::-1]\n",
    "    return q"
   ]
  },
  {
   "cell_type": "code",
   "execution_count": null,
   "metadata": {},
   "outputs": [],
   "source": [
    "population_size = 500\n",
    "chromosome_length = n\n",
    "number_of_offspring = population_size\n",
    "crossover_probability = 0.95\n",
    "mutation_probability = 0.25\n",
    "number_of_iterations = 250\n",
    "\n",
    "time0 = time.time()\n",
    "\n",
    "best_objective_value = np.Inf\n",
    "best_chromosome = np.zeros((1, chromosome_length))\n",
    "\n",
    "populations = []\n",
    "\n",
    "# generating an initial population\n",
    "current_population = np.zeros((population_size, chromosome_length), dtype=np.int64)\n",
    "for i in range(population_size):\n",
    "    current_population[i, :] = np.random.permutation(chromosome_length)\n",
    "\n",
    "# evaluating the objective function on the current population\n",
    "objective_values = np.zeros(population_size)\n",
    "for i in range(population_size):\n",
    "    objective_values[i] = tsp_objective_function(current_population[i, :])\n",
    "\n",
    "populations_objective_values = []\n",
    "populations_objective_values.append(objective_values)\n",
    "\n",
    "for t in range(number_of_iterations):\n",
    "\n",
    "    # selecting the parent indices by the roulette wheel method\n",
    "    fitness_values = objective_values.max() - objective_values\n",
    "    if fitness_values.sum() > 0:\n",
    "        fitness_values = fitness_values / fitness_values.sum()\n",
    "    else:\n",
    "        fitness_values = np.ones(population_size) / population_size\n",
    "    parent_indices = np.random.choice(population_size, number_of_offspring, True, fitness_values).astype(np.int64)\n",
    "\n",
    "    # creating the children population\n",
    "    children_population = np.zeros((number_of_offspring, chromosome_length), dtype=np.int64)\n",
    "    for i in range(int(number_of_offspring/2)):\n",
    "        if np.random.random() < crossover_probability:\n",
    "            children_population[2*i, :], children_population[2*i+1, :] = PMX(current_population[parent_indices[2*i], :].copy(), current_population[parent_indices[2*i+1], :].copy())\n",
    "        else:\n",
    "            children_population[2*i, :], children_population[2*i+1, :] = current_population[parent_indices[2*i], :].copy(), current_population[parent_indices[2*i+1]].copy()\n",
    "    if np.mod(number_of_offspring, 2) == 1:\n",
    "        children_population[-1, :] = current_population[parent_indices[-1], :]\n",
    "\n",
    "    # mutating the children population\n",
    "    for i in range(number_of_offspring):\n",
    "        if np.random.random() < mutation_probability:\n",
    "            children_population[i, :] = reverse_sequence_mutation(children_population[i, :])\n",
    "\n",
    "    # evaluating the objective function on the children population\n",
    "    children_objective_values = np.zeros(number_of_offspring)\n",
    "    for i in range(number_of_offspring):\n",
    "        children_objective_values[i] = tsp_objective_function(children_population[i, :])\n",
    "\n",
    "    # replacing the current population by (Mu + Lambda) Replacement\n",
    "    objective_values = np.hstack([objective_values, children_objective_values])\n",
    "    current_population = np.vstack([current_population, children_population])\n",
    "\n",
    "    I = np.argsort(objective_values)\n",
    "    current_population = current_population[I[:population_size], :]\n",
    "    objective_values = objective_values[I[:population_size]]\n",
    "\n",
    "    populations_objective_values.append(objective_values)\n",
    "\n",
    "    # print(objective_values)\n",
    "\n",
    "    # recording some statistics\n",
    "    if best_objective_value > objective_values[0]:\n",
    "        best_objective_value = objective_values[0]\n",
    "        best_chromosome = current_population[0, :]\n",
    "\n",
    "    # print(best_chromosome)\n",
    "\n",
    "    # print('%3d %14.8f %12.8f %12.8f %12.8f %12.8f' % (t, time.time() - time0, objective_values.min(), objective_values.mean(), objective_values.max(), objective_values.std()))\n",
    "\n",
    "print(best_objective_value)\n",
    "plot_path(best_chromosome)"
   ]
  },
  {
   "cell_type": "code",
   "execution_count": null,
   "metadata": {},
   "outputs": [],
   "source": [
    "ea_means = np.mean(populations_objective_values, axis=1)\n",
    "ea_maxs = np.max(populations_objective_values, axis=1)\n",
    "ea_mins = np.min(populations_objective_values, axis=1)\n",
    "\n",
    "plt.figure(figsize=[12, 7])\n",
    "\n",
    "plt.axis(True)\n",
    "plt.grid(True)\n",
    "\n",
    "plt.plot(ea_means)\n",
    "plt.plot(ea_mins)\n",
    "plt.plot(ea_maxs)\n",
    "plt.show()\n"
   ]
  },
  {
   "cell_type": "code",
   "execution_count": null,
   "metadata": {},
   "outputs": [],
   "source": [
    "def swap_mutation(p):\n",
    "    i, j = np.random.choice(n, 2, replace=False)\n",
    "    q = p.copy()\n",
    "    q[i], q[j] = q[j], q[i]\n",
    "    return q"
   ]
  },
  {
   "cell_type": "code",
   "execution_count": null,
   "metadata": {},
   "outputs": [],
   "source": [
    "population_size = 500\n",
    "chromosome_length = n\n",
    "number_of_offspring = population_size\n",
    "crossover_probability = 0.95\n",
    "mutation_probability = 0.25\n",
    "number_of_iterations = 250\n",
    "\n",
    "time0 = time.time()\n",
    "\n",
    "best_objective_value = np.Inf\n",
    "best_chromosome = np.zeros((1, chromosome_length))\n",
    "\n",
    "populations = []\n",
    "\n",
    "# generating an initial population\n",
    "current_population = np.zeros((population_size, chromosome_length), dtype=np.int64)\n",
    "for i in range(population_size):\n",
    "    current_population[i, :] = np.random.permutation(chromosome_length)\n",
    "\n",
    "# evaluating the objective function on the current population\n",
    "objective_values = np.zeros(population_size)\n",
    "for i in range(population_size):\n",
    "    objective_values[i] = tsp_objective_function(current_population[i, :])\n",
    "\n",
    "populations_objective_values = []\n",
    "populations_objective_values.append(objective_values)\n",
    "\n",
    "for t in range(number_of_iterations):\n",
    "\n",
    "    # selecting the parent indices by the roulette wheel method\n",
    "    fitness_values = objective_values.max() - objective_values\n",
    "    if fitness_values.sum() > 0:\n",
    "        fitness_values = fitness_values / fitness_values.sum()\n",
    "    else:\n",
    "        fitness_values = np.ones(population_size) / population_size\n",
    "    parent_indices = np.random.choice(population_size, number_of_offspring, True, fitness_values).astype(np.int64)\n",
    "\n",
    "    # creating the children population\n",
    "    children_population = np.zeros((number_of_offspring, chromosome_length), dtype=np.int64)\n",
    "    for i in range(int(number_of_offspring/2)):\n",
    "        if np.random.random() < crossover_probability:\n",
    "            children_population[2*i, :], children_population[2*i+1, :] = PMX(current_population[parent_indices[2*i], :].copy(), current_population[parent_indices[2*i+1], :].copy())\n",
    "        else:\n",
    "            children_population[2*i, :], children_population[2*i+1, :] = current_population[parent_indices[2*i], :].copy(), current_population[parent_indices[2*i+1]].copy()\n",
    "    if np.mod(number_of_offspring, 2) == 1:\n",
    "        children_population[-1, :] = current_population[parent_indices[-1], :]\n",
    "\n",
    "    # mutating the children population\n",
    "    for i in range(number_of_offspring):\n",
    "        if np.random.random() < mutation_probability:\n",
    "            children_population[i, :] = swap_mutation(children_population[i, :])\n",
    "\n",
    "    # evaluating the objective function on the children population\n",
    "    children_objective_values = np.zeros(number_of_offspring)\n",
    "    for i in range(number_of_offspring):\n",
    "        children_objective_values[i] = tsp_objective_function(children_population[i, :])\n",
    "\n",
    "    # replacing the current population by (Mu + Lambda) Replacement\n",
    "    objective_values = np.hstack([objective_values, children_objective_values])\n",
    "    current_population = np.vstack([current_population, children_population])\n",
    "\n",
    "    I = np.argsort(objective_values)\n",
    "    current_population = current_population[I[:population_size], :]\n",
    "    objective_values = objective_values[I[:population_size]]\n",
    "\n",
    "    populations_objective_values.append(objective_values)\n",
    "\n",
    "    # print(objective_values)\n",
    "\n",
    "    # recording some statistics\n",
    "    if best_objective_value > objective_values[0]:\n",
    "        best_objective_value = objective_values[0]\n",
    "        best_chromosome = current_population[0, :]\n",
    "\n",
    "    # print(best_chromosome)\n",
    "\n",
    "    # print('%3d %14.8f %12.8f %12.8f %12.8f %12.8f' % (t, time.time() - time0, objective_values.min(), objective_values.mean(), objective_values.max(), objective_values.std()))\n",
    "\n",
    "print(best_objective_value)\n",
    "plot_path(best_chromosome)"
   ]
  },
  {
   "cell_type": "code",
   "execution_count": null,
   "metadata": {},
   "outputs": [],
   "source": [
    "def plot_min_max_mean(populations_objective_values):\n",
    "    ea_means = np.mean(populations_objective_values, axis=1)\n",
    "    ea_maxs = np.max(populations_objective_values, axis=1)\n",
    "    ea_mins = np.min(populations_objective_values, axis=1)\n",
    "\n",
    "    plt.figure(figsize=[12, 7])\n",
    "\n",
    "    plt.axis(True)\n",
    "    plt.grid(True)\n",
    "\n",
    "    plt.plot(ea_means)\n",
    "    plt.plot(ea_mins)\n",
    "    plt.plot(ea_maxs)\n",
    "    plt.show()"
   ]
  },
  {
   "cell_type": "code",
   "execution_count": null,
   "metadata": {},
   "outputs": [],
   "source": [
    "plot_min_max_mean(populations_objective_values)\n"
   ]
  },
  {
   "cell_type": "code",
   "execution_count": null,
   "metadata": {},
   "outputs": [],
   "source": [
    "import numpy as np\n",
    "import matplotlib.pyplot as plt\n",
    "import time\n",
    "\n",
    "%matplotlib inline"
   ]
  },
  {
   "cell_type": "code",
   "execution_count": null,
   "metadata": {},
   "outputs": [],
   "source": [
    "def reshape_arr(arr):\n",
    "    return arr.reshape(int(arr.size/2), 2)\n",
    "\n",
    "def distance_matrix(coords):\n",
    "    n = len(coords)\n",
    "    res = np.empty((n, n))\n",
    "    for i in range(n):\n",
    "        for j in range(n):\n",
    "            res[i, j] = np.sqrt(((coords[i, :] - coords[j, :])**2).sum())\n",
    "\n",
    "    return res"
   ]
  },
  {
   "cell_type": "code",
   "execution_count": null,
   "metadata": {},
   "outputs": [],
   "source": [
    "\n",
    "bayg29_str = \"\"\"97 205 139  86  60 220  65 111 115 227  95  82 225 168 103 266 205 149 120  58 257 152  52 180 136  82  34 145\n",
    "129 103  71 105 258 154 112  65 204 150  87 176 137 142 204 148 148  49  41 211 226 116 197  89 153 124  74\n",
    "219 125 175 386 269 134 184 313 201 215 267 248 271 274 236 272 160 151 300 350 239 322  78 276 220  60\n",
    "167 182 180 162 208  39 102 227  60  86  34  96 129  69  58  60 120 119 192 114 110 192 136 173 173\n",
    "51 296 150  42 131 268  88 131 245 201 175 275 218 202 119  50 281 238 131 244  51 166  95  69\n",
    "279 114  56 150 278  46 133 266 214 162 302 242 203 146  67 300 205 111 238  98 139  52 120\n",
    "178 328 206 147 308 172 203 165 121 251 216 122 231 249 209 111 169  72 338 144 237 331\n",
    "169 151 227 133 104 242 182  84 290 230 146 165 121 270  91  48 158 200  39  64 210\n",
    "172 309  68 169 286 242 208 315 259 240 160  90 322 260 160 281  57 192 107  90\n",
    "140 195  51 117  72 104 153  93  88  25  85 152 200 104 139 154 134 149 135\n",
    "320 146  64  68 143 106  88  81 159 219  63 216 187  88 293 191 258 272\n",
    "174 311 258 196 347 288 243 192 113 345 222 144 274 124 165  71 153\n",
    "144  86  57 189 128  71  71  82 176 150  56 114 168  83 115 160\n",
    "61 165  51  32 105 127 201  36 254 196 136 260 212 258 234\n",
    "106 110  56  49  91 153  91 197 136  94 225 151 201 205\n",
    "215 159  64 126 128 190  98  53  78 218  48 127 214\n",
    "61 155 157 235  47 305 243 186 282 261 300 252\n",
    "105 100 176  66 253 183 146 231 203 239 204\n",
    "113 152 127 150 106  52 235 112 179 221\n",
    "79 163 220 119 164 135 152 153 114\n",
    "236 201  90 195  90 127  84  91\n",
    "273 226 148 296 238 291 269\n",
    "112 130 286  74 155 291\n",
    "130 178  38  75 180\n",
    "281 120 205 270\n",
    "213 145  36\n",
    "94 217\n",
    "162\n",
    "\"\"\"\n",
    "\n"
   ]
  },
  {
   "cell_type": "code",
   "execution_count": null,
   "metadata": {},
   "outputs": [],
   "source": [
    "def string_to_array(arr_str: str, n: int):\n",
    "    arr_str = arr_str.replace(\"  \", \" \")\n",
    "    arr_str = arr_str.replace(\"\\n \", \"\\n\")\n",
    "\n",
    "    splited = arr_str.splitlines()\n",
    "\n",
    "    res = []\n",
    "\n",
    "    for line in splited:\n",
    "        row = list(map(int, line.split(\" \")))\n",
    "        row = [0] * (n - len(row)) + row\n",
    "\n",
    "        res.append(row)\n",
    "\n",
    "    res.append([0]*n)\n",
    "\n",
    "    res = np.array(res)\n",
    "\n",
    "    for i in range(n):\n",
    "        for j in range(n):\n",
    "            if (res[i][j] != 0):\n",
    "                res[j][i] = res[i][j]\n",
    "\n",
    "    return res"
   ]
  },
  {
   "cell_type": "code",
   "execution_count": null,
   "metadata": {},
   "outputs": [],
   "source": [
    "bayg29_opt = np.array([1, 28, 6, 12, 9, 26, 3, 29, 5, 21, 2, 20, 10, 4, 15, 18, 14, 17, 22, 11, 19, 25, 7, 23, 8, 27, 16, 13, 24]) - 1\n",
    "bayg29_dist = string_to_array(bayg29_str, 29)"
   ]
  },
  {
   "cell_type": "code",
   "execution_count": null,
   "metadata": {},
   "outputs": [],
   "source": [
    "bays29_dist =np.array([\n",
    "[0, 107, 241, 190, 124, 80, 316, 76, 152, 157, 283, 133, 113, 297, 228, 129, 348, 276, 188, 150, 65, 341, 184, 67, 221, 169, 108, 45, 167],\n",
    "[107, 0, 148, 137, 88, 127, 336, 183, 134, 95, 254, 180, 101, 234, 175, 176, 265, 199, 182, 67, 42, 278, 271, 146, 251, 105, 191, 139, 79],\n",
    "[241, 148, 0, 374, 171, 259, 509, 317, 217, 232, 491, 312, 280, 391, 412, 349, 422, 356, 355, 204, 182, 435, 417, 292, 424, 116, 337, 273, 77],\n",
    "[190, 137, 374, 0, 202, 234, 222, 192, 248, 42, 117, 287, 79, 107, 38, 121, 152, 86, 68, 70, 137, 151, 239, 135, 137, 242, 165, 228, 205],\n",
    "[124, 88, 171, 202, 0, 61, 392, 202, 46, 160, 319, 112, 163, 322, 240, 232, 314, 287, 238, 155, 65, 366, 300, 175, 307, 57, 220, 121, 97],\n",
    "[80, 127, 259, 234, 61, 0, 386, 141, 72, 167, 351, 55, 157, 331, 272, 226, 362, 296, 232, 164, 85, 375, 249, 147, 301, 118, 188, 60, 185],\n",
    "[316, 336, 509, 222, 392, 386, 0, 233, 438, 254, 202, 439, 235, 254, 210, 187, 313, 266, 154, 282, 321, 298, 168, 249, 95, 437, 190, 314, 435],\n",
    "[76, 183, 317, 192, 202, 141, 233, 0, 213, 188, 272, 193, 131, 302, 233, 98, 344, 289, 177, 216, 141, 346, 108, 57, 190, 245, 43, 81, 243],\n",
    "[152, 134, 217, 248, 46, 72, 438, 213, 0, 206, 365, 89, 209, 368, 286, 278, 360, 333, 284, 201, 111, 412, 321, 221, 353, 72, 266, 132, 111],\n",
    "[157, 95, 232, 42, 160, 167, 254, 188, 206, 0, 159, 220, 57, 149, 80, 132, 193, 127, 100, 28, 95, 193, 241, 131, 169, 200, 161, 189, 163],\n",
    "[283, 254, 491, 117, 319, 351, 202, 272, 365, 159, 0, 404, 176, 106, 79, 161, 165, 141, 95, 187, 254, 103, 279, 215, 117, 359, 216, 308, 322],\n",
    "[133, 180, 312, 287, 112, 55, 439, 193, 89, 220, 404, 0, 210, 384, 325, 279, 415, 349, 285, 217, 138, 428, 310, 200, 354, 169, 241, 112, 238],\n",
    "[113, 101, 280, 79, 163, 157, 235, 131, 209, 57, 176, 210, 0, 186, 117, 75, 231, 165, 81, 85, 92, 230, 184, 74, 150, 208, 104, 158, 206],\n",
    "[297, 234, 391, 107, 322, 331, 254, 302, 368, 149, 106, 384, 186, 0, 69, 191, 59, 35, 125, 167, 255, 44, 309, 245, 169, 327, 246, 335, 288],\n",
    "[228, 175, 412, 38, 240, 272, 210, 233, 286, 80, 79, 325, 117, 69, 0, 122, 122, 56, 56, 108, 175, 113, 240, 176, 125, 280, 177, 266, 243],\n",
    "[129, 176, 349, 121, 232, 226, 187, 98, 278, 132, 161, 279, 75, 191, 122, 0, 244, 178, 66, 160, 161, 235, 118, 62, 92, 277, 55, 155, 275],\n",
    "[348, 265, 422, 152, 314, 362, 313, 344, 360, 193, 165, 415, 231, 59, 122, 244, 0, 66, 178, 198, 286, 77, 362, 287, 228, 358, 299, 380, 319],\n",
    "[276, 199, 356, 86, 287, 296, 266, 289, 333, 127, 141, 349, 165, 35, 56, 178, 66, 0, 112, 132, 220, 79, 296, 232, 181, 292, 233, 314, 253],\n",
    "[188, 182, 355, 68, 238, 232, 154, 177, 284, 100, 95, 285, 81, 125, 56, 66, 178, 112, 0, 128, 167, 169, 179, 120, 69, 283, 121, 213, 281],\n",
    "[150, 67, 204, 70, 155, 164, 282, 216, 201, 28, 187, 217, 85, 167, 108, 160, 198, 132, 128, 0, 88, 211, 269, 159, 197, 172, 189, 182, 135],\n",
    "[65, 42, 182, 137, 65, 85, 321, 141, 111, 95, 254, 138, 92, 255, 175, 161, 286, 220, 167, 88, 0, 299, 229, 104, 236, 110, 149, 97, 108],\n",
    "[341, 278, 435, 151, 366, 375, 298, 346, 412, 193, 103, 428, 230, 44, 113, 235, 77, 79, 169, 211, 299, 0, 353, 289, 213, 371, 290, 379, 332],\n",
    "[184, 271, 417, 239, 300, 249, 168, 108, 321, 241, 279, 310, 184, 309, 240, 118, 362, 296, 179, 269, 229, 353, 0, 121, 162, 345, 80, 189, 342],\n",
    "[67, 146, 292, 135, 175, 147, 249, 57, 221, 131, 215, 200, 74, 245, 176, 62, 287, 232, 120, 159, 104, 289, 121, 0, 154, 220, 41, 93, 218],\n",
    "[221, 251, 424, 137, 307, 301, 95, 190, 353, 169, 117, 354, 150, 169, 125, 92, 228, 181, 69, 197, 236, 213, 162, 154, 0, 352, 147, 247, 350],\n",
    "[169, 105, 116, 242, 57, 118, 437, 245, 72, 200, 359, 169, 208, 327, 280, 277, 358, 292, 283, 172, 110, 371, 345, 220, 352, 0, 265, 178, 39],\n",
    "[108, 191, 337, 165, 220, 188, 190, 43, 266, 161, 216, 241, 104, 246, 177, 55, 299, 233, 121, 189, 149, 290, 80, 41, 147, 265, 0, 124, 263],\n",
    "[45, 139, 273, 228, 121, 60, 314, 81, 132, 189, 308, 112, 158, 335, 266, 155, 380, 314, 213, 182, 97, 379, 189, 93, 247, 178, 124, 0, 199],\n",
    "[167, 79, 77, 205, 97, 185, 435, 243, 111, 163, 322, 238, 206, 288, 243, 275, 319, 253, 281, 135, 108, 332, 342, 218, 350, 39, 263, 199, 0],\n",
    "])\n",
    "bays29_opt = np.array([1, 28, 6, 12, 9, 5, 26, 29, 3, 2, 20, 10, 4, 15, 18, 17, 14, 22, 11, 19, 25, 7, 23, 27, 8, 24, 16, 13, 21]) -1"
   ]
  },
  {
   "cell_type": "code",
   "execution_count": null,
   "metadata": {},
   "outputs": [],
   "source": [
    "kroA100 = [1380, 939, 2848, 96, 3510, 1671, 457, 334, 3888, 666, 984, 965, 2721, 1482, 1286, 525, 2716, 1432, 738, 1325, 1251, 1832, 2728, 1698, 3815, 169, 3683, 1533, 1247, 1945, 123, 862, 1234, 1946, 252, 1240, 611, 673, 2576, 1676, 928, 1700, 53, 857, 1807, 1711, 274, 1420, 2574, 946, 178, 24, 2678, 1825, 1795, 962, 3384, 1498, 3520, 1079, 1256, 61, 1424, 1728, 3913, 192, 3085, 1528, 2573, 1969, 463, 1670, 3875, 598, 298, 1513, 3479, 821, 2542, 236, 3955, 1743, 1323, 280, 3447, 1830, 2936, 337, 1621, 1830, 3373, 1646, 1393, 1368, 3874, 1318, 938, 955, 3022, 474, 2482, 1183, 3854, 923, 376, 825, 2519, 135, 2945, 1622, 953, 268, 2628, 1479, 2097, 981, 890, 1846, 2139, 1806, 2421, 1007, 2290, 1810, 1115, 1052, 2588, 302, 327, 265, 241, 341, 1917, 687, 2991, 792, 2573, 599, 19, 674, 3911, 1673, 872, 1559, 2863, 558, 929, 1766, 839, 620, 3893, 102, 2178, 1619, 3822, 899, 378, 1048, 1178, 100, 2599, 901, 3416, 143, 2961, 1605, 611, 1384, 3113, 885, 2597, 1830, 2586, 1286, 161, 906, 1429, 134, 742, 1025, 1625, 1651, 1187, 706, 1787, 1009, 22, 987, 3640, 43, 3756, 882, 776, 392, 1724, 1642, 198, 1810, 3950, 1558]\n",
    "kroA100 = reshape_arr(np.array(kroA100))\n",
    "\n",
    "kroA100_dist = distance_matrix(kroA100)\n",
    "\n",
    "kroA100_opt = np.array([1, 47, 93, 28, 67, 58, 61, 51, 87, 25, 81, 69, 64, 40, 54, 2, 44, 50, 73, 68, 85, 82, 95, 13, 76, 33, 37, 5, 52, 78, 96, 39, 30, 48, 100, 41, 71, 14, 3, 43, 46, 29, 34, 83, 55, 7, 9, 57, 20, 12, 27, 86, 35, 62, 60, 77, 23, 98, 91, 45, 32, 11, 15, 17, 59, 74, 21, 72, 10, 84, 36, 99, 38, 24, 18, 79, 53, 88, 16, 94, 22, 70, 66, 26, 65, 4, 97, 56, 80, 31, 89, 42, 8, 92, 75, 19, 90, 49, 6, 63]) - 1"
   ]
  },
  {
   "cell_type": "code",
   "execution_count": null,
   "metadata": {},
   "outputs": [],
   "source": [
    "kroA150 = [1380, 939, 2848, 96, 3510, 1671, 457, 334, 3888, 666, 984, 965, 2721, 1482, 1286, 525, 2716, 1432, 738, 1325, 1251, 1832, 2728, 1698, 3815, 169, 3683, 1533, 1247, 1945, 123, 862, 1234, 1946, 252, 1240, 611, 673, 2576, 1676, 928, 1700, 53, 857, 1807, 1711, 274, 1420, 2574, 946, 178, 24, 2678, 1825, 1795, 962, 3384, 1498, 3520, 1079, 1256, 61, 1424, 1728, 3913, 192, 3085, 1528, 2573, 1969, 463, 1670, 3875, 598, 298, 1513, 3479, 821, 2542, 236, 3955, 1743, 1323, 280, 3447, 1830, 2936, 337, 1621, 1830, 3373, 1646, 1393, 1368, 3874, 1318, 938, 955, 3022, 474, 2482, 1183, 3854, 923, 376, 825, 2519, 135, 2945, 1622, 953, 268, 2628, 1479, 2097, 981, 890, 1846, 2139, 1806, 2421, 1007, 2290, 1810, 1115, 1052, 2588, 302, 327, 265, 241, 341, 1917, 687, 2991, 792, 2573, 599, 19, 674, 3911, 1673, 872, 1559, 2863, 558, 929, 1766, 839, 620, 3893, 102, 2178, 1619, 3822, 899, 378, 1048, 1178, 100, 2599, 901, 3416, 143, 2961, 1605, 611, 1384, 3113, 885, 2597, 1830, 2586, 1286, 161, 906, 1429, 134, 742, 1025, 1625, 1651, 1187, 706, 1787, 1009, 22, 987, 3640, 43, 3756, 882, 776, 392, 1724, 1642, 198, 1810, 3950, 1558, 3477, 949, 91, 1732, 3972, 329, 198, 1632, 1806, 733, 538, 1023, 3430, 1088, 2186, 766, 1513, 1646, 2143, 1611, 53, 1657, 3404, 1307, 1034, 1344, 2823, 376, 3104, 1931, 3232, 324, 2790, 1457, 374, 9, 741, 146, 3083, 1938, 3502, 1067, 1280, 237, 3326, 1846, 217, 38, 2503, 1172, 3527, 41, 739, 1850, 3548, 1999, 48, 154, 1419, 872, 1689, 1223, 3468, 1404, 1628, 253, 382, 872, 3029, 1242, 3646, 1758, 285, 1029, 1782, 93, 1067, 371, 2849, 1214, 920, 1835, 1741, 712, 876, 220, 2753, 283, 2609, 1286, 3941, 258, 3613, 523, 1754, 559, 2916, 1724, 2445, 1820]\n",
    "\n",
    "kroA150 = reshape_arr(np.array(kroA150))\n",
    "\n",
    "kroA150_dist = distance_matrix(kroA150)"
   ]
  },
  {
   "cell_type": "code",
   "execution_count": null,
   "metadata": {},
   "outputs": [],
   "source": [
    "kroA200 = [1357, 1905, 2650, 802, 1774, 107, 1307, 964, 3806, 746, 2687, 1353, 43, 1957, 3092, 1668, 185, 1542, 834, 629, 40, 462, 1183, 1391, 2048, 1628, 1097, 643, 1838, 1732, 234, 1118, 3314, 1881, 737, 1285, 779, 777, 2312, 1949, 2576, 189, 3078, 1541, 2781, 478, 705, 1812, 3409, 1917, 323, 1714, 1660, 1556, 3729, 1188, 693, 1383, 2361, 640, 2433, 1538, 554, 1825, 913, 317, 3586, 1909, 2636, 727, 1000, 457, 482, 1337, 3704, 1082, 3635, 1174, 1362, 1526, 2049, 417, 2552, 1909, 3939, 640, 219, 898, 812, 351, 901, 1552, 2513, 1572, 242, 584, 826, 1226, 3278, 799, 86, 1065, 14, 454, 1327, 1893, 2773, 1286, 2469, 1838, 3835, 963, 1031, 428, 3853, 1712, 1868, 197, 1544, 863, 457, 1607, 3174, 1064, 192, 1004, 2318, 1925, 2232, 1374, 396, 828, 2365, 1649, 2499, 658, 1410, 307, 2990, 214, 3646, 1018, 3394, 1028, 1779, 90, 1058, 372, 2933, 1459, 3099, 173, 2178, 978, 138, 1610, 2082, 1753, 2302, 1127, 805, 272, 22, 1617, 3213, 1085, 99, 536, 1533, 1780, 3564, 676, 29, 6, 3808, 1375, 2221, 291, 3499, 1885, 3124, 408, 781, 671, 1027, 1041, 3249, 378, 3297, 491, 213, 220, 721, 186, 3736, 1542, 868, 731, 960, 303, 1380, 939, 2848, 96, 3510, 1671, 457, 334, 3888, 666, 984, 965, 2721, 1482, 1286, 525, 2716, 1432, 738, 1325, 1251, 1832, 2728, 1698, 3815, 169, 3683, 1533, 1247, 1945, 123, 862, 1234, 1946, 252, 1240, 611, 673, 2576, 1676, 928, 1700, 53, 857, 1807, 1711, 274, 1420, 2574, 946, 178, 24, 2678, 1825, 1795, 962, 3384, 1498, 3520, 1079, 1256, 61, 1424, 1728, 3913, 192, 3085, 1528, 2573, 1969, 463, 1670, 3875, 598, 298, 1513, 3479, 821, 2542, 236, 3955, 1743, 1323, 280, 3447, 1830, 2936, 337, 1621, 1830, 3373, 1646, 1393, 1368, 3874, 1318, 938, 955, 3022, 474, 2482, 1183, 3854, 923, 376, 825, 2519, 135, 2945, 1622, 953, 268, 2628, 1479, 2097, 981, 890, 1846, 2139, 1806, 2421, 1007, 2290, 1810, 1115, 1052, 2588, 302, 327, 265, 241, 341, 1917, 687, 2991, 792, 2573, 599, 19, 674, 3911, 1673, 872, 1559, 2863, 558, 929, 1766, 839, 620, 3893, 102, 2178, 1619, 3822, 899, 378, 1048, 1178, 100, 2599, 901, 3416, 143, 2961, 1605, 611, 1384, 3113, 885, 2597, 1830, 2586, 1286, 161, 906, 1429, 134, 742, 1025, 1625, 1651, 1187, 706, 1787, 1009, 22, 987, 3640, 43, 3756, 882, 776, 392, 1724, 1642, 198, 1810, 3950, 1558]\n",
    "\n",
    "kroA200 = reshape_arr(np.array(kroA200))\n",
    "kroA200_dist = distance_matrix(kroA200)"
   ]
  },
  {
   "cell_type": "code",
   "execution_count": null,
   "metadata": {},
   "outputs": [],
   "source": [
    "def evolution(population_size=500, chromosome_length=0, crossover_probability=0.95, number_of_offspring=500,\n",
    "    mutation_probability=0.25, number_of_iterations=250, crossover=PMX, mutation=reverse_sequence_mutation, dist=A):\n",
    "    time0 = time.time()\n",
    "\n",
    "    chromosome_length=len(dist)\n",
    "\n",
    "    best_objective_value = np.Inf\n",
    "    best_chromosome = np.zeros((1, chromosome_length))\n",
    "\n",
    "    populations = []\n",
    "\n",
    "    # generating an initial population\n",
    "    current_population = np.zeros((population_size, chromosome_length), dtype=np.int64)\n",
    "    for i in range(population_size):\n",
    "        current_population[i, :] = np.random.permutation(chromosome_length)\n",
    "\n",
    "    # evaluating the objective function on the current population\n",
    "    objective_values = np.zeros(population_size)\n",
    "    for i in range(population_size):\n",
    "        objective_values[i] = tsp_objective_function(current_population[i, :], dist)\n",
    "\n",
    "    populations_objective_values = []\n",
    "    populations_objective_values.append(objective_values)\n",
    "\n",
    "    for t in tqdm(range(number_of_iterations)):\n",
    "\n",
    "        # selecting the parent indices by the roulette wheel method\n",
    "        fitness_values = objective_values.max() - objective_values\n",
    "        if fitness_values.sum() > 0:\n",
    "            fitness_values = fitness_values / fitness_values.sum()\n",
    "        else:\n",
    "            fitness_values = np.ones(population_size) / population_size\n",
    "        parent_indices = np.random.choice(population_size, number_of_offspring, True, fitness_values).astype(np.int64)\n",
    "\n",
    "        # creating the children population\n",
    "        children_population = np.zeros((number_of_offspring, chromosome_length), dtype=np.int64)\n",
    "        for i in range(int(number_of_offspring/2)):\n",
    "            if np.random.random() < crossover_probability:\n",
    "                children_population[2*i, :], children_population[2*i+1, :] = crossover(current_population[parent_indices[2*i], :].copy(), current_population[parent_indices[2*i+1], :].copy())\n",
    "            else:\n",
    "                children_population[2*i, :], children_population[2*i+1, :] = current_population[parent_indices[2*i], :].copy(), current_population[parent_indices[2*i+1]].copy()\n",
    "        if np.mod(number_of_offspring, 2) == 1:\n",
    "            children_population[-1, :] = current_population[parent_indices[-1], :]\n",
    "\n",
    "        # mutating the children population\n",
    "        for i in range(number_of_offspring):\n",
    "            if np.random.random() < mutation_probability:\n",
    "                children_population[i, :] = mutation(children_population[i, :])\n",
    "\n",
    "        # evaluating the objective function on the children population\n",
    "        children_objective_values = np.zeros(number_of_offspring)\n",
    "        for i in range(number_of_offspring):\n",
    "            children_objective_values[i] = tsp_objective_function(children_population[i, :], dist)\n",
    "\n",
    "        # replacing the current population by (Mu + Lambda) Replacement\n",
    "        objective_values = np.hstack([objective_values, children_objective_values])\n",
    "        current_population = np.vstack([current_population, children_population])\n",
    "\n",
    "        I = np.argsort(objective_values)\n",
    "        current_population = current_population[I[:population_size], :]\n",
    "        objective_values = objective_values[I[:population_size]]\n",
    "\n",
    "        populations_objective_values.append(objective_values)\n",
    "\n",
    "        # print(objective_values)\n",
    "\n",
    "        # recording some statistics\n",
    "        if best_objective_value > objective_values[0]:\n",
    "            best_objective_value = objective_values[0]\n",
    "            best_chromosome = current_population[0, :]\n",
    "\n",
    "        # print(best_chromosome)\n",
    "\n",
    "        # print('%3d %14.8f %12.8f %12.8f %12.8f %12.8f' % (t, time.time() - time0, objective_values.min(), objective_values.mean(), objective_values.max(), objective_values.std()))\n",
    "\n",
    "    print(best_objective_value)\n",
    "    print(best_chromosome)\n",
    "    # plot_path(best_chromosome)\n",
    "\n",
    "    return populations_objective_values"
   ]
  },
  {
   "cell_type": "code",
   "execution_count": null,
   "metadata": {},
   "outputs": [],
   "source": [
    "bayg29_res = evolution(dist=bayg29_dist, chromosome_length=29, number_of_iterations=250, population_size=500)\n",
    "print(bayg29_opt, tsp_objective_function(bayg29_opt, bayg29_dist))\n",
    "\n",
    "plot_min_max_mean(bayg29_res)"
   ]
  },
  {
   "cell_type": "code",
   "execution_count": null,
   "metadata": {},
   "outputs": [],
   "source": [
    "bays29_res = evolution(dist=bays29_dist, chromosome_length=29, number_of_iterations=250, population_size=2000)\n",
    "print(bays29_opt, tsp_objective_function(bays29_opt, bays29_dist))\n",
    "\n",
    "plot_min_max_mean(bays29_res)"
   ]
  },
  {
   "cell_type": "code",
   "execution_count": null,
   "metadata": {},
   "outputs": [],
   "source": [
    "kroA100_res = evolution(dist=kroA100_dist, chromosome_length=100, number_of_iterations=2000, population_size=2000)\n",
    "print(kroA100_opt, tsp_objective_function(kroA100_opt, kroA100_dist))\n",
    "\n",
    "plot_min_max_mean(kroA100_res)"
   ]
  },
  {
   "cell_type": "code",
   "execution_count": null,
   "metadata": {},
   "outputs": [],
   "source": [
    "kroA150_res = evolution(dist=kroA150_dist, chromosome_length=150, number_of_iterations=1000, population_size=2000)\n",
    "\n",
    "plot_min_max_mean(kroA100_res)"
   ]
  },
  {
   "cell_type": "code",
   "execution_count": null,
   "metadata": {},
   "outputs": [],
   "source": [
    "kroA200_res = evolution(dist=kroA200_dist, chromosome_length=200, number_of_iterations=3000, population_size=2000)\n",
    "\n",
    "plot_min_max_mean(kroA200_res)"
   ]
  },
  {
   "cell_type": "markdown",
   "metadata": {},
   "source": [
    "## Crossovers"
   ]
  },
  {
   "cell_type": "code",
   "execution_count": null,
   "metadata": {},
   "outputs": [],
   "source": [
    "# cycle crossover\n",
    "def CX(ind1, ind2):\n",
    "    n = len(ind1)\n",
    "    \n",
    "    map1 = [-1]*n\n",
    "    map2 = [-1]*n\n",
    "\n",
    "    for i in range(n):\n",
    "        map1[ind1[i]] = i\n",
    "        map2[ind2[i]] = i\n",
    "\n",
    "    off1 = np.zeros(n) - 1\n",
    "    off2 = np.zeros(n) - 1\n",
    "\n",
    "    def cycle_from(i):\n",
    "        off1[i] = ind1[i]\n",
    "        off2[i] = ind2[i]\n",
    "\n",
    "        j = map1[ind2[i]]\n",
    "\n",
    "        while j != i:\n",
    "            off1[j] = ind1[j]\n",
    "            off2[j] = ind2[j]\n",
    "\n",
    "            j = map1[ind2[j]]\n",
    "\n",
    "\n",
    "    for i in range(n):\n",
    "        if (off1[i] == -1):\n",
    "            cycle_from(i)\n",
    "            ind1, ind2 = ind2, ind1\n",
    "            map1, map2 = map2, map1\n",
    "\n",
    "\n",
    "\n",
    "    return off1, off2\n",
    "\n"
   ]
  },
  {
   "cell_type": "code",
   "execution_count": null,
   "metadata": {},
   "outputs": [],
   "source": [
    "kroA100_res = evolution(dist=kroA100_dist, chromosome_length=100, number_of_iterations=2000, population_size=2000, crossover=CX)\n",
    "print(kroA100_opt, tsp_objective_function(kroA100_opt, kroA100_dist))\n",
    "\n",
    "plot_min_max_mean(kroA100_res)"
   ]
  },
  {
   "cell_type": "code",
   "execution_count": null,
   "metadata": {},
   "outputs": [],
   "source": [
    "#order_1 crossover\n",
    "def OX(ind1, ind2):\n",
    "    n = len(ind1)\n",
    "\n",
    "    p = np.random.randint(0,n)\n",
    "    q = np.random.randint(p+1, n+1)\n",
    "\n",
    "    def offspring(par1, par2):\n",
    "        res = np.zeros(n)-1\n",
    "        cut = par1[p:q]\n",
    "        res[p:q] = cut\n",
    "        cut_set = set(cut)\n",
    "        i = q%n\n",
    "        for val in np.concatenate((par2[q:], par2[:q])):\n",
    "            if val not in cut_set:\n",
    "                res[i] = val\n",
    "                i = (i+1)%n        \n",
    "\n",
    "        return res\n",
    "\n",
    "    return offspring(ind1, ind2), offspring(ind2, ind1)"
   ]
  },
  {
   "cell_type": "code",
   "execution_count": null,
   "metadata": {},
   "outputs": [],
   "source": [
    "kroA100_res = evolution(dist=kroA100_dist, chromosome_length=100, number_of_iterations=2000, population_size=2000, crossover=OX)\n",
    "print(kroA100_opt, tsp_objective_function(kroA100_opt, kroA100_dist))\n",
    "\n",
    "plot_min_max_mean(kroA100_res)"
   ]
  },
  {
   "cell_type": "code",
   "execution_count": null,
   "metadata": {},
   "outputs": [],
   "source": [
    "def PBX(ind1, ind2):\n",
    "    n = len(ind1)\n",
    "    prob = np.random.random()\n",
    "    positions = list(filter((lambda _: np.random.random() < prob), range(n)))\n",
    "    positions.sort()\n",
    "\n",
    "\n",
    "    def offspring(par1, par2):\n",
    "        res = np.zeros(n)-1\n",
    "        cut = par1[positions]\n",
    "        res[positions] = cut\n",
    "        cut_set = set(cut)\n",
    "        i = 0\n",
    "\n",
    "        to_fill = list(filter((lambda x: not (x in positions)), range(n)))\n",
    "\n",
    "        for val in par2:\n",
    "            if val not in cut_set:\n",
    "                res[to_fill[i]] = val\n",
    "                i += 1     \n",
    "\n",
    "        return res\n",
    "\n",
    "\n",
    "    result = offspring(ind1, ind2), offspring(ind2, ind1)\n",
    "\n",
    "    return result\n"
   ]
  },
  {
   "cell_type": "code",
   "execution_count": null,
   "metadata": {},
   "outputs": [],
   "source": [
    "kroA100_res = evolution(dist=kroA100_dist, chromosome_length=100, number_of_iterations=1500, population_size=500, crossover=PBX)\n",
    "print(kroA100_opt, tsp_objective_function(kroA100_opt, kroA100_dist))\n",
    "\n",
    "plot_min_max_mean(kroA100_res)"
   ]
  },
  {
   "cell_type": "code",
   "execution_count": null,
   "metadata": {},
   "outputs": [],
   "source": []
  },
  {
   "cell_type": "code",
   "execution_count": 2,
   "metadata": {},
   "outputs": [],
   "source": [
    "def perms_in_range(perm, k):\n",
    "    n = len(perm)\n",
    "    combinations = list(it.combinations(range(n), k))\n",
    "\n",
    "    comb_count = len(combinations)\n",
    "    perm_count = len(list(it.permutations(range(k)))) - 1\n",
    "\n",
    "    size = comb_count * perm_count + 1\n",
    "\n",
    "    res = np.repeat([perm], size, axis=0)\n",
    "    \n",
    "\n",
    "    for i,comb in enumerate(combinations):\n",
    "        perm_c = list(it.permutations(comb))\n",
    "        \n",
    "        base = perm_c[0]\n",
    "        changes = perm_c[1:]\n",
    "        \n",
    "        for j,change in enumerate(changes):\n",
    "            res[i*perm_count+j+1][np.array(base)] = perm[np.array(change)]\n",
    "\n",
    "    return res\n",
    "\n",
    "def \n",
    "\n",
    "    \n"
   ]
  },
  {
   "cell_type": "code",
   "execution_count": null,
   "metadata": {},
   "outputs": [],
   "source": []
  }
 ],
 "metadata": {
  "kernelspec": {
   "display_name": "Python 3.8.10 64-bit",
   "language": "python",
   "name": "python3810jvsc74a57bd0e7370f93d1d0cde622a1f8e1c04877d8463912d04d973331ad4851f04de6915a"
  },
  "language_info": {
   "codemirror_mode": {
    "name": "ipython",
    "version": 3
   },
   "file_extension": ".py",
   "mimetype": "text/x-python",
   "name": "python",
   "nbconvert_exporter": "python",
   "pygments_lexer": "ipython3",
   "version": "3.8.10"
  }
 },
 "nbformat": 4,
 "nbformat_minor": 4
}
