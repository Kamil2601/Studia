{
  "nbformat": 4,
  "nbformat_minor": 0,
  "metadata": {
    "colab": {
      "name": "Assignment1.1.ipynb",
      "provenance": [],
      "collapsed_sections": [],
      "toc_visible": true
    },
    "kernelspec": {
      "display_name": "Python 3",
      "language": "python",
      "name": "python3"
    },
    "language_info": {
      "codemirror_mode": {
        "name": "ipython",
        "version": 3
      },
      "file_extension": ".py",
      "mimetype": "text/x-python",
      "name": "python",
      "nbconvert_exporter": "python",
      "pygments_lexer": "ipython3",
      "version": "3.8.3"
    }
  },
  "cells": [
    {
      "cell_type": "markdown",
      "metadata": {
        "id": "P7IFJ5_Y33-8"
      },
      "source": [
        "# Lab Assignment 1\n"
      ]
    },
    {
      "cell_type": "markdown",
      "metadata": {
        "id": "goqGXGZT2DKK"
      },
      "source": [
        "## Important notes"
      ]
    },
    {
      "cell_type": "markdown",
      "metadata": {
        "id": "-3FKET1A2GRK"
      },
      "source": [
        "**Submission deadline:**\n",
        "** last lab session before Friday 22.10.2021**\n",
        "\n",
        "**Points: 4**\n",
        "\n",
        "Please note: some of the assignments are tedious or boring if you are already a NumPy ninja. The bonus problems were designed to give you a more satisfying alternative.\n",
        "\n",
        "The assignment is in the form of a Jupyter notebook. We will be using [Google Colab](https://colab.research.google.com) to solve it. Below you will find a \"Setup\" section. Follow instructions from this paragraph to download the notebook and open it using [Google Colab](https://colab.research.google.com). \n",
        "\n",
        "Your goal is to solve problems posted below. Whenever possible, add your solutions to the notebook.\n",
        "\n",
        "Please email us about any problems with it - we will try to correct them quickly. Also, please do not hesitate to use GitHub’s pull requests to send us corrections!"
      ]
    },
    {
      "cell_type": "markdown",
      "metadata": {
        "id": "1CMDOrsc2K-K"
      },
      "source": [
        "## Setup"
      ]
    },
    {
      "cell_type": "markdown",
      "metadata": {
        "id": "tNjavUUC7yuM"
      },
      "source": [
        "### 1. Open the notebook using Google Colab\n",
        "\n",
        "1. From Github: Click on \"View in Colaboratory\", then save to your Google Drive.\n",
        "2. Alternatively upload manually to Drive:\n",
        "  1. Download the notebook or clone https://github.com/marekadamczyk44/ml_uwr.\n",
        "  2. Go to  [Google Colab](https://colab.research.google.com).\n",
        "  3. Go to \"UPLOAD\" tab and select a local copy of the notebook that you downloaded in point 1.\n",
        "  \n",
        "Colab Tips:\n",
        "1. Set tab width to 4 spaces under `Tools` → `Preferences`.\n",
        "  \n",
        "### 2. Open the notebook offline using Jupyter/IPython\n",
        "\n",
        "This notebook can be opened using Jupyter notebook. Simply install a scientific Python distribution on your computer (e.g. [Anaconda](https://www.anaconda.com/) or [WinPython](http://winpython.github.io/)), clone the repository https://github.com/janchorowski/ml_uwr and run `jupyter notebook`."
      ]
    },
    {
      "cell_type": "markdown",
      "metadata": {
        "id": "zq_ZRu87C_OC"
      },
      "source": [
        "###   3. Install required dependencies, download data and import packages\n",
        "\n",
        "Run cells below. To run a cell either click it and click a run button or press \"shift + enter\"\n"
      ]
    },
    {
      "cell_type": "code",
      "metadata": {
        "id": "YxzWq6iO2KPm"
      },
      "source": [
        "# Standard IPython notebook imports\n",
        "%matplotlib inline\n",
        "\n",
        "import os\n",
        "\n",
        "import httpimport\n",
        "import matplotlib.pyplot as plt\n",
        "import numpy as np\n",
        "import pandas as pd\n",
        "from tqdm.auto import tqdm\n",
        "import scipy.stats as sstats\n",
        "\n",
        "import seaborn as sns\n",
        "from sklearn import datasets\n",
        "\n",
        "# In this way we can import functions straight from github\n",
        "with httpimport.github_repo('janchorowski', 'nn_assignments', \n",
        "                            module='common', branch='nn18'):\n",
        "     from common.plotting import plot_mat\n",
        "\n",
        "sns.set_style('whitegrid')"
      ],
      "execution_count": null,
      "outputs": []
    },
    {
      "cell_type": "markdown",
      "metadata": {
        "id": "AfmjDoxi6JNA"
      },
      "source": [
        "### 4. Follow the notebook and solve problems posted below"
      ]
    },
    {
      "cell_type": "markdown",
      "metadata": {
        "id": "3hr81V8T8ccB"
      },
      "source": [
        "## Problems"
      ]
    },
    {
      "cell_type": "markdown",
      "metadata": {
        "id": "0eT1x_VG33_E"
      },
      "source": [
        "### Problem 0 [0p]\n",
        "\n",
        " \n",
        "1. To learn more about Jupyter,  read [Jupyter tutorial from Data Analysis in Biological Sciences course at Caltech](http://bebi103.caltech.edu/2015/tutorials/t0b_intro_to_jupyter_notebooks.html) (which itself can be downloaded as a Jupyter notebook). Feel free to skip the tutorial if you have some prior experience with Jupyter notebook.\n",
        "2. To learn more about basic Google Colab features, go to [Google Colab](https://colab.research.google.com) and select \"Overview of Colaboratory Features\" in \"EXAMPLES\" tab. To learn more about / set up useful keyboard shortcuts (e.g. to add a new cell without clicking \"\"+ code\"), go to \"Tools --> Keyboard shortcuts\""
      ]
    },
    {
      "cell_type": "markdown",
      "metadata": {
        "id": "AsOC0voR33_F"
      },
      "source": [
        "### Problem 1: NumPy [2p]\n",
        "\n",
        "First, get familiar with Python at https://docs.python.org/3/tutorial/. Then, get\n",
        "to know the capabilities of NumPy, the prime numerical library of Python http://www.numpy.org/, for instance with the tutorial at https://numpy.org/doc/stable/user/quickstart.html. Finally, look into Pandas at https://pandas.pydata.org/pandas-docs/stable/getting_started/tutorials.html.\n",
        "\n",
        "You might also need:\n",
        "  1. another intro to NumPy,\n",
        "http://people.duke.edu/~ccc14/pcfb/numerics.html\n",
        "  2. a better interactive shell for Python\n",
        "http://ipython.org/\n",
        "  3. a plotting library for Python\n",
        "http://matplotlib.org/\n",
        "  4. nice statistical plots for matplotlib https://seaborn.pydata.org/."
      ]
    },
    {
      "cell_type": "markdown",
      "metadata": {
        "id": "2ijCVw7reGbm"
      },
      "source": [
        "\n",
        "**a) Declare variables:**\n",
        "1. $a=10$,\n",
        "2. $b=2.5\\times 10^{23}$,\n",
        "3. $c=2+3i$, where $i$ is an imaginary unit,\n",
        "4. $d=e^{i2\\pi/3}$, where $i$ is an imaginary unit, $e$ is the Euler's number (use `exp`, `pi`)."
      ]
    },
    {
      "cell_type": "code",
      "metadata": {
        "id": "8sd7jJhd33_G"
      },
      "source": [
        "# TODO: Complete the declarations\n",
        "import numpy as np\n",
        "\n",
        "a = 10\n",
        "b = 2.5 * 10**23\n",
        "c = 2+3j\n",
        "d = np.exp(1j*2*np.pi/3)"
      ],
      "execution_count": null,
      "outputs": []
    },
    {
      "cell_type": "markdown",
      "metadata": {
        "id": "bP0hAHvN33_K"
      },
      "source": [
        "**b) Declare vectors:**\n",
        "1. $\\texttt{aVec}=\\begin{bmatrix} 3.14 & 15 & 9 & 26 \\end{bmatrix}$,\n",
        "2. $\\texttt{bVec}=\\begin{bmatrix} 5 & 4.8 & \\cdots & -4.8 & -5 \\end{bmatrix}$ (vector of numbers from $5$ to $-5$ decreasing by $0.2$),\n",
        "3. $\\texttt{cVec}=\\begin{bmatrix} 10^0 & 10^{0.01} & \\cdots & 10^{0.99} & 10^1 \\end{bmatrix}$ (logarithmically spaced numbers from 1 to 10, use `logspace` and make sure, that the result has correct length!),\n",
        "4. $\\texttt{dVec}=\\mbox{Hello}$ (here $\\texttt{eVec}$ is a string of characters, thus a vector)."
      ]
    },
    {
      "cell_type": "code",
      "metadata": {
        "id": "37RmkuW533_L"
      },
      "source": [
        "import numpy as np\n",
        "\n",
        "aVec = np.array([3.14, 15, 9 ,26])\n",
        "bVec = np.arange(5.0, -5.0, -0.2)\n",
        "cVec = np.logspace(0, 1, num=101)\n",
        "dVec = np.array(list(\"Hello\"))"
      ],
      "execution_count": null,
      "outputs": []
    },
    {
      "cell_type": "markdown",
      "metadata": {
        "id": "C58YJtEU33_O"
      },
      "source": [
        "**c) Declare matrices:**\n",
        "1. matrix $9\\times 9$ filled with 2s (use `ones` or `zeros`):\n",
        "    \\begin{equation}\n",
        "    \\texttt{aMat}=\n",
        "          \\begin{bmatrix}\n",
        "                    2      & \\cdots & 2 \\\\\n",
        "                    \\vdots & \\ddots & \\vdots \\\\\n",
        "                    2      & \\cdots & 2\n",
        "          \\end{bmatrix},\n",
        "    \\end{equation}\n",
        "    \n",
        "    \n",
        "2. matrix $9\\times 9$ filled with zeros, with $[ 1, 2, 3, 4, 5, 4, 3, 2, 1]$ on its diagonal (use `zeros`, `diag`):\n",
        "\n",
        "    \\begin{equation}\\texttt{bMat}=\\begin{bmatrix}\n",
        "                    1      & 0      & \\cdots &        & 0      \\\\\n",
        "                    0      & \\ddots & 0      &        & 0      \\\\\n",
        "                    \\vdots & 0      & 5      & 0      & \\vdots \\\\\n",
        "                           &        & 0      & \\ddots & 0      \\\\\n",
        "                    0      &        & \\cdots & 0      & 1\n",
        "                \\end{bmatrix},\\end{equation}\n",
        "    \n",
        "  \n",
        "3.  matrix $10\\times 10$, columns of which form the vector $1:100$ (use `reshape`):\n",
        "\\begin{equation}\\texttt{cMat}=\\begin{bmatrix}\n",
        "                    1      & 11     & \\cdots & 91     \\\\\n",
        "                    2      & 12     & \\cdots & 92     \\\\\n",
        "                    \\vdots & \\vdots & \\ddots & \\vdots \\\\\n",
        "                    10     & 20     & \\cdots & 100\n",
        "                \\end{bmatrix},\\end{equation}\n",
        "    \n",
        "\n",
        "4. matrix $3\\times 4$ filled with `NaN`s (use... `NaN`):\n",
        "\\begin{equation}\\texttt{dMat}=\\begin{bmatrix}\n",
        "                    \\texttt{NaN} & \\texttt{NaN} & \\texttt{NaN} & \\texttt{NaN} \\\\\n",
        "                    \\texttt{NaN} & \\texttt{NaN} & \\texttt{NaN} & \\texttt{NaN} \\\\\n",
        "                    \\texttt{NaN} & \\texttt{NaN} & \\texttt{NaN} & \\texttt{NaN}\n",
        "                \\end{bmatrix},\\end{equation}\n",
        "    \n",
        "    \n",
        "5. simple matrix like that:\n",
        "\\begin{equation}\\texttt{eMat}=\\begin{bmatrix}\n",
        "                    13  & -1  & 5  \\\\\n",
        "                    -22 & 10  & -87\n",
        "                \\end{bmatrix},\\end{equation}\n",
        "\n",
        "6. $\\texttt{fMat}$ of shape $3\\times 3$ filled with random natural numbers from $[-3,3]$ (use `rand` and `floor` or `ceil`)."
      ]
    },
    {
      "cell_type": "code",
      "metadata": {
        "id": "Bdd1oUeI33_P"
      },
      "source": [
        "import numpy as np\n",
        "\n",
        "aMat = np.ones((9,9)) * 2\n",
        "bMat = np.diag(np.concatenate((np.arange(1,6), np.arange(4,0,-1))))\n",
        "cMat = np.reshape(np.arange(1, 101), (10, 10), 'F')\n",
        "dMat = np.full((3,4), np.nan)\n",
        "eMat = np.array([[13, -1, 5], [-22, 10, -87]])\n",
        "fMat = np.floor(np.random.rand(3,3) * 7 - 3).astype(int)"
      ],
      "execution_count": null,
      "outputs": []
    },
    {
      "cell_type": "markdown",
      "metadata": {
        "id": "DqtKQi1Q33_T"
      },
      "source": [
        "**d) Declare a multiplication table**\n",
        "as a $10\\times 10$ matrix `mulMat`. Use matrix/vector multiplication."
      ]
    },
    {
      "cell_type": "code",
      "metadata": {
        "id": "OWqHq-vK33_U",
        "colab": {
          "base_uri": "https://localhost:8080/"
        },
        "outputId": "14b976f5-7ddf-4222-acff-f364259bd03a"
      },
      "source": [
        "import numpy as np\n",
        "vec = np.arange(1,11)\n",
        "b = np.array([vec])\n",
        "a = np.transpose(b)\n",
        "mulMat = a.dot(b)\n",
        "mulMat"
      ],
      "execution_count": null,
      "outputs": [
        {
          "output_type": "execute_result",
          "data": {
            "text/plain": [
              "array([[  1,   2,   3,   4,   5,   6,   7,   8,   9,  10],\n",
              "       [  2,   4,   6,   8,  10,  12,  14,  16,  18,  20],\n",
              "       [  3,   6,   9,  12,  15,  18,  21,  24,  27,  30],\n",
              "       [  4,   8,  12,  16,  20,  24,  28,  32,  36,  40],\n",
              "       [  5,  10,  15,  20,  25,  30,  35,  40,  45,  50],\n",
              "       [  6,  12,  18,  24,  30,  36,  42,  48,  54,  60],\n",
              "       [  7,  14,  21,  28,  35,  42,  49,  56,  63,  70],\n",
              "       [  8,  16,  24,  32,  40,  48,  56,  64,  72,  80],\n",
              "       [  9,  18,  27,  36,  45,  54,  63,  72,  81,  90],\n",
              "       [ 10,  20,  30,  40,  50,  60,  70,  80,  90, 100]])"
            ]
          },
          "metadata": {},
          "execution_count": 54
        }
      ]
    },
    {
      "cell_type": "markdown",
      "metadata": {
        "id": "0xIm6lT133_Y"
      },
      "source": [
        "**e) Compute element-wise using values from b).**\n",
        "\n",
        "For instance, the first element of $\\texttt{xVec}[0]$ should be equal to\n",
        "\n",
        "\\begin{equation}\n",
        "1/(\\sqrt{2\\pi \\cdot 2.5^2}) e^{-\\texttt{cVec}[0]^2 / (2\\pi \\cdot2.5^2)}.\n",
        "\\end{equation}\n",
        "\n",
        "1. $\\texttt{xVec}=1/(\\sqrt{2\\pi\\cdot 2.5^2}) e^{-\\texttt{cVec}^2 / (2\\cdot\\pi 2.5^2)}$\n",
        "2. $\\texttt{yVec}=\\log_{10}(1/\\texttt{cVec})$, using `log10`"
      ]
    },
    {
      "cell_type": "code",
      "metadata": {
        "id": "LtH-kSU733_Z",
        "colab": {
          "base_uri": "https://localhost:8080/"
        },
        "outputId": "d691ba4c-3107-4738-b462-99c18015adfd"
      },
      "source": [
        "import numpy as np\n",
        "\n",
        "xVec = 1/np.sqrt(2*np.pi*(2.5**2))*np.exp(-(cVec**2)/(2*np.pi*2.5**2))\n",
        "yVec = np.log10(1/cVec)\n",
        "\n",
        "yVec"
      ],
      "execution_count": null,
      "outputs": [
        {
          "output_type": "execute_result",
          "data": {
            "text/plain": [
              "array([ 0.  , -0.01, -0.02, -0.03, -0.04, -0.05, -0.06, -0.07, -0.08,\n",
              "       -0.09, -0.1 , -0.11, -0.12, -0.13, -0.14, -0.15, -0.16, -0.17,\n",
              "       -0.18, -0.19, -0.2 , -0.21, -0.22, -0.23, -0.24, -0.25, -0.26,\n",
              "       -0.27, -0.28, -0.29, -0.3 , -0.31, -0.32, -0.33, -0.34, -0.35,\n",
              "       -0.36, -0.37, -0.38, -0.39, -0.4 , -0.41, -0.42, -0.43, -0.44,\n",
              "       -0.45, -0.46, -0.47, -0.48, -0.49, -0.5 , -0.51, -0.52, -0.53,\n",
              "       -0.54, -0.55, -0.56, -0.57, -0.58, -0.59, -0.6 , -0.61, -0.62,\n",
              "       -0.63, -0.64, -0.65, -0.66, -0.67, -0.68, -0.69, -0.7 , -0.71,\n",
              "       -0.72, -0.73, -0.74, -0.75, -0.76, -0.77, -0.78, -0.79, -0.8 ,\n",
              "       -0.81, -0.82, -0.83, -0.84, -0.85, -0.86, -0.87, -0.88, -0.89,\n",
              "       -0.9 , -0.91, -0.92, -0.93, -0.94, -0.95, -0.96, -0.97, -0.98,\n",
              "       -0.99, -1.  ])"
            ]
          },
          "metadata": {},
          "execution_count": 17
        }
      ]
    },
    {
      "cell_type": "markdown",
      "metadata": {
        "id": "EBhf74F_33_d"
      },
      "source": [
        "**f) Compute with matrix/vector operations.**\n",
        "\n",
        "**NOTE:** Every multiplication (and power) in this subtask is a [matrix multiplication](https://en.wikipedia.org/wiki/Matrix_multiplication).\n",
        "1. $\\texttt{xMat}=[0,  1, ..., 6][0, 10, 20, ..., 60]^T$,\n",
        "2. $\\texttt{yMat}=[0, 10, 20, ..., 60]^T[0,  1, ..., 6]$\n",
        "<br/>\n",
        "(remember, that matrix multiplication is not commutative)."
      ]
    },
    {
      "cell_type": "code",
      "metadata": {
        "id": "UjdLR34u33_e",
        "colab": {
          "base_uri": "https://localhost:8080/"
        },
        "outputId": "3a386e3b-4001-478a-dab2-a2e3821685cd"
      },
      "source": [
        "import numpy as np\n",
        "m1 = np.array([np.arange(7)])\n",
        "m2 = np.transpose([np.arange(0,61, 10)])\n",
        "xMat = m1.dot(m2)\n",
        "yMat = m2.dot(m1)\n",
        "xMat"
      ],
      "execution_count": null,
      "outputs": [
        {
          "output_type": "execute_result",
          "data": {
            "text/plain": [
              "array([[910]])"
            ]
          },
          "metadata": {},
          "execution_count": 1
        }
      ]
    },
    {
      "cell_type": "markdown",
      "metadata": {
        "id": "QJ3xTXgV33_i"
      },
      "source": [
        "\n",
        "**g) Declare `ismagic(A)` function** \n",
        "which checks if matrix $A$ is a [magic square](https://en.wikipedia.org/wiki/Magic_square) and returns a boolean. **Remark:** Don't use any for loop"
      ]
    },
    {
      "cell_type": "code",
      "metadata": {
        "id": "uCNJUx_G33_j"
      },
      "source": [
        "import numpy as np\n",
        "\n",
        "def ismagic(A):\n",
        "    (width, height) = np.shape(A)\n",
        "    if (width != height):\n",
        "        return False\n",
        "\n",
        "    diagSum = sum(np.diagonal(A))\n",
        "    \n",
        "    rowsSums = A.sum(axis=1)\n",
        "\n",
        "    allRowsSumsEqual = np.all((lambda x: x==diagSum)(rowsSums))\n",
        "\n",
        "    if (not allRowsSumsEqual): return False\n",
        "\n",
        "    colsSums = A.sum(axis=0)\n",
        "    allColsSumsEqual = np.all((lambda x: x==diagSum)(colsSums))\n",
        "\n",
        "    if (not allColsSumsEqual): return False\n",
        "\n",
        "    return True\n",
        "\n",
        "    \n",
        "assert not ismagic(np.array([[1,1], [2,2]]))\n",
        "assert ismagic(np.array([[2,7,6],[9,5,1],[4,3,8]]))"
      ],
      "execution_count": null,
      "outputs": []
    },
    {
      "cell_type": "markdown",
      "metadata": {
        "id": "kl8_nizPeiNy"
      },
      "source": [
        "### Problem 2: Pandas and Seaborn [2p]\n",
        "\n",
        "1. Load the IRIS Data into a `DataFrame`"
      ]
    },
    {
      "cell_type": "code",
      "metadata": {
        "id": "FzhoE5MWerAf",
        "colab": {
          "base_uri": "https://localhost:8080/",
          "height": 359
        },
        "outputId": "4e3e601e-b77c-4381-db72-e528d86380c6"
      },
      "source": [
        "import pandas\n",
        "\n",
        "iris_url = 'https://archive.ics.uci.edu/ml/machine-learning-databases/iris/iris.data'\n",
        "# Use read_csv to load the data. Make sure you get 150 examples!\n",
        "iris_df = pandas.read_csv(iris_url, header=None)\n",
        "\n",
        "\n",
        "\n",
        "# Set the column names to\n",
        "# 'sepal_length', 'sepal_width', 'petal_length', 'petal_width', 'target'\n",
        "iris_df.columns = ['sepal_length', 'sepal_width', 'petal_length', 'petal_width', 'target']\n",
        "\n",
        "\n",
        "# Print the first 10 entries\n",
        "iris_df.head(10)"
      ],
      "execution_count": null,
      "outputs": [
        {
          "output_type": "execute_result",
          "data": {
            "text/html": [
              "<div>\n",
              "<style scoped>\n",
              "    .dataframe tbody tr th:only-of-type {\n",
              "        vertical-align: middle;\n",
              "    }\n",
              "\n",
              "    .dataframe tbody tr th {\n",
              "        vertical-align: top;\n",
              "    }\n",
              "\n",
              "    .dataframe thead th {\n",
              "        text-align: right;\n",
              "    }\n",
              "</style>\n",
              "<table border=\"1\" class=\"dataframe\">\n",
              "  <thead>\n",
              "    <tr style=\"text-align: right;\">\n",
              "      <th></th>\n",
              "      <th>sepal_length</th>\n",
              "      <th>sepal_width</th>\n",
              "      <th>petal_length</th>\n",
              "      <th>petal_width</th>\n",
              "      <th>target</th>\n",
              "    </tr>\n",
              "  </thead>\n",
              "  <tbody>\n",
              "    <tr>\n",
              "      <th>0</th>\n",
              "      <td>5.1</td>\n",
              "      <td>3.5</td>\n",
              "      <td>1.4</td>\n",
              "      <td>0.2</td>\n",
              "      <td>Iris-setosa</td>\n",
              "    </tr>\n",
              "    <tr>\n",
              "      <th>1</th>\n",
              "      <td>4.9</td>\n",
              "      <td>3.0</td>\n",
              "      <td>1.4</td>\n",
              "      <td>0.2</td>\n",
              "      <td>Iris-setosa</td>\n",
              "    </tr>\n",
              "    <tr>\n",
              "      <th>2</th>\n",
              "      <td>4.7</td>\n",
              "      <td>3.2</td>\n",
              "      <td>1.3</td>\n",
              "      <td>0.2</td>\n",
              "      <td>Iris-setosa</td>\n",
              "    </tr>\n",
              "    <tr>\n",
              "      <th>3</th>\n",
              "      <td>4.6</td>\n",
              "      <td>3.1</td>\n",
              "      <td>1.5</td>\n",
              "      <td>0.2</td>\n",
              "      <td>Iris-setosa</td>\n",
              "    </tr>\n",
              "    <tr>\n",
              "      <th>4</th>\n",
              "      <td>5.0</td>\n",
              "      <td>3.6</td>\n",
              "      <td>1.4</td>\n",
              "      <td>0.2</td>\n",
              "      <td>Iris-setosa</td>\n",
              "    </tr>\n",
              "    <tr>\n",
              "      <th>5</th>\n",
              "      <td>5.4</td>\n",
              "      <td>3.9</td>\n",
              "      <td>1.7</td>\n",
              "      <td>0.4</td>\n",
              "      <td>Iris-setosa</td>\n",
              "    </tr>\n",
              "    <tr>\n",
              "      <th>6</th>\n",
              "      <td>4.6</td>\n",
              "      <td>3.4</td>\n",
              "      <td>1.4</td>\n",
              "      <td>0.3</td>\n",
              "      <td>Iris-setosa</td>\n",
              "    </tr>\n",
              "    <tr>\n",
              "      <th>7</th>\n",
              "      <td>5.0</td>\n",
              "      <td>3.4</td>\n",
              "      <td>1.5</td>\n",
              "      <td>0.2</td>\n",
              "      <td>Iris-setosa</td>\n",
              "    </tr>\n",
              "    <tr>\n",
              "      <th>8</th>\n",
              "      <td>4.4</td>\n",
              "      <td>2.9</td>\n",
              "      <td>1.4</td>\n",
              "      <td>0.2</td>\n",
              "      <td>Iris-setosa</td>\n",
              "    </tr>\n",
              "    <tr>\n",
              "      <th>9</th>\n",
              "      <td>4.9</td>\n",
              "      <td>3.1</td>\n",
              "      <td>1.5</td>\n",
              "      <td>0.1</td>\n",
              "      <td>Iris-setosa</td>\n",
              "    </tr>\n",
              "  </tbody>\n",
              "</table>\n",
              "</div>"
            ],
            "text/plain": [
              "   sepal_length  sepal_width  petal_length  petal_width       target\n",
              "0           5.1          3.5           1.4          0.2  Iris-setosa\n",
              "1           4.9          3.0           1.4          0.2  Iris-setosa\n",
              "2           4.7          3.2           1.3          0.2  Iris-setosa\n",
              "3           4.6          3.1           1.5          0.2  Iris-setosa\n",
              "4           5.0          3.6           1.4          0.2  Iris-setosa\n",
              "5           5.4          3.9           1.7          0.4  Iris-setosa\n",
              "6           4.6          3.4           1.4          0.3  Iris-setosa\n",
              "7           5.0          3.4           1.5          0.2  Iris-setosa\n",
              "8           4.4          2.9           1.4          0.2  Iris-setosa\n",
              "9           4.9          3.1           1.5          0.1  Iris-setosa"
            ]
          },
          "metadata": {},
          "execution_count": 21
        }
      ]
    },
    {
      "cell_type": "code",
      "metadata": {
        "id": "IRV7K0gNgb2r",
        "colab": {
          "base_uri": "https://localhost:8080/",
          "height": 295
        },
        "outputId": "614df26c-ede4-4f8f-d228-e8915c8956a8"
      },
      "source": [
        "# Show numerical summary of the data, using DataFrame.describe()\n",
        "iris_df.describe()"
      ],
      "execution_count": null,
      "outputs": [
        {
          "output_type": "execute_result",
          "data": {
            "text/html": [
              "<div>\n",
              "<style scoped>\n",
              "    .dataframe tbody tr th:only-of-type {\n",
              "        vertical-align: middle;\n",
              "    }\n",
              "\n",
              "    .dataframe tbody tr th {\n",
              "        vertical-align: top;\n",
              "    }\n",
              "\n",
              "    .dataframe thead th {\n",
              "        text-align: right;\n",
              "    }\n",
              "</style>\n",
              "<table border=\"1\" class=\"dataframe\">\n",
              "  <thead>\n",
              "    <tr style=\"text-align: right;\">\n",
              "      <th></th>\n",
              "      <th>sepal_length</th>\n",
              "      <th>sepal_width</th>\n",
              "      <th>petal_length</th>\n",
              "      <th>petal_width</th>\n",
              "    </tr>\n",
              "  </thead>\n",
              "  <tbody>\n",
              "    <tr>\n",
              "      <th>count</th>\n",
              "      <td>150.000000</td>\n",
              "      <td>150.000000</td>\n",
              "      <td>150.000000</td>\n",
              "      <td>150.000000</td>\n",
              "    </tr>\n",
              "    <tr>\n",
              "      <th>mean</th>\n",
              "      <td>5.843333</td>\n",
              "      <td>3.054000</td>\n",
              "      <td>3.758667</td>\n",
              "      <td>1.198667</td>\n",
              "    </tr>\n",
              "    <tr>\n",
              "      <th>std</th>\n",
              "      <td>0.828066</td>\n",
              "      <td>0.433594</td>\n",
              "      <td>1.764420</td>\n",
              "      <td>0.763161</td>\n",
              "    </tr>\n",
              "    <tr>\n",
              "      <th>min</th>\n",
              "      <td>4.300000</td>\n",
              "      <td>2.000000</td>\n",
              "      <td>1.000000</td>\n",
              "      <td>0.100000</td>\n",
              "    </tr>\n",
              "    <tr>\n",
              "      <th>25%</th>\n",
              "      <td>5.100000</td>\n",
              "      <td>2.800000</td>\n",
              "      <td>1.600000</td>\n",
              "      <td>0.300000</td>\n",
              "    </tr>\n",
              "    <tr>\n",
              "      <th>50%</th>\n",
              "      <td>5.800000</td>\n",
              "      <td>3.000000</td>\n",
              "      <td>4.350000</td>\n",
              "      <td>1.300000</td>\n",
              "    </tr>\n",
              "    <tr>\n",
              "      <th>75%</th>\n",
              "      <td>6.400000</td>\n",
              "      <td>3.300000</td>\n",
              "      <td>5.100000</td>\n",
              "      <td>1.800000</td>\n",
              "    </tr>\n",
              "    <tr>\n",
              "      <th>max</th>\n",
              "      <td>7.900000</td>\n",
              "      <td>4.400000</td>\n",
              "      <td>6.900000</td>\n",
              "      <td>2.500000</td>\n",
              "    </tr>\n",
              "  </tbody>\n",
              "</table>\n",
              "</div>"
            ],
            "text/plain": [
              "       sepal_length  sepal_width  petal_length  petal_width\n",
              "count    150.000000   150.000000    150.000000   150.000000\n",
              "mean       5.843333     3.054000      3.758667     1.198667\n",
              "std        0.828066     0.433594      1.764420     0.763161\n",
              "min        4.300000     2.000000      1.000000     0.100000\n",
              "25%        5.100000     2.800000      1.600000     0.300000\n",
              "50%        5.800000     3.000000      4.350000     1.300000\n",
              "75%        6.400000     3.300000      5.100000     1.800000\n",
              "max        7.900000     4.400000      6.900000     2.500000"
            ]
          },
          "metadata": {},
          "execution_count": 72
        }
      ]
    },
    {
      "cell_type": "code",
      "metadata": {
        "id": "vHa4zZNvg0jb",
        "colab": {
          "base_uri": "https://localhost:8080/",
          "height": 743
        },
        "outputId": "b5a05ec4-968a-446c-cd39-fcc5f949a63b"
      },
      "source": [
        "# Plot the data using seaborn's pairplot\n",
        "\n",
        "import seaborn\n",
        "seaborn.pairplot(iris_df)"
      ],
      "execution_count": null,
      "outputs": [
        {
          "output_type": "execute_result",
          "data": {
            "text/plain": [
              "<seaborn.axisgrid.PairGrid at 0x7fe18e1be2d0>"
            ]
          },
          "metadata": {},
          "execution_count": 73
        },
        {
          "output_type": "display_data",
          "data": {
            "image/png": "[encoded data removed]",
            "text/plain": [
              "<Figure size 720x720 with 20 Axes>"
            ]
          },
          "metadata": {}
        }
      ]
    },
    {
      "cell_type": "markdown",
      "metadata": {
        "id": "2kDC5d82oaKo"
      },
      "source": [
        "The Iris data is in a so-called 'wide' format, in which each column corresponds to a variable and each row of the DataFrame corresponds to one observation. Turn it into a 'long' format in which each row is a measurement. \n",
        "\n",
        "Specifically, change the data layout of the IRIS dataFrame so that it has 3 columns:\n",
        "- variable (one of sepal_length, sepal_width, petal_length, petal_width)\n",
        "- value\n",
        "- target\n",
        "\n",
        "If you would like to learn more, [Tidy Data](https://www.jstatsoft.org/index.php/jss/article/view/v059i10/v59i10.pdf) by [Hadley Wickham](http://hadley.nz/) provides a very nice explanation of best practices for data formating.\n",
        "\n",
        "Hint: look at reshaping functions in http://pandas.pydata.org/Pandas_Cheat_Sheet.pdf"
      ]
    },
    {
      "cell_type": "code",
      "metadata": {
        "id": "_VsSfAmwrNGu",
        "colab": {
          "base_uri": "https://localhost:8080/",
          "height": 419
        },
        "outputId": "46b184c3-bc3c-4978-b751-244e8678b6e9"
      },
      "source": [
        "iris_df_long = iris_df.melt(value_vars=['sepal_length', 'sepal_width', 'petal_length', 'petal_width'], id_vars=['target'])\n",
        "iris_df_long"
      ],
      "execution_count": null,
      "outputs": [
        {
          "output_type": "execute_result",
          "data": {
            "text/html": [
              "<div>\n",
              "<style scoped>\n",
              "    .dataframe tbody tr th:only-of-type {\n",
              "        vertical-align: middle;\n",
              "    }\n",
              "\n",
              "    .dataframe tbody tr th {\n",
              "        vertical-align: top;\n",
              "    }\n",
              "\n",
              "    .dataframe thead th {\n",
              "        text-align: right;\n",
              "    }\n",
              "</style>\n",
              "<table border=\"1\" class=\"dataframe\">\n",
              "  <thead>\n",
              "    <tr style=\"text-align: right;\">\n",
              "      <th></th>\n",
              "      <th>target</th>\n",
              "      <th>variable</th>\n",
              "      <th>value</th>\n",
              "    </tr>\n",
              "  </thead>\n",
              "  <tbody>\n",
              "    <tr>\n",
              "      <th>0</th>\n",
              "      <td>Iris-setosa</td>\n",
              "      <td>sepal_length</td>\n",
              "      <td>5.1</td>\n",
              "    </tr>\n",
              "    <tr>\n",
              "      <th>1</th>\n",
              "      <td>Iris-setosa</td>\n",
              "      <td>sepal_length</td>\n",
              "      <td>4.9</td>\n",
              "    </tr>\n",
              "    <tr>\n",
              "      <th>2</th>\n",
              "      <td>Iris-setosa</td>\n",
              "      <td>sepal_length</td>\n",
              "      <td>4.7</td>\n",
              "    </tr>\n",
              "    <tr>\n",
              "      <th>3</th>\n",
              "      <td>Iris-setosa</td>\n",
              "      <td>sepal_length</td>\n",
              "      <td>4.6</td>\n",
              "    </tr>\n",
              "    <tr>\n",
              "      <th>4</th>\n",
              "      <td>Iris-setosa</td>\n",
              "      <td>sepal_length</td>\n",
              "      <td>5.0</td>\n",
              "    </tr>\n",
              "    <tr>\n",
              "      <th>...</th>\n",
              "      <td>...</td>\n",
              "      <td>...</td>\n",
              "      <td>...</td>\n",
              "    </tr>\n",
              "    <tr>\n",
              "      <th>595</th>\n",
              "      <td>Iris-virginica</td>\n",
              "      <td>petal_width</td>\n",
              "      <td>2.3</td>\n",
              "    </tr>\n",
              "    <tr>\n",
              "      <th>596</th>\n",
              "      <td>Iris-virginica</td>\n",
              "      <td>petal_width</td>\n",
              "      <td>1.9</td>\n",
              "    </tr>\n",
              "    <tr>\n",
              "      <th>597</th>\n",
              "      <td>Iris-virginica</td>\n",
              "      <td>petal_width</td>\n",
              "      <td>2.0</td>\n",
              "    </tr>\n",
              "    <tr>\n",
              "      <th>598</th>\n",
              "      <td>Iris-virginica</td>\n",
              "      <td>petal_width</td>\n",
              "      <td>2.3</td>\n",
              "    </tr>\n",
              "    <tr>\n",
              "      <th>599</th>\n",
              "      <td>Iris-virginica</td>\n",
              "      <td>petal_width</td>\n",
              "      <td>1.8</td>\n",
              "    </tr>\n",
              "  </tbody>\n",
              "</table>\n",
              "<p>600 rows × 3 columns</p>\n",
              "</div>"
            ],
            "text/plain": [
              "             target      variable  value\n",
              "0       Iris-setosa  sepal_length    5.1\n",
              "1       Iris-setosa  sepal_length    4.9\n",
              "2       Iris-setosa  sepal_length    4.7\n",
              "3       Iris-setosa  sepal_length    4.6\n",
              "4       Iris-setosa  sepal_length    5.0\n",
              "..              ...           ...    ...\n",
              "595  Iris-virginica   petal_width    2.3\n",
              "596  Iris-virginica   petal_width    1.9\n",
              "597  Iris-virginica   petal_width    2.0\n",
              "598  Iris-virginica   petal_width    2.3\n",
              "599  Iris-virginica   petal_width    1.8\n",
              "\n",
              "[600 rows x 3 columns]"
            ]
          },
          "metadata": {},
          "execution_count": 25
        }
      ]
    },
    {
      "cell_type": "markdown",
      "metadata": {
        "id": "28A-QiuosBw8"
      },
      "source": [
        "Now create a box-plot of values that each variable takes, split by the \n",
        "target species."
      ]
    },
    {
      "cell_type": "code",
      "metadata": {
        "id": "51HhmH0msNdM",
        "colab": {
          "base_uri": "https://localhost:8080/",
          "height": 386
        },
        "outputId": "43777cf9-90fa-4138-b811-db73df9e3238"
      },
      "source": [
        "import seaborn as sns\n",
        "\n",
        "# Hint: use a `catplot`\n",
        "sns.catplot(y='value', hue='target', x=\"variable\",data=iris_df_long, kind='box')\n",
        "\n",
        "# TODO: create two more plots, using a boxenplot and a swarmplot."
      ],
      "execution_count": null,
      "outputs": [
        {
          "output_type": "execute_result",
          "data": {
            "text/plain": [
              "<seaborn.axisgrid.FacetGrid at 0x7f4c1452ef90>"
            ]
          },
          "metadata": {},
          "execution_count": 53
        },
        {
          "output_type": "display_data",
          "data": {
            "image/png": "[encoded data removed]",
            "text/plain": [
              "<Figure size 463.25x360 with 1 Axes>"
            ]
          },
          "metadata": {
            "needs_background": "light"
          }
        }
      ]
    },
    {
      "cell_type": "code",
      "metadata": {
        "id": "TfDUaFvAXVO2",
        "colab": {
          "base_uri": "https://localhost:8080/",
          "height": 297
        },
        "outputId": "62c916ae-4bca-4290-fda7-c40d16e88fc6"
      },
      "source": [
        "sns.boxenplot(y='value', hue='target', x=\"variable\",data=iris_df_long)"
      ],
      "execution_count": null,
      "outputs": [
        {
          "output_type": "execute_result",
          "data": {
            "text/plain": [
              "<matplotlib.axes._subplots.AxesSubplot at 0x7f4c14812c50>"
            ]
          },
          "metadata": {},
          "execution_count": 51
        },
        {
          "output_type": "display_data",
          "data": {
            "image/png": "[encoded data removed]",
            "text/plain": [
              "<Figure size 432x288 with 1 Axes>"
            ]
          },
          "metadata": {
            "needs_background": "light"
          }
        }
      ]
    },
    {
      "cell_type": "code",
      "metadata": {
        "colab": {
          "base_uri": "https://localhost:8080/",
          "height": 297
        },
        "id": "YYWlTbkosBz_",
        "outputId": "d05f6d47-7a55-492a-87ba-5ef7282409e3"
      },
      "source": [
        "sns.swarmplot(y='value', hue='target', x=\"variable\",data=iris_df_long, size=2.5)"
      ],
      "execution_count": null,
      "outputs": [
        {
          "output_type": "execute_result",
          "data": {
            "text/plain": [
              "<matplotlib.axes._subplots.AxesSubplot at 0x7f4c14819850>"
            ]
          },
          "metadata": {},
          "execution_count": 52
        },
        {
          "output_type": "display_data",
          "data": {
            "image/png": "[encoded data removed]",
            "text/plain": [
              "<Figure size 432x288 with 1 Axes>"
            ]
          },
          "metadata": {
            "needs_background": "light"
          }
        }
      ]
    }
  ]
}