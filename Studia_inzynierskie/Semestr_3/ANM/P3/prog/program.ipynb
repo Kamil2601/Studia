{
 "cells": [
  {
   "cell_type": "code",
   "execution_count": 3,
   "metadata": {},
   "outputs": [],
   "source": [
    "using LinearAlgebra\n",
    "using Printf"
   ]
  },
  {
   "cell_type": "code",
   "execution_count": 4,
   "metadata": {},
   "outputs": [
    {
     "data": {
      "text/plain": [
       "norm_inf (generic function with 1 method)"
      ]
     },
     "execution_count": 4,
     "metadata": {},
     "output_type": "execute_result"
    }
   ],
   "source": [
    "function norm_inf(M)\n",
    "    res = 0\n",
    "    n = size(M)[1]\n",
    "    for i=1:n\n",
    "        sum = 0\n",
    "        for j=1:n\n",
    "            sum+=abs(M[i,j])\n",
    "        end\n",
    "        if sum>res\n",
    "            res=sum\n",
    "        end\n",
    "    end\n",
    "    return res\n",
    "end"
   ]
  },
  {
   "cell_type": "code",
   "execution_count": 5,
   "metadata": {},
   "outputs": [
    {
     "data": {
      "text/plain": [
       "Schulz (generic function with 1 method)"
      ]
     },
     "execution_count": 5,
     "metadata": {},
     "output_type": "execute_result"
    }
   ],
   "source": [
    "function Schulz(A,X0,n)\n",
    "    I = one(A)\n",
    "    X = X0\n",
    "    for i = 1:n\n",
    "        X = X + X*(I - A*X)\n",
    "    end\n",
    "    \n",
    "    return X\n",
    "end"
   ]
  },
  {
   "cell_type": "code",
   "execution_count": 6,
   "metadata": {},
   "outputs": [
    {
     "data": {
      "text/plain": [
       "Schulz2 (generic function with 1 method)"
      ]
     },
     "execution_count": 6,
     "metadata": {},
     "output_type": "execute_result"
    }
   ],
   "source": [
    "function Schulz2(A,X0,epsilon)\n",
    "    I = one(A)\n",
    "    X = X0\n",
    "    while norm_inf(I-A*X)>epsilon\n",
    "        X = X + X*(I - A*X)\n",
    "    end\n",
    "    return X\n",
    "end"
   ]
  },
  {
   "cell_type": "code",
   "execution_count": 7,
   "metadata": {},
   "outputs": [
    {
     "data": {
      "text/plain": [
       "norm_1 (generic function with 1 method)"
      ]
     },
     "execution_count": 7,
     "metadata": {},
     "output_type": "execute_result"
    }
   ],
   "source": [
    "function norm_1(M)\n",
    "    res = 0\n",
    "    n = size(M)[1]\n",
    "    for i=1:n\n",
    "        sum = 0\n",
    "        for j=1:n\n",
    "            sum+=abs(M[j,i])\n",
    "        end\n",
    "        if sum>res\n",
    "            res=sum\n",
    "        end\n",
    "    end\n",
    "    return res\n",
    "end"
   ]
  },
  {
   "cell_type": "code",
   "execution_count": 8,
   "metadata": {},
   "outputs": [
    {
     "data": {
      "text/plain": [
       "norm_2 (generic function with 1 method)"
      ]
     },
     "execution_count": 8,
     "metadata": {},
     "output_type": "execute_result"
    }
   ],
   "source": [
    "function norm_2(M)\n",
    "    Mt = transpose(M)\n",
    "    return sqrt(eigmax(Mt*M))\n",
    "end"
   ]
  },
  {
   "cell_type": "code",
   "execution_count": 9,
   "metadata": {},
   "outputs": [
    {
     "data": {
      "text/plain": [
       "X01 (generic function with 1 method)"
      ]
     },
     "execution_count": 9,
     "metadata": {},
     "output_type": "execute_result"
    }
   ],
   "source": [
    "function X01(A)\n",
    "    return A/(norm_inf(A)^2)\n",
    "end"
   ]
  },
  {
   "cell_type": "code",
   "execution_count": 10,
   "metadata": {},
   "outputs": [
    {
     "data": {
      "text/plain": [
       "X02 (generic function with 1 method)"
      ]
     },
     "execution_count": 10,
     "metadata": {},
     "output_type": "execute_result"
    }
   ],
   "source": [
    "function X02(A)\n",
    "    return transpose(A)/(size(A,1)*norm_1(A)*norm_inf(A))\n",
    "end"
   ]
  },
  {
   "cell_type": "code",
   "execution_count": 11,
   "metadata": {},
   "outputs": [
    {
     "data": {
      "text/plain": [
       "X03 (generic function with 1 method)"
      ]
     },
     "execution_count": 11,
     "metadata": {},
     "output_type": "execute_result"
    }
   ],
   "source": [
    "function X03(A)\n",
    "    return transpose(A)/(norm_2(A)^2)\n",
    "end"
   ]
  },
  {
   "cell_type": "code",
   "execution_count": 12,
   "metadata": {},
   "outputs": [
    {
     "data": {
      "text/plain": [
       "X04 (generic function with 1 method)"
      ]
     },
     "execution_count": 12,
     "metadata": {},
     "output_type": "execute_result"
    }
   ],
   "source": [
    "function X04(A)\n",
    "    B = one(A)\n",
    "    n = size(B,1)\n",
    "    for i=1:n\n",
    "        B[i,i]=1/A[i,i]\n",
    "    end\n",
    "    \n",
    "    return B\n",
    "end"
   ]
  },
  {
   "cell_type": "code",
   "execution_count": 13,
   "metadata": {},
   "outputs": [
    {
     "data": {
      "text/plain": [
       "gauss (generic function with 1 method)"
      ]
     },
     "execution_count": 13,
     "metadata": {},
     "output_type": "execute_result"
    }
   ],
   "source": [
    "function gauss(A)\n",
    "    rows = size(A,1)\n",
    "    factor = A[1,1]/A[1,1]\n",
    "    \n",
    "    A = [A one(A)]\n",
    "\n",
    "    for j = 1:rows\n",
    "        for i = j+1:rows\n",
    "            factor = -A[i,j]/A[j,j]\n",
    "            A[i,:] = A[i,:] + A[j,:] * factor\n",
    "        end\n",
    "    end\n",
    "    \n",
    "    U = A[:,1:rows]\n",
    "    I = A[:,(rows+1):end]\n",
    "    res = zero(I)\n",
    "    for j = 1:rows\n",
    "        for i = rows:-1:1\n",
    "            res[i,j] = I[i,j]\n",
    "            for k = (i+1):rows\n",
    "                res[i,j] -= U[i,k]*res[k,j]\n",
    "            end\n",
    "            res[i,j] /=U[i,i]\n",
    "        end\n",
    "    end\n",
    "    return res\n",
    "end"
   ]
  },
  {
   "cell_type": "code",
   "execution_count": 14,
   "metadata": {},
   "outputs": [
    {
     "data": {
      "text/plain": [
       "2×2 Array{Float64,2}:\n",
       " -2.0   1.0\n",
       "  1.5  -0.5"
      ]
     },
     "execution_count": 14,
     "metadata": {},
     "output_type": "execute_result"
    }
   ],
   "source": [
    "A = [1. 2.;3. 4.]\n",
    "C = X03(A)\n",
    "Schulz2(A,C,0.00001)"
   ]
  },
  {
   "cell_type": "code",
   "execution_count": 15,
   "metadata": {},
   "outputs": [
    {
     "data": {
      "text/plain": [
       "1000×1000 Array{Float64,2}:\n",
       " 0.153527  0.806388   0.311916   …  0.0684878  0.108564   0.765513 \n",
       " 0.61988   0.47847    0.752845      0.622661   0.438146   0.816112 \n",
       " 0.991356  0.0690691  0.520846      0.938708   0.137677   0.486836 \n",
       " 0.258204  0.308824   0.780747      0.585797   0.709827   0.323119 \n",
       " 0.363094  0.899253   0.21374       0.317388   0.0185513  0.920452 \n",
       " 0.202605  0.224274   0.902673   …  0.66293    0.970853   0.256473 \n",
       " 0.939445  0.513436   0.691555      0.0351132  0.892435   0.968913 \n",
       " 0.536415  0.48985    0.64727       0.081872   0.144508   0.596597 \n",
       " 0.870389  0.0444317  0.579742      0.0339519  0.616721   0.270931 \n",
       " 0.767817  0.669079   0.504114      0.266016   0.570246   0.785844 \n",
       " 0.251527  0.984376   0.958215   …  0.201625   0.307841   0.127183 \n",
       " 0.388333  0.689872   0.844161      0.225461   0.569815   0.7891   \n",
       " 0.897837  0.649322   0.975087      0.253857   0.185278   0.213846 \n",
       " ⋮                               ⋱                                 \n",
       " 0.673361  0.662261   0.0456362     0.0999267  0.292849   0.966111 \n",
       " 0.69681   0.445524   0.41533       0.667689   0.397639   0.534025 \n",
       " 0.660539  0.647338   0.686742   …  0.848446   0.306545   0.953525 \n",
       " 0.827884  0.0488334  0.520429      0.607077   0.348936   0.0298994\n",
       " 0.385334  0.474507   0.849126      0.106907   0.822515   0.69015  \n",
       " 0.352141  0.628369   0.985891      0.917607   0.199019   0.110536 \n",
       " 0.558002  0.141408   0.0259147     0.328009   0.69359    0.453704 \n",
       " 0.493065  0.583254   0.517097   …  0.574592   0.0294324  0.853795 \n",
       " 0.572583  0.391891   0.121722      0.766065   0.0185921  0.235746 \n",
       " 0.381747  0.408632   0.823926      0.401494   0.727576   0.792333 \n",
       " 0.134544  0.796196   0.0923353     0.546598   0.173822   0.553424 \n",
       " 0.663504  0.0116807  0.135656      0.823841   0.972729   0.444203 "
      ]
     },
     "execution_count": 15,
     "metadata": {},
     "output_type": "execute_result"
    }
   ],
   "source": [
    "B = rand(1000,1000)"
   ]
  },
  {
   "cell_type": "code",
   "execution_count": 174,
   "metadata": {},
   "outputs": [
    {
     "name": "stdout",
     "output_type": "stream",
     "text": [
      " 21.171607 seconds (2.00 M allocations: 30.055 GiB, 6.59% gc time)\n",
      "  5.579736 seconds (443 allocations: 1.632 GiB, 1.14% gc time)\n",
      "  3.712250 seconds (908 allocations: 1.498 GiB, 3.92% gc time)\n"
     ]
    },
    {
     "data": {
      "text/plain": [
       "1.0000000002061145"
      ]
     },
     "execution_count": 174,
     "metadata": {},
     "output_type": "execute_result"
    }
   ],
   "source": [
    "#B = rand(1000,1000)\n",
    "C = X03(B)\n",
    "norm_2(one(B)-B*C)\n",
    "@time res1=gauss(B)\n",
    "@time res2=Schulz2(B,C,10^(-5))\n",
    "@time res3=Schulz(B,C,50)\n",
    "n1=norm_inf(res1*B)\n",
    "n2=norm_inf(res2*B)\n",
    "n3=norm_inf(res3*B)"
   ]
  },
  {
   "cell_type": "code",
   "execution_count": 175,
   "metadata": {},
   "outputs": [
    {
     "data": {
      "text/plain": [
       "3-element Array{Float64,1}:\n",
       " 1.000000031707625 \n",
       " 1.0000000406566765\n",
       " 1.0000000002061145"
      ]
     },
     "execution_count": 175,
     "metadata": {},
     "output_type": "execute_result"
    }
   ],
   "source": [
    "[n1,n2,n3]"
   ]
  },
  {
   "cell_type": "code",
   "execution_count": 16,
   "metadata": {},
   "outputs": [
    {
     "data": {
      "text/plain": [
       "100×100 Array{Float64,2}:\n",
       "  9.72799  79.8864   12.1453   33.2468   …  89.1454    25.1364   85.6547 \n",
       " 86.4482   77.1591   54.3727   12.9163      86.9784     4.69099  58.8761 \n",
       " 68.3269   48.9475   48.7846   89.0955       1.76966   52.4235   53.0209 \n",
       " 75.1772   55.6433   68.6002   42.7236      71.6089    74.7501   52.9798 \n",
       " 16.9585   37.9152   79.7673   29.9828      59.7989    14.6858   27.1659 \n",
       " 38.2258   74.3207   22.9014   45.633    …  95.9081     6.08536  62.5215 \n",
       " 40.6533   12.6604   38.1599   51.9882      32.3683    21.8456   44.1847 \n",
       " 77.2021    2.37007  39.5401   87.0622      60.5384    68.2405   10.2886 \n",
       " 25.5835   40.7872   28.4189   81.8395      30.1865    25.7007   81.2381 \n",
       " 98.6379   19.2423   63.1542   12.5926      31.6035    16.5969   27.941  \n",
       "  4.2101   51.929     1.24238  59.5123   …  13.0024    79.2689    7.20792\n",
       " 38.1445   91.0217    9.44329  78.1231      89.4251    95.9908   31.1954 \n",
       " 50.9031   17.8891   42.0029   27.3847      50.884     23.9415   75.0096 \n",
       "  ⋮                                      ⋱                               \n",
       " 63.2614   21.0252   73.201     4.75801     36.3832    67.8056   52.0597 \n",
       " 16.0644   80.3269   29.375    97.6695      23.1753    63.0143    8.1535 \n",
       " 86.834    38.535     2.62414  14.2255   …  16.2812    59.6992   88.3332 \n",
       " 15.6345   65.7491   17.2469   14.3129      25.3967    59.8329   49.9464 \n",
       " 80.2078   52.582    55.3068   32.6324       0.591953  24.3108   14.8617 \n",
       " 53.0193   44.9289   31.0477   51.4154      41.1211    15.1141   42.3967 \n",
       " 43.0268   93.1369   65.8289   19.8007      14.6113    55.4644    4.86167\n",
       " 33.6896   61.8933   53.2093    3.81738  …  67.139     23.25     54.6268 \n",
       " 79.0668   91.3363   81.2007   26.1342       1.98001   49.6872    8.55298\n",
       " 51.7319   14.0129   56.4495   36.3563      97.2415     1.74002  58.4355 \n",
       " 52.1083   27.3334   43.4452   58.536       90.137     38.0803   11.9797 \n",
       "  3.97834  23.2406   79.4149   36.3697      78.8892    84.9617   11.4787 "
      ]
     },
     "execution_count": 16,
     "metadata": {},
     "output_type": "execute_result"
    }
   ],
   "source": [
    "B = 100*rand(100,100)\n"
   ]
  },
  {
   "cell_type": "code",
   "execution_count": 38,
   "metadata": {},
   "outputs": [
    {
     "name": "stdout",
     "output_type": "stream",
     "text": [
      "  0.022998 seconds (19.82 k allocations: 34.598 MiB, 9.50% gc time)\n",
      "  0.019129 seconds (406 allocations: 15.351 MiB)\n",
      "  0.031615 seconds (467 allocations: 17.642 MiB, 2.29% gc time)\n"
     ]
    },
    {
     "data": {
      "text/plain": [
       "1.0000000000955274"
      ]
     },
     "execution_count": 38,
     "metadata": {},
     "output_type": "execute_result"
    }
   ],
   "source": [
    "C = X02(B)\n",
    "norm_inf(one(B)-B*C)\n",
    "\n",
    "@time res1=gauss(B)\n",
    "@time res3=Schulz(B,C,50)\n",
    "@time res2=Schulz2(B,C,10^(-5))\n",
    "\n",
    "n1=norm_inf(res1*B)\n",
    "n2=norm_inf(res2*B)\n",
    "n3=norm_inf(res3*B)"
   ]
  },
  {
   "cell_type": "code",
   "execution_count": 39,
   "metadata": {},
   "outputs": [
    {
     "data": {
      "text/plain": [
       "3-element Array{Float64,1}:\n",
       " 1.0000000011792531\n",
       " 1.000001916020014 \n",
       " 1.0000000000955274"
      ]
     },
     "execution_count": 39,
     "metadata": {},
     "output_type": "execute_result"
    }
   ],
   "source": [
    "[n1,n2,n3]"
   ]
  },
  {
   "cell_type": "code",
   "execution_count": null,
   "metadata": {},
   "outputs": [],
   "source": []
  },
  {
   "cell_type": "code",
   "execution_count": null,
   "metadata": {},
   "outputs": [],
   "source": []
  }
 ],
 "metadata": {
  "@webio": {
   "lastCommId": "29376779B7DB49A087EC00624340949D",
   "lastKernelId": "048338ee-c039-4981-ad67-8bad7b9af346"
  },
  "kernelspec": {
   "display_name": "Julia 1.0.1",
   "language": "julia",
   "name": "julia-1.0"
  },
  "language_info": {
   "file_extension": ".jl",
   "mimetype": "application/julia",
   "name": "julia",
   "version": "1.0.1"
  }
 },
 "nbformat": 4,
 "nbformat_minor": 2
}
