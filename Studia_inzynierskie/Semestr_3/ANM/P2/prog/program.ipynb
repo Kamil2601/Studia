{
 "cells": [
  {
   "cell_type": "code",
   "execution_count": 47,
   "metadata": {},
   "outputs": [
    {
     "data": {
      "text/plain": [
       "1024"
      ]
     },
     "execution_count": 47,
     "metadata": {},
     "output_type": "execute_result"
    }
   ],
   "source": [
    "setprecision(1024)"
   ]
  },
  {
   "cell_type": "code",
   "execution_count": 65,
   "metadata": {},
   "outputs": [
    {
     "data": {
      "text/plain": [
       "halley (generic function with 1 method)"
      ]
     },
     "execution_count": 65,
     "metadata": {},
     "output_type": "execute_result"
    }
   ],
   "source": [
    "function halley(f,f1,f2,n,x0)\n",
    "    x = BigFloat(x0)\n",
    "    for i = 1:n\n",
    "        f_val = f(x)\n",
    "        f1_val = f1(x)\n",
    "        f2_val = f2(x)\n",
    "        x = x - f_val / (f1_val - f2_val/(2*f1_val)*f_val)\n",
    "    end\n",
    "    return x\n",
    "end"
   ]
  },
  {
   "cell_type": "code",
   "execution_count": 117,
   "metadata": {},
   "outputs": [
    {
     "data": {
      "text/plain": [
       "quasi_halley (generic function with 1 method)"
      ]
     },
     "execution_count": 117,
     "metadata": {},
     "output_type": "execute_result"
    }
   ],
   "source": [
    "function quasi_halley(f,f1,n,x0,x1)\n",
    "    x2 = BigFloat(0.0)\n",
    "    x0 = BigFloat(x0)\n",
    "    x1 = BigFloat(x1)\n",
    "\n",
    "    for i = 1:n\n",
    "        f0_val = f(x0)\n",
    "        f1_val = f(x1)\n",
    "        if (x0==x1)\n",
    "            return x0\n",
    "        end\n",
    "        g0 = f1(x0)\n",
    "        g1 = f1(x1)\n",
    "        x2 = x1 - f1_val / (g1 - (g1 - g0)/(2*(x1-x0)*g1)*f1_val)\n",
    "\n",
    "        x0 = x1\n",
    "        x1 = x2\n",
    "    end\n",
    "\n",
    "    return x2\n",
    "end"
   ]
  },
  {
   "cell_type": "code",
   "execution_count": 50,
   "metadata": {},
   "outputs": [
    {
     "data": {
      "text/plain": [
       "newton (generic function with 1 method)"
      ]
     },
     "execution_count": 50,
     "metadata": {},
     "output_type": "execute_result"
    }
   ],
   "source": [
    "function newton(f,f1,n,x0)\n",
    "    x = BigFloat(x0)\n",
    "    for i = 1:n\n",
    "        x = x - f(x)/f1(x)\n",
    "    end\n",
    "    return x\n",
    "end"
   ]
  },
  {
   "cell_type": "code",
   "execution_count": 120,
   "metadata": {
    "scrolled": true
   },
   "outputs": [
    {
     "data": {
      "text/plain": [
       "secant (generic function with 1 method)"
      ]
     },
     "execution_count": 120,
     "metadata": {},
     "output_type": "execute_result"
    }
   ],
   "source": [
    "function secant(f,n,x0,x1)\n",
    "    x2 = 0\n",
    "    x0 = BigFloat(x0)\n",
    "    x1 = BigFloat(x1)\n",
    "    for i = 1:n\n",
    "        f0 = f(x0)\n",
    "        f1 = f(x1)\n",
    "        if (x0==x1)\n",
    "            return x0\n",
    "        end\n",
    "        x2 = x1 - f1*(x1-x0)/(f1-f0)\n",
    "        x0 = x1\n",
    "        x1 = x2\n",
    "    end\n",
    "    \n",
    "    return x2\n",
    "end"
   ]
  },
  {
   "cell_type": "code",
   "execution_count": 121,
   "metadata": {},
   "outputs": [
    {
     "data": {
      "text/plain": [
       "regula_falsi (generic function with 1 method)"
      ]
     },
     "execution_count": 121,
     "metadata": {},
     "output_type": "execute_result"
    }
   ],
   "source": [
    "function regula_falsi(f,n,x0,x1)\n",
    "    x2 = 0\n",
    "    x0 = BigFloat(x0)\n",
    "    x1 = BigFloat(x1)\n",
    "    for i = 1:n\n",
    "        f0 = f(x0)\n",
    "        f1 = f(x1)\n",
    "        x2 = x1 - f1*(x1-x0)/(f1-f0)\n",
    "        if f(x1)*f(x2) < 0\n",
    "            x0 = x1\n",
    "        end\n",
    "        x1 = x2\n",
    "    end\n",
    "    return x2\n",
    "end"
   ]
  },
  {
   "cell_type": "code",
   "execution_count": 122,
   "metadata": {},
   "outputs": [
    {
     "data": {
      "text/plain": [
       "f (generic function with 1 method)"
      ]
     },
     "execution_count": 122,
     "metadata": {},
     "output_type": "execute_result"
    }
   ],
   "source": [
    "f(x) = x^2-2"
   ]
  },
  {
   "cell_type": "code",
   "execution_count": 123,
   "metadata": {},
   "outputs": [
    {
     "data": {
      "text/plain": [
       "1.414213562373095048801688724209698078569671875376948073176679737990732478462107038850387534327641572735013846230912297024924836055850737212644121497099935831413222665927505592755799950501152782060571470109559971605970274534596862014728517418640889198609552329230484308714321450839762603627995251407989687253402"
      ]
     },
     "execution_count": 123,
     "metadata": {},
     "output_type": "execute_result"
    }
   ],
   "source": [
    "sqrt(BigFloat(2.0))"
   ]
  },
  {
   "cell_type": "code",
   "execution_count": 124,
   "metadata": {},
   "outputs": [],
   "source": [
    "using Printf"
   ]
  },
  {
   "cell_type": "code",
   "execution_count": 125,
   "metadata": {},
   "outputs": [
    {
     "data": {
      "text/plain": [
       "1.414634146341463414634146341463414634146341463414634146341463414634146341463414634146341463414634146341463414634146341463414634146341463414634146341463414634146341463414634146341463414634146341463414634146341463414634146341463414634146341463414634146341463414634146341463414634146341463414634146341463414634143"
      ]
     },
     "execution_count": 125,
     "metadata": {},
     "output_type": "execute_result"
    }
   ],
   "source": [
    "secant(f,3,1,2)"
   ]
  },
  {
   "cell_type": "code",
   "execution_count": 126,
   "metadata": {},
   "outputs": [
    {
     "data": {
      "text/plain": [
       "f2 (generic function with 1 method)"
      ]
     },
     "execution_count": 126,
     "metadata": {},
     "output_type": "execute_result"
    }
   ],
   "source": [
    "f1(x) = 2x\n",
    "f2(x) = 2"
   ]
  },
  {
   "cell_type": "code",
   "execution_count": 127,
   "metadata": {
    "scrolled": true
   },
   "outputs": [
    {
     "data": {
      "text/plain": [
       "(7.866824069956793276146176774640758970280619569786176974267744848307304783065599672840483048070533142788872981553714924247326331889556120740507730598355206633621364127032512385437065945025644163918600154050923458871876968753009980715994912503177081381631199874377402772890934984949585398115997747183321936301613e-309, 7.866824069956793276146176774640758970280619569786176974267744848307304783065599672840483048070533142788872981553714924247326331889556120740507730598355206633621364127032512385437065945025644163918600154050923458871876968753009980715994912503177081381631199874377402772890934984949585398115997747183321936301613e-309)"
      ]
     },
     "execution_count": 127,
     "metadata": {},
     "output_type": "execute_result"
    }
   ],
   "source": [
    "abs(newton(f,f1,15,5.0)-sqrt(BigFloat(2.0)))/sqrt(BigFloat(2.0)),\n",
    "abs(halley(f,f1,f2,15,5.0)-sqrt(BigFloat(2.0)))/sqrt(BigFloat(2.0))"
   ]
  },
  {
   "cell_type": "code",
   "execution_count": 231,
   "metadata": {},
   "outputs": [
    {
     "data": {
      "text/plain": [
       "test1 (generic function with 1 method)"
      ]
     },
     "execution_count": 231,
     "metadata": {},
     "output_type": "execute_result"
    }
   ],
   "source": [
    "function test1(f,f1,f2,x0,n_max,root)\n",
    "    res1 = []\n",
    "    res2 = []\n",
    "    for i = 1:n_max\n",
    "        newton_res = newton(f,f1,i,x0)\n",
    "        halley_res = halley(f,f1,f2,i,x0)\n",
    "        \n",
    "        newton_err = floor(-log(10,abs((newton_res-root)/root)))\n",
    "        halley_err = floor(-log(10,abs((halley_res-root)/root)))\n",
    "        if halley_err != Inf\n",
    "            push!(res1,Int(halley_err))\n",
    "        else\n",
    "            push!(res1,Int(308))\n",
    "        end\n",
    "        \n",
    "        if newton_err != Inf\n",
    "            push!(res2,Int(newton_err))\n",
    "        else\n",
    "            push!(res2,Int(308))\n",
    "        end\n",
    "        @printf(\"%d & %d & %d \\\\\\\\\\n\",i, halley_err, newton_err)\n",
    "    end\n",
    "    return (res1,res2)\n",
    "end"
   ]
  },
  {
   "cell_type": "code",
   "execution_count": 275,
   "metadata": {},
   "outputs": [
    {
     "data": {
      "text/plain": [
       "test2 (generic function with 1 method)"
      ]
     },
     "execution_count": 275,
     "metadata": {},
     "output_type": "execute_result"
    }
   ],
   "source": [
    "function test2(f,f1,x0,x1,n_max,root)\n",
    "    res1 = []\n",
    "    res2 = []\n",
    "    for i = 1:n_max\n",
    "        secant_res = secant(f,i,x0,x1)\n",
    "        #falsi_res = regula_falsi(f,i,x0,x1)\n",
    "        halley_res = quasi_halley(f,f1,i,x0,x1)\n",
    "        #rf_halley_res = rf_quasi_halley(f,f1,i,x0,x1)\n",
    "    \n",
    "        secant_err = floor(-log(10,abs((secant_res-root)/root)))\n",
    "        halley_err = floor(-log(10,abs((halley_res-root)/root)))\n",
    "        \n",
    "        if halley_err != Inf\n",
    "            push!(res1,Int(halley_err))\n",
    "        else\n",
    "            push!(res1,Int(308))\n",
    "        end\n",
    "        \n",
    "        if secant_err != Inf\n",
    "            push!(res2,Int(secant_err))\n",
    "        else\n",
    "            push!(res2,Int(308))\n",
    "        end\n",
    "        \n",
    "        @printf(\"%d & %d & %d \\\\\\\\ \\n\",i, halley_err, secant_err)\n",
    "    end\n",
    "    \n",
    "    return (res1,res2)\n",
    "end"
   ]
  },
  {
   "cell_type": "code",
   "execution_count": 215,
   "metadata": {},
   "outputs": [
    {
     "name": "stdout",
     "output_type": "stream",
     "text": [
      "1 & 1 & 0 \\\\ \n",
      "2 & 3 & 1 \\\\ \n",
      "3 & 11 & 2 \\\\ \n",
      "4 & 35 & 4 \\\\ \n",
      "5 & 107 & 7 \\\\ \n",
      "6 & 308 & 11 \\\\ \n",
      "7 & 308 & 18 \\\\ \n",
      "8 & 308 & 30 \\\\ \n",
      "9 & 308 & 50 \\\\ \n",
      "10 & 308 & 81 \\\\ \n",
      "11 & 308 & 131 \\\\ \n",
      "12 & 308 & 213 \\\\ \n",
      "13 & 308 & Inf \\\\ \n",
      "14 & 308 & 308 \\\\ \n",
      "15 & 308 & 308 \\\\ \n"
     ]
    },
    {
     "data": {
      "text/plain": [
       "(Any[1, 3, 11, 35, 107, 308, 308, 308, 308, 308, 308, 308, 308, 308, 308], Any[0, 1, 2, 4, 7, 11, 18, 30, 50, 81, 131, 213, 308, 308, 308])"
      ]
     },
     "execution_count": 215,
     "metadata": {},
     "output_type": "execute_result"
    }
   ],
   "source": [
    "test2(f,f1,1.0,3.0,15,sqrt(BigFloat(2.0)))"
   ]
  },
  {
   "cell_type": "code",
   "execution_count": 150,
   "metadata": {},
   "outputs": [
    {
     "name": "stdout",
     "output_type": "stream",
     "text": [
      "\u001b[32m\u001b[1m Resolving\u001b[22m\u001b[39m package versions...\n",
      "\u001b[32m\u001b[1m  Updating\u001b[22m\u001b[39m `~/.julia/environments/v1.0/Project.toml`\n",
      "\u001b[90m [no changes]\u001b[39m\n",
      "\u001b[32m\u001b[1m  Updating\u001b[22m\u001b[39m `~/.julia/environments/v1.0/Manifest.toml`\n",
      "\u001b[90m [no changes]\u001b[39m\n"
     ]
    }
   ],
   "source": [
    "using Pkg\n",
    "Pkg.add(\"Plots\")\n",
    "using Plots\n",
    "plotly()\n",
    "using Printf"
   ]
  },
  {
   "cell_type": "code",
   "execution_count": 286,
   "metadata": {},
   "outputs": [
    {
     "name": "stdout",
     "output_type": "stream",
     "text": [
      "1 & 1 & 1 \\\\\n",
      "2 & 6 & 2 \\\\\n",
      "3 & 20 & 5 \\\\\n",
      "4 & 61 & 11 \\\\\n",
      "5 & 185 & 24 \\\\\n",
      "6 & Inf & 48 \\\\\n",
      "7 & 308 & 97 \\\\\n",
      "8 & 308 & 195 \\\\\n",
      "9 & 308 & 308 \\\\\n",
      "10 & 308 & 308 \\\\\n",
      "11 & 308 & 308 \\\\\n",
      "12 & 308 & 308 \\\\\n",
      "13 & 308 & 308 \\\\\n",
      "14 & 308 & 308 \\\\\n",
      "15 & 308 & 308 \\\\\n",
      "1 & 1 & 0 \\\\ \n",
      "2 & 3 & 1 \\\\ \n",
      "3 & 11 & 2 \\\\ \n",
      "4 & 35 & 4 \\\\ \n",
      "5 & 107 & 7 \\\\ \n",
      "6 & 308 & 11 \\\\ \n",
      "7 & 308 & 18 \\\\ \n",
      "8 & 308 & 30 \\\\ \n",
      "9 & 308 & 50 \\\\ \n",
      "10 & 308 & 81 \\\\ \n",
      "11 & 308 & 131 \\\\ \n",
      "12 & 308 & 213 \\\\ \n",
      "13 & 308 & Inf \\\\ \n",
      "14 & 308 & 308 \\\\ \n",
      "15 & 308 & 308 \\\\ \n"
     ]
    },
    {
     "data": {
      "application/vnd.plotly.v1+json": {
       "data": [
        {
         "colorbar": {
          "title": ""
         },
         "hoverinfo": "text",
         "legendgroup": "Halley",
         "line": {
          "color": "rgba(0, 154, 250, 1.000)",
          "dash": "solid",
          "shape": "linear",
          "width": 2
         },
         "mode": "lines",
         "name": "Halley",
         "showlegend": true,
         "text": [
          null,
          null,
          null,
          null,
          null,
          null,
          null,
          null,
          null,
          null,
          null,
          null,
          null,
          null,
          null
         ],
         "type": "scatter",
         "x": [
          1,
          2,
          3,
          4,
          5,
          6,
          7,
          8,
          9,
          10,
          11,
          12,
          13,
          14,
          15
         ],
         "xaxis": "x1",
         "y": [
          1,
          6,
          20,
          61,
          185,
          308,
          308,
          308,
          308,
          308,
          308,
          308,
          308,
          308,
          308
         ],
         "yaxis": "y1",
         "zmax": 0.1,
         "zmin": -0.1
        },
        {
         "colorbar": {
          "title": ""
         },
         "hoverinfo": "text",
         "legendgroup": "Newton",
         "line": {
          "color": "rgba(227, 111, 71, 1.000)",
          "dash": "solid",
          "shape": "linear",
          "width": 2
         },
         "mode": "lines",
         "name": "Newton",
         "showlegend": true,
         "text": [
          null,
          null,
          null,
          null,
          null,
          null,
          null,
          null,
          null,
          null,
          null,
          null,
          null,
          null,
          null
         ],
         "type": "scatter",
         "x": [
          1,
          2,
          3,
          4,
          5,
          6,
          7,
          8,
          9,
          10,
          11,
          12,
          13,
          14,
          15
         ],
         "xaxis": "x1",
         "y": [
          1,
          2,
          5,
          11,
          24,
          48,
          97,
          195,
          308,
          308,
          308,
          308,
          308,
          308,
          308
         ],
         "yaxis": "y1",
         "zmax": 0.1,
         "zmin": -0.1
        },
        {
         "colorbar": {
          "title": ""
         },
         "hoverinfo": "text",
         "legendgroup": "quasi-Halley",
         "line": {
          "color": "rgba(62, 164, 78, 1.000)",
          "dash": "solid",
          "shape": "linear",
          "width": 2
         },
         "mode": "lines",
         "name": "quasi-Halley",
         "showlegend": true,
         "text": [
          null,
          null,
          null,
          null,
          null,
          null,
          null,
          null,
          null,
          null,
          null,
          null,
          null,
          null,
          null
         ],
         "type": "scatter",
         "x": [
          1,
          2,
          3,
          4,
          5,
          6,
          7,
          8,
          9,
          10,
          11,
          12,
          13,
          14,
          15
         ],
         "xaxis": "x1",
         "y": [
          1,
          3,
          11,
          35,
          107,
          308,
          308,
          308,
          308,
          308,
          308,
          308,
          308,
          308,
          308
         ],
         "yaxis": "y1",
         "zmax": 0.1,
         "zmin": -0.1
        },
        {
         "colorbar": {
          "title": ""
         },
         "hoverinfo": "text",
         "legendgroup": "sieczne",
         "line": {
          "color": "rgba(195, 113, 210, 1.000)",
          "dash": "solid",
          "shape": "linear",
          "width": 2
         },
         "mode": "lines",
         "name": "sieczne",
         "showlegend": true,
         "text": [
          null,
          null,
          null,
          null,
          null,
          null,
          null,
          null,
          null,
          null,
          null,
          null,
          null,
          null,
          null
         ],
         "type": "scatter",
         "x": [
          1,
          2,
          3,
          4,
          5,
          6,
          7,
          8,
          9,
          10,
          11,
          12,
          13,
          14,
          15
         ],
         "xaxis": "x1",
         "y": [
          0,
          1,
          2,
          4,
          7,
          11,
          18,
          30,
          50,
          81,
          131,
          213,
          308,
          308,
          308
         ],
         "yaxis": "y1",
         "zmax": 0.1,
         "zmin": -0.1
        }
       ],
       "layout": {
        "annotations": [],
        "height": 400,
        "legend": {
         "bgcolor": "rgba(255, 255, 255, 1.000)",
         "bordercolor": "rgba(0, 0, 0, 1.000)",
         "font": {
          "color": "rgba(0, 0, 0, 1.000)",
          "family": "sans-serif",
          "size": 11
         },
         "tracegroupgap": 0,
         "x": 1,
         "y": 1
        },
        "margin": {
         "b": 20,
         "l": 0,
         "r": 0,
         "t": 20
        },
        "paper_bgcolor": "rgba(255, 255, 255, 1.000)",
        "plot_bgcolor": "rgba(255, 255, 255, 1.000)",
        "showlegend": true,
        "width": 600,
        "xaxis": {
         "anchor": "y1",
         "domain": [
          0.07646908719743364,
          0.9934383202099737
         ],
         "gridcolor": "rgba(0, 0, 0, 0.100)",
         "gridwidth": 0.5,
         "linecolor": "rgba(0, 0, 0, 1.000)",
         "mirror": false,
         "range": [
          0.5800000000000001,
          15.42
         ],
         "showgrid": true,
         "showline": true,
         "showticklabels": true,
         "tickangle": 0,
         "tickcolor": "rgb(0, 0, 0)",
         "tickfont": {
          "color": "rgba(0, 0, 0, 1.000)",
          "family": "sans-serif",
          "size": 11
         },
         "tickmode": "array",
         "ticks": "inside",
         "ticktext": [
          "2",
          "4",
          "6",
          "8",
          "10",
          "12",
          "14"
         ],
         "tickvals": [
          2,
          4,
          6,
          8,
          10,
          12,
          14
         ],
         "title": "liczba iteracji",
         "titlefont": {
          "color": "rgba(0, 0, 0, 1.000)",
          "family": "sans-serif",
          "size": 15
         },
         "type": "-",
         "visible": true,
         "zeroline": false,
         "zerolinecolor": "rgba(0, 0, 0, 1.000)"
        },
        "yaxis": {
         "anchor": "x1",
         "domain": [
          0.07581474190726165,
          0.9901574803149606
         ],
         "gridcolor": "rgba(0, 0, 0, 0.100)",
         "gridwidth": 0.5,
         "linecolor": "rgba(0, 0, 0, 1.000)",
         "mirror": false,
         "range": [
          -9.24,
          317.24
         ],
         "showgrid": true,
         "showline": true,
         "showticklabels": true,
         "tickangle": 0,
         "tickcolor": "rgb(0, 0, 0)",
         "tickfont": {
          "color": "rgba(0, 0, 0, 1.000)",
          "family": "sans-serif",
          "size": 11
         },
         "tickmode": "array",
         "ticks": "inside",
         "ticktext": [
          "0",
          "100",
          "200",
          "300"
         ],
         "tickvals": [
          0,
          100,
          200,
          300
         ],
         "title": "liczba cyfr",
         "titlefont": {
          "color": "rgba(0, 0, 0, 1.000)",
          "family": "sans-serif",
          "size": 15
         },
         "type": "-",
         "visible": true,
         "zeroline": false,
         "zerolinecolor": "rgba(0, 0, 0, 1.000)"
        }
       }
      },
      "text/html": [
       "    <div id=\"37fa89e6-73bd-421a-ab6c-04c302a61051\" style=\"width:600px;height:400px;\"></div>\n",
       "    <script>\n",
       "    PLOT = document.getElementById('37fa89e6-73bd-421a-ab6c-04c302a61051');\n",
       "    Plotly.plot(PLOT, [{\"xaxis\":\"x1\",\"colorbar\":{\"title\":\"\"},\"yaxis\":\"y1\",\"text\":[null,null,null,null,null,null,null,null,null,null,null,null,null,null,null],\"x\":[1,2,3,4,5,6,7,8,9,10,11,12,13,14,15],\"showlegend\":true,\"mode\":\"lines\",\"name\":\"Halley\",\"zmin\":-0.1,\"legendgroup\":\"Halley\",\"zmax\":0.1,\"line\":{\"color\":\"rgba(0, 154, 250, 1.000)\",\"shape\":\"linear\",\"dash\":\"solid\",\"width\":2},\"y\":[1.0,6.0,20.0,61.0,185.0,308.0,308.0,308.0,308.0,308.0,308.0,308.0,308.0,308.0,308.0],\"type\":\"scatter\",\"hoverinfo\":\"text\"},{\"xaxis\":\"x1\",\"colorbar\":{\"title\":\"\"},\"yaxis\":\"y1\",\"text\":[null,null,null,null,null,null,null,null,null,null,null,null,null,null,null],\"x\":[1,2,3,4,5,6,7,8,9,10,11,12,13,14,15],\"showlegend\":true,\"mode\":\"lines\",\"name\":\"Newton\",\"zmin\":-0.1,\"legendgroup\":\"Newton\",\"zmax\":0.1,\"line\":{\"color\":\"rgba(227, 111, 71, 1.000)\",\"shape\":\"linear\",\"dash\":\"solid\",\"width\":2},\"y\":[1.0,2.0,5.0,11.0,24.0,48.0,97.0,195.0,308.0,308.0,308.0,308.0,308.0,308.0,308.0],\"type\":\"scatter\",\"hoverinfo\":\"text\"},{\"xaxis\":\"x1\",\"colorbar\":{\"title\":\"\"},\"yaxis\":\"y1\",\"text\":[null,null,null,null,null,null,null,null,null,null,null,null,null,null,null],\"x\":[1,2,3,4,5,6,7,8,9,10,11,12,13,14,15],\"showlegend\":true,\"mode\":\"lines\",\"name\":\"quasi-Halley\",\"zmin\":-0.1,\"legendgroup\":\"quasi-Halley\",\"zmax\":0.1,\"line\":{\"color\":\"rgba(62, 164, 78, 1.000)\",\"shape\":\"linear\",\"dash\":\"solid\",\"width\":2},\"y\":[1.0,3.0,11.0,35.0,107.0,308.0,308.0,308.0,308.0,308.0,308.0,308.0,308.0,308.0,308.0],\"type\":\"scatter\",\"hoverinfo\":\"text\"},{\"xaxis\":\"x1\",\"colorbar\":{\"title\":\"\"},\"yaxis\":\"y1\",\"text\":[null,null,null,null,null,null,null,null,null,null,null,null,null,null,null],\"x\":[1,2,3,4,5,6,7,8,9,10,11,12,13,14,15],\"showlegend\":true,\"mode\":\"lines\",\"name\":\"sieczne\",\"zmin\":-0.1,\"legendgroup\":\"sieczne\",\"zmax\":0.1,\"line\":{\"color\":\"rgba(195, 113, 210, 1.000)\",\"shape\":\"linear\",\"dash\":\"solid\",\"width\":2},\"y\":[0.0,1.0,2.0,4.0,7.0,11.0,18.0,30.0,50.0,81.0,131.0,213.0,308.0,308.0,308.0],\"type\":\"scatter\",\"hoverinfo\":\"text\"}], {\"showlegend\":true,\"xaxis\":{\"showticklabels\":true,\"gridwidth\":0.5,\"tickvals\":[2.0,4.0,6.0,8.0,10.0,12.0,14.0],\"visible\":true,\"ticks\":\"inside\",\"range\":[0.5800000000000001,15.42],\"domain\":[0.07646908719743364,0.9934383202099737],\"tickmode\":\"array\",\"linecolor\":\"rgba(0, 0, 0, 1.000)\",\"showgrid\":true,\"title\":\"liczba iteracji\",\"mirror\":false,\"tickangle\":0,\"showline\":true,\"gridcolor\":\"rgba(0, 0, 0, 0.100)\",\"titlefont\":{\"color\":\"rgba(0, 0, 0, 1.000)\",\"family\":\"sans-serif\",\"size\":15},\"tickcolor\":\"rgb(0, 0, 0)\",\"ticktext\":[\"2\",\"4\",\"6\",\"8\",\"10\",\"12\",\"14\"],\"zeroline\":false,\"type\":\"-\",\"tickfont\":{\"color\":\"rgba(0, 0, 0, 1.000)\",\"family\":\"sans-serif\",\"size\":11},\"zerolinecolor\":\"rgba(0, 0, 0, 1.000)\",\"anchor\":\"y1\"},\"paper_bgcolor\":\"rgba(255, 255, 255, 1.000)\",\"annotations\":[],\"height\":400,\"margin\":{\"l\":0,\"b\":20,\"r\":0,\"t\":20},\"plot_bgcolor\":\"rgba(255, 255, 255, 1.000)\",\"yaxis\":{\"showticklabels\":true,\"gridwidth\":0.5,\"tickvals\":[0.0,100.0,200.0,300.0],\"visible\":true,\"ticks\":\"inside\",\"range\":[-9.24,317.24],\"domain\":[0.07581474190726165,0.9901574803149606],\"tickmode\":\"array\",\"linecolor\":\"rgba(0, 0, 0, 1.000)\",\"showgrid\":true,\"title\":\"liczba cyfr\",\"mirror\":false,\"tickangle\":0,\"showline\":true,\"gridcolor\":\"rgba(0, 0, 0, 0.100)\",\"titlefont\":{\"color\":\"rgba(0, 0, 0, 1.000)\",\"family\":\"sans-serif\",\"size\":15},\"tickcolor\":\"rgb(0, 0, 0)\",\"ticktext\":[\"0\",\"100\",\"200\",\"300\"],\"zeroline\":false,\"type\":\"-\",\"tickfont\":{\"color\":\"rgba(0, 0, 0, 1.000)\",\"family\":\"sans-serif\",\"size\":11},\"zerolinecolor\":\"rgba(0, 0, 0, 1.000)\",\"anchor\":\"x1\"},\"legend\":{\"tracegroupgap\":0,\"bordercolor\":\"rgba(0, 0, 0, 1.000)\",\"bgcolor\":\"rgba(255, 255, 255, 1.000)\",\"font\":{\"color\":\"rgba(0, 0, 0, 1.000)\",\"family\":\"sans-serif\",\"size\":11},\"y\":1.0,\"x\":1.0},\"width\":600});\n",
       "    </script>\n"
      ]
     },
     "execution_count": 286,
     "metadata": {},
     "output_type": "execute_result"
    }
   ],
   "source": [
    "f(x) = x^2-2\n",
    "f1(x) = 2*x\n",
    "f2(x) = 2\n",
    "tab1 = test1(f,f1,f2,1.0,15,sqrt(BigFloat(2.0)))\n",
    "tab2 = test2(f,f1,1.0,3.0,15,sqrt(BigFloat(2.0)))\n",
    "plot(\n",
    "1:15,\n",
    "[tab1[1],tab1[2],tab2[1],tab2[2]],\n",
    "xlabel = \"liczba iteracji\", ylabel = \"liczba cyfr\",\n",
    "label=[\"Halley\" \"Newton\" \"quasi-Halley\" \"sieczne\"],\n",
    "lw=2)"
   ]
  },
  {
   "cell_type": "code",
   "execution_count": 250,
   "metadata": {},
   "outputs": [
    {
     "name": "stdout",
     "output_type": "stream",
     "text": [
      "1 & 0 & 0 \\\\\n",
      "2 & 2 & 0 \\\\\n",
      "3 & 6 & 1 \\\\\n",
      "4 & 18 & 3 \\\\\n",
      "5 & 54 & 10 \\\\\n",
      "6 & 162 & 31 \\\\\n",
      "7 & Inf & 92 \\\\\n",
      "8 & Inf & 277 \\\\\n",
      "9 & Inf & Inf \\\\\n",
      "10 & Inf & Inf \\\\\n",
      "11 & Inf & Inf \\\\\n",
      "12 & Inf & Inf \\\\\n",
      "13 & Inf & Inf \\\\\n",
      "14 & Inf & Inf \\\\\n",
      "15 & Inf & Inf \\\\\n",
      "1 & 0 & 1 \\\\ \n",
      "2 & 1 & 2 \\\\ \n",
      "3 & 3 & 6 \\\\ \n",
      "4 & 9 & 11 \\\\ \n",
      "5 & 22 & 23 \\\\ \n",
      "6 & 53 & 45 \\\\ \n",
      "7 & 128 & 92 \\\\ \n",
      "8 & Inf & 183 \\\\ \n",
      "9 & Inf & Inf \\\\ \n",
      "10 & Inf & Inf \\\\ \n",
      "11 & Inf & Inf \\\\ \n",
      "12 & Inf & Inf \\\\ \n",
      "13 & Inf & Inf \\\\ \n",
      "14 & Inf & Inf \\\\ \n",
      "15 & Inf & Inf \\\\ \n"
     ]
    },
    {
     "data": {
      "application/vnd.plotly.v1+json": {
       "data": [
        {
         "colorbar": {
          "title": ""
         },
         "hoverinfo": "text",
         "legendgroup": "Halley",
         "line": {
          "color": "rgba(0, 154, 250, 1.000)",
          "dash": "solid",
          "shape": "linear",
          "width": 2
         },
         "mode": "lines",
         "name": "Halley",
         "showlegend": true,
         "text": [
          null,
          null,
          null,
          null,
          null,
          null,
          null,
          null,
          null,
          null,
          null,
          null,
          null,
          null,
          null
         ],
         "type": "scatter",
         "x": [
          1,
          2,
          3,
          4,
          5,
          6,
          7,
          8,
          9,
          10,
          11,
          12,
          13,
          14,
          15
         ],
         "xaxis": "x1",
         "y": [
          0,
          2,
          6,
          18,
          54,
          162,
          308,
          308,
          308,
          308,
          308,
          308,
          308,
          308,
          308
         ],
         "yaxis": "y1",
         "zmax": 0.1,
         "zmin": -0.1
        },
        {
         "colorbar": {
          "title": ""
         },
         "hoverinfo": "text",
         "legendgroup": "Newton",
         "line": {
          "color": "rgba(227, 111, 71, 1.000)",
          "dash": "solid",
          "shape": "linear",
          "width": 2
         },
         "mode": "lines",
         "name": "Newton",
         "showlegend": true,
         "text": [
          null,
          null,
          null,
          null,
          null,
          null,
          null,
          null,
          null,
          null,
          null,
          null,
          null,
          null,
          null
         ],
         "type": "scatter",
         "x": [
          1,
          2,
          3,
          4,
          5,
          6,
          7,
          8,
          9,
          10,
          11,
          12,
          13,
          14,
          15
         ],
         "xaxis": "x1",
         "y": [
          0,
          0,
          1,
          3,
          10,
          31,
          92,
          277,
          308,
          308,
          308,
          308,
          308,
          308,
          308
         ],
         "yaxis": "y1",
         "zmax": 0.1,
         "zmin": -0.1
        },
        {
         "colorbar": {
          "title": ""
         },
         "hoverinfo": "text",
         "legendgroup": "quasi-Halley",
         "line": {
          "color": "rgba(62, 164, 78, 1.000)",
          "dash": "solid",
          "shape": "linear",
          "width": 2
         },
         "mode": "lines",
         "name": "quasi-Halley",
         "showlegend": true,
         "text": [
          null,
          null,
          null,
          null,
          null,
          null,
          null,
          null,
          null,
          null,
          null,
          null,
          null,
          null,
          null
         ],
         "type": "scatter",
         "x": [
          1,
          2,
          3,
          4,
          5,
          6,
          7,
          8,
          9,
          10,
          11,
          12,
          13,
          14,
          15
         ],
         "xaxis": "x1",
         "y": [
          0,
          1,
          3,
          9,
          22,
          53,
          128,
          308,
          308,
          308,
          308,
          308,
          308,
          308,
          308
         ],
         "yaxis": "y1",
         "zmax": 0.1,
         "zmin": -0.1
        },
        {
         "colorbar": {
          "title": ""
         },
         "hoverinfo": "text",
         "legendgroup": "sieczne",
         "line": {
          "color": "rgba(195, 113, 210, 1.000)",
          "dash": "solid",
          "shape": "linear",
          "width": 2
         },
         "mode": "lines",
         "name": "sieczne",
         "showlegend": true,
         "text": [
          null,
          null,
          null,
          null,
          null,
          null,
          null,
          null,
          null,
          null,
          null,
          null,
          null,
          null,
          null
         ],
         "type": "scatter",
         "x": [
          1,
          2,
          3,
          4,
          5,
          6,
          7,
          8,
          9,
          10,
          11,
          12,
          13,
          14,
          15
         ],
         "xaxis": "x1",
         "y": [
          1,
          2,
          6,
          11,
          23,
          45,
          92,
          183,
          308,
          308,
          308,
          308,
          308,
          308,
          308
         ],
         "yaxis": "y1",
         "zmax": 0.1,
         "zmin": -0.1
        }
       ],
       "layout": {
        "annotations": [],
        "height": 400,
        "legend": {
         "bgcolor": "rgba(255, 255, 255, 1.000)",
         "bordercolor": "rgba(0, 0, 0, 1.000)",
         "font": {
          "color": "rgba(0, 0, 0, 1.000)",
          "family": "sans-serif",
          "size": 11
         },
         "tracegroupgap": 0,
         "x": 1,
         "y": 1
        },
        "margin": {
         "b": 20,
         "l": 0,
         "r": 0,
         "t": 20
        },
        "paper_bgcolor": "rgba(255, 255, 255, 1.000)",
        "plot_bgcolor": "rgba(255, 255, 255, 1.000)",
        "showlegend": true,
        "width": 600,
        "xaxis": {
         "anchor": "y1",
         "domain": [
          0.07646908719743364,
          0.9934383202099737
         ],
         "gridcolor": "rgba(0, 0, 0, 0.100)",
         "gridwidth": 0.5,
         "linecolor": "rgba(0, 0, 0, 1.000)",
         "mirror": false,
         "range": [
          0.5800000000000001,
          15.42
         ],
         "showgrid": true,
         "showline": true,
         "showticklabels": true,
         "tickangle": 0,
         "tickcolor": "rgb(0, 0, 0)",
         "tickfont": {
          "color": "rgba(0, 0, 0, 1.000)",
          "family": "sans-serif",
          "size": 11
         },
         "tickmode": "array",
         "ticks": "inside",
         "ticktext": [
          "2",
          "4",
          "6",
          "8",
          "10",
          "12",
          "14"
         ],
         "tickvals": [
          2,
          4,
          6,
          8,
          10,
          12,
          14
         ],
         "title": "liczba iteracji",
         "titlefont": {
          "color": "rgba(0, 0, 0, 1.000)",
          "family": "sans-serif",
          "size": 15
         },
         "type": "-",
         "visible": true,
         "zeroline": false,
         "zerolinecolor": "rgba(0, 0, 0, 1.000)"
        },
        "yaxis": {
         "anchor": "x1",
         "domain": [
          0.07581474190726165,
          0.9901574803149606
         ],
         "gridcolor": "rgba(0, 0, 0, 0.100)",
         "gridwidth": 0.5,
         "linecolor": "rgba(0, 0, 0, 1.000)",
         "mirror": false,
         "range": [
          -9.24,
          317.24
         ],
         "showgrid": true,
         "showline": true,
         "showticklabels": true,
         "tickangle": 0,
         "tickcolor": "rgb(0, 0, 0)",
         "tickfont": {
          "color": "rgba(0, 0, 0, 1.000)",
          "family": "sans-serif",
          "size": 11
         },
         "tickmode": "array",
         "ticks": "inside",
         "ticktext": [
          "0",
          "100",
          "200",
          "300"
         ],
         "tickvals": [
          0,
          100,
          200,
          300
         ],
         "title": "liczba cyfr",
         "titlefont": {
          "color": "rgba(0, 0, 0, 1.000)",
          "family": "sans-serif",
          "size": 15
         },
         "type": "-",
         "visible": true,
         "zeroline": false,
         "zerolinecolor": "rgba(0, 0, 0, 1.000)"
        }
       }
      },
      "text/html": [
       "    <div id=\"70e9ff6a-a455-4313-9ef6-29b865061b77\" style=\"width:600px;height:400px;\"></div>\n",
       "    <script>\n",
       "    PLOT = document.getElementById('70e9ff6a-a455-4313-9ef6-29b865061b77');\n",
       "    Plotly.plot(PLOT, [{\"xaxis\":\"x1\",\"colorbar\":{\"title\":\"\"},\"yaxis\":\"y1\",\"text\":[null,null,null,null,null,null,null,null,null,null,null,null,null,null,null],\"x\":[1,2,3,4,5,6,7,8,9,10,11,12,13,14,15],\"showlegend\":true,\"mode\":\"lines\",\"name\":\"Halley\",\"zmin\":-0.1,\"legendgroup\":\"Halley\",\"zmax\":0.1,\"line\":{\"color\":\"rgba(0, 154, 250, 1.000)\",\"shape\":\"linear\",\"dash\":\"solid\",\"width\":2},\"y\":[0.0,2.0,6.0,18.0,54.0,162.0,308.0,308.0,308.0,308.0,308.0,308.0,308.0,308.0,308.0],\"type\":\"scatter\",\"hoverinfo\":\"text\"},{\"xaxis\":\"x1\",\"colorbar\":{\"title\":\"\"},\"yaxis\":\"y1\",\"text\":[null,null,null,null,null,null,null,null,null,null,null,null,null,null,null],\"x\":[1,2,3,4,5,6,7,8,9,10,11,12,13,14,15],\"showlegend\":true,\"mode\":\"lines\",\"name\":\"Newton\",\"zmin\":-0.1,\"legendgroup\":\"Newton\",\"zmax\":0.1,\"line\":{\"color\":\"rgba(227, 111, 71, 1.000)\",\"shape\":\"linear\",\"dash\":\"solid\",\"width\":2},\"y\":[0.0,0.0,1.0,3.0,10.0,31.0,92.0,277.0,308.0,308.0,308.0,308.0,308.0,308.0,308.0],\"type\":\"scatter\",\"hoverinfo\":\"text\"},{\"xaxis\":\"x1\",\"colorbar\":{\"title\":\"\"},\"yaxis\":\"y1\",\"text\":[null,null,null,null,null,null,null,null,null,null,null,null,null,null,null],\"x\":[1,2,3,4,5,6,7,8,9,10,11,12,13,14,15],\"showlegend\":true,\"mode\":\"lines\",\"name\":\"quasi-Halley\",\"zmin\":-0.1,\"legendgroup\":\"quasi-Halley\",\"zmax\":0.1,\"line\":{\"color\":\"rgba(62, 164, 78, 1.000)\",\"shape\":\"linear\",\"dash\":\"solid\",\"width\":2},\"y\":[0.0,1.0,3.0,9.0,22.0,53.0,128.0,308.0,308.0,308.0,308.0,308.0,308.0,308.0,308.0],\"type\":\"scatter\",\"hoverinfo\":\"text\"},{\"xaxis\":\"x1\",\"colorbar\":{\"title\":\"\"},\"yaxis\":\"y1\",\"text\":[null,null,null,null,null,null,null,null,null,null,null,null,null,null,null],\"x\":[1,2,3,4,5,6,7,8,9,10,11,12,13,14,15],\"showlegend\":true,\"mode\":\"lines\",\"name\":\"sieczne\",\"zmin\":-0.1,\"legendgroup\":\"sieczne\",\"zmax\":0.1,\"line\":{\"color\":\"rgba(195, 113, 210, 1.000)\",\"shape\":\"linear\",\"dash\":\"solid\",\"width\":2},\"y\":[1.0,2.0,6.0,11.0,23.0,45.0,92.0,183.0,308.0,308.0,308.0,308.0,308.0,308.0,308.0],\"type\":\"scatter\",\"hoverinfo\":\"text\"}], {\"showlegend\":true,\"xaxis\":{\"showticklabels\":true,\"gridwidth\":0.5,\"tickvals\":[2.0,4.0,6.0,8.0,10.0,12.0,14.0],\"visible\":true,\"ticks\":\"inside\",\"range\":[0.5800000000000001,15.42],\"domain\":[0.07646908719743364,0.9934383202099737],\"tickmode\":\"array\",\"linecolor\":\"rgba(0, 0, 0, 1.000)\",\"showgrid\":true,\"title\":\"liczba iteracji\",\"mirror\":false,\"tickangle\":0,\"showline\":true,\"gridcolor\":\"rgba(0, 0, 0, 0.100)\",\"titlefont\":{\"color\":\"rgba(0, 0, 0, 1.000)\",\"family\":\"sans-serif\",\"size\":15},\"tickcolor\":\"rgb(0, 0, 0)\",\"ticktext\":[\"2\",\"4\",\"6\",\"8\",\"10\",\"12\",\"14\"],\"zeroline\":false,\"type\":\"-\",\"tickfont\":{\"color\":\"rgba(0, 0, 0, 1.000)\",\"family\":\"sans-serif\",\"size\":11},\"zerolinecolor\":\"rgba(0, 0, 0, 1.000)\",\"anchor\":\"y1\"},\"paper_bgcolor\":\"rgba(255, 255, 255, 1.000)\",\"annotations\":[],\"height\":400,\"margin\":{\"l\":0,\"b\":20,\"r\":0,\"t\":20},\"plot_bgcolor\":\"rgba(255, 255, 255, 1.000)\",\"yaxis\":{\"showticklabels\":true,\"gridwidth\":0.5,\"tickvals\":[0.0,100.0,200.0,300.0],\"visible\":true,\"ticks\":\"inside\",\"range\":[-9.24,317.24],\"domain\":[0.07581474190726165,0.9901574803149606],\"tickmode\":\"array\",\"linecolor\":\"rgba(0, 0, 0, 1.000)\",\"showgrid\":true,\"title\":\"liczba cyfr\",\"mirror\":false,\"tickangle\":0,\"showline\":true,\"gridcolor\":\"rgba(0, 0, 0, 0.100)\",\"titlefont\":{\"color\":\"rgba(0, 0, 0, 1.000)\",\"family\":\"sans-serif\",\"size\":15},\"tickcolor\":\"rgb(0, 0, 0)\",\"ticktext\":[\"0\",\"100\",\"200\",\"300\"],\"zeroline\":false,\"type\":\"-\",\"tickfont\":{\"color\":\"rgba(0, 0, 0, 1.000)\",\"family\":\"sans-serif\",\"size\":11},\"zerolinecolor\":\"rgba(0, 0, 0, 1.000)\",\"anchor\":\"x1\"},\"legend\":{\"tracegroupgap\":0,\"bordercolor\":\"rgba(0, 0, 0, 1.000)\",\"bgcolor\":\"rgba(255, 255, 255, 1.000)\",\"font\":{\"color\":\"rgba(0, 0, 0, 1.000)\",\"family\":\"sans-serif\",\"size\":11},\"y\":1.0,\"x\":1.0},\"width\":600});\n",
       "    </script>\n"
      ]
     },
     "execution_count": 250,
     "metadata": {},
     "output_type": "execute_result"
    }
   ],
   "source": [
    "f(x) = sin(x)\n",
    "f1(x) = cos(x)\n",
    "f2(x) = -sin(x)\n",
    "tab1 = test1(f,f1,f2,2.0,15,BigFloat(pi))\n",
    "tab2 = test2(f,f1,2.0,4.0,15,BigFloat(pi))\n",
    "plot(\n",
    "1:15,\n",
    "[tab1[1],tab1[2],tab2[1],tab2[2]],\n",
    "xlabel = \"liczba iteracji\", ylabel = \"liczba cyfr\",\n",
    "label=[\"Halley\" \"Newton\" \"quasi-Halley\" \"sieczne\"],\n",
    "lw=2)"
   ]
  },
  {
   "cell_type": "code",
   "execution_count": 283,
   "metadata": {},
   "outputs": [
    {
     "name": "stdout",
     "output_type": "stream",
     "text": [
      "1 & 0 & 0 \\\\\n",
      "2 & 2 & 0 \\\\\n",
      "3 & 6 & 1 \\\\\n",
      "4 & 18 & 3 \\\\\n",
      "5 & 54 & 10 \\\\\n",
      "6 & 162 & 31 \\\\\n",
      "7 & Inf & 92 \\\\\n",
      "8 & Inf & 277 \\\\\n",
      "9 & Inf & Inf \\\\\n",
      "10 & Inf & Inf \\\\\n",
      "11 & Inf & Inf \\\\\n",
      "12 & Inf & Inf \\\\\n",
      "13 & Inf & Inf \\\\\n",
      "14 & Inf & Inf \\\\\n",
      "15 & Inf & Inf \\\\\n"
     ]
    },
    {
     "data": {
      "text/plain": [
       "(Any[0, 2, 6, 18, 54, 162, 308, 308, 308, 308, 308, 308, 308, 308, 308], Any[0, 0, 1, 3, 10, 31, 92, 277, 308, 308, 308, 308, 308, 308, 308])"
      ]
     },
     "execution_count": 283,
     "metadata": {},
     "output_type": "execute_result"
    }
   ],
   "source": [
    "test1(f,f1,f2,2.0,15,BigFloat(pi))"
   ]
  },
  {
   "cell_type": "code",
   "execution_count": 234,
   "metadata": {},
   "outputs": [
    {
     "name": "stdout",
     "output_type": "stream",
     "text": [
      "1 & 0 & 1 \\\\ \n",
      "2 & 1 & 2 \\\\ \n",
      "3 & 3 & 6 \\\\ \n",
      "4 & 9 & 11 \\\\ \n",
      "5 & 22 & 23 \\\\ \n",
      "6 & 53 & 45 \\\\ \n",
      "7 & 128 & 92 \\\\ \n",
      "8 & Inf & 183 \\\\ \n",
      "9 & Inf & Inf \\\\ \n",
      "10 & Inf & Inf \\\\ \n",
      "11 & Inf & Inf \\\\ \n",
      "12 & Inf & Inf \\\\ \n",
      "13 & Inf & Inf \\\\ \n",
      "14 & Inf & Inf \\\\ \n",
      "15 & Inf & Inf \\\\ \n"
     ]
    },
    {
     "data": {
      "text/plain": [
       "(Any[0, 1, 3, 9, 22, 53, 128, 308, 308, 308, 308, 308, 308, 308, 308], Any[1, 2, 6, 11, 23, 45, 92, 183, 308, 308, 308, 308, 308, 308, 308])"
      ]
     },
     "execution_count": 234,
     "metadata": {},
     "output_type": "execute_result"
    }
   ],
   "source": [
    "tab2 = test2(f,f1,2.0,4.0,15,BigFloat(pi))"
   ]
  },
  {
   "cell_type": "code",
   "execution_count": 282,
   "metadata": {},
   "outputs": [
    {
     "name": "stdout",
     "output_type": "stream",
     "text": [
      "1 & 0 & 0 \\\\\n",
      "2 & 2 & 0 \\\\\n",
      "3 & 7 & 1 \\\\\n",
      "4 & 23 & 2 \\\\\n",
      "5 & 71 & 5 \\\\\n",
      "6 & 213 & 11 \\\\\n",
      "7 & Inf & 22 \\\\\n",
      "8 & Inf & 44 \\\\\n",
      "9 & Inf & 89 \\\\\n",
      "10 & Inf & 179 \\\\\n",
      "11 & Inf & Inf \\\\\n",
      "12 & Inf & Inf \\\\\n",
      "13 & Inf & Inf \\\\\n",
      "14 & Inf & Inf \\\\\n",
      "15 & Inf & Inf \\\\\n",
      "1 & 1 & 0 \\\\ \n",
      "2 & 3 & 1 \\\\ \n",
      "3 & 7 & 1 \\\\ \n",
      "4 & 18 & 2 \\\\ \n",
      "5 & 44 & 4 \\\\ \n",
      "6 & 107 & 6 \\\\ \n",
      "7 & 259 & 10 \\\\ \n",
      "8 & Inf & 17 \\\\ \n",
      "9 & Inf & 28 \\\\ \n",
      "10 & Inf & 45 \\\\ \n",
      "11 & Inf & 74 \\\\ \n",
      "12 & Inf & 120 \\\\ \n",
      "13 & Inf & 194 \\\\ \n",
      "14 & Inf & Inf \\\\ \n",
      "15 & Inf & Inf \\\\ \n"
     ]
    },
    {
     "data": {
      "application/vnd.plotly.v1+json": {
       "data": [
        {
         "colorbar": {
          "title": ""
         },
         "hoverinfo": "text",
         "legendgroup": "Halley",
         "line": {
          "color": "rgba(0, 154, 250, 1.000)",
          "dash": "solid",
          "shape": "linear",
          "width": 2
         },
         "mode": "lines",
         "name": "Halley",
         "showlegend": true,
         "text": [
          null,
          null,
          null,
          null,
          null,
          null,
          null,
          null,
          null,
          null,
          null,
          null,
          null,
          null,
          null
         ],
         "type": "scatter",
         "x": [
          1,
          2,
          3,
          4,
          5,
          6,
          7,
          8,
          9,
          10,
          11,
          12,
          13,
          14,
          15
         ],
         "xaxis": "x1",
         "y": [
          0,
          2,
          7,
          23,
          71,
          213,
          308,
          308,
          308,
          308,
          308,
          308,
          308,
          308,
          308
         ],
         "yaxis": "y1",
         "zmax": 0.1,
         "zmin": -0.1
        },
        {
         "colorbar": {
          "title": ""
         },
         "hoverinfo": "text",
         "legendgroup": "Newton",
         "line": {
          "color": "rgba(227, 111, 71, 1.000)",
          "dash": "solid",
          "shape": "linear",
          "width": 2
         },
         "mode": "lines",
         "name": "Newton",
         "showlegend": true,
         "text": [
          null,
          null,
          null,
          null,
          null,
          null,
          null,
          null,
          null,
          null,
          null,
          null,
          null,
          null,
          null
         ],
         "type": "scatter",
         "x": [
          1,
          2,
          3,
          4,
          5,
          6,
          7,
          8,
          9,
          10,
          11,
          12,
          13,
          14,
          15
         ],
         "xaxis": "x1",
         "y": [
          0,
          0,
          1,
          2,
          5,
          11,
          22,
          44,
          89,
          179,
          308,
          308,
          308,
          308,
          308
         ],
         "yaxis": "y1",
         "zmax": 0.1,
         "zmin": -0.1
        },
        {
         "colorbar": {
          "title": ""
         },
         "hoverinfo": "text",
         "legendgroup": "quasi-Halley",
         "line": {
          "color": "rgba(62, 164, 78, 1.000)",
          "dash": "solid",
          "shape": "linear",
          "width": 2
         },
         "mode": "lines",
         "name": "quasi-Halley",
         "showlegend": true,
         "text": [
          null,
          null,
          null,
          null,
          null,
          null,
          null,
          null,
          null,
          null,
          null,
          null,
          null,
          null,
          null
         ],
         "type": "scatter",
         "x": [
          1,
          2,
          3,
          4,
          5,
          6,
          7,
          8,
          9,
          10,
          11,
          12,
          13,
          14,
          15
         ],
         "xaxis": "x1",
         "y": [
          1,
          3,
          7,
          18,
          44,
          107,
          259,
          308,
          308,
          308,
          308,
          308,
          308,
          308,
          308
         ],
         "yaxis": "y1",
         "zmax": 0.1,
         "zmin": -0.1
        },
        {
         "colorbar": {
          "title": ""
         },
         "hoverinfo": "text",
         "legendgroup": "sieczne",
         "line": {
          "color": "rgba(195, 113, 210, 1.000)",
          "dash": "solid",
          "shape": "linear",
          "width": 2
         },
         "mode": "lines",
         "name": "sieczne",
         "showlegend": true,
         "text": [
          null,
          null,
          null,
          null,
          null,
          null,
          null,
          null,
          null,
          null,
          null,
          null,
          null,
          null,
          null
         ],
         "type": "scatter",
         "x": [
          1,
          2,
          3,
          4,
          5,
          6,
          7,
          8,
          9,
          10,
          11,
          12,
          13,
          14,
          15
         ],
         "xaxis": "x1",
         "y": [
          0,
          1,
          1,
          2,
          4,
          6,
          10,
          17,
          28,
          45,
          74,
          120,
          194,
          308,
          308
         ],
         "yaxis": "y1",
         "zmax": 0.1,
         "zmin": -0.1
        }
       ],
       "layout": {
        "annotations": [],
        "height": 400,
        "legend": {
         "bgcolor": "rgba(255, 255, 255, 1.000)",
         "bordercolor": "rgba(0, 0, 0, 1.000)",
         "font": {
          "color": "rgba(0, 0, 0, 1.000)",
          "family": "sans-serif",
          "size": 11
         },
         "tracegroupgap": 0,
         "x": 1,
         "y": 1
        },
        "margin": {
         "b": 20,
         "l": 0,
         "r": 0,
         "t": 20
        },
        "paper_bgcolor": "rgba(255, 255, 255, 1.000)",
        "plot_bgcolor": "rgba(255, 255, 255, 1.000)",
        "showlegend": true,
        "width": 600,
        "xaxis": {
         "anchor": "y1",
         "domain": [
          0.07646908719743364,
          0.9934383202099737
         ],
         "gridcolor": "rgba(0, 0, 0, 0.100)",
         "gridwidth": 0.5,
         "linecolor": "rgba(0, 0, 0, 1.000)",
         "mirror": false,
         "range": [
          0.5800000000000001,
          15.42
         ],
         "showgrid": true,
         "showline": true,
         "showticklabels": true,
         "tickangle": 0,
         "tickcolor": "rgb(0, 0, 0)",
         "tickfont": {
          "color": "rgba(0, 0, 0, 1.000)",
          "family": "sans-serif",
          "size": 11
         },
         "tickmode": "array",
         "ticks": "inside",
         "ticktext": [
          "2",
          "4",
          "6",
          "8",
          "10",
          "12",
          "14"
         ],
         "tickvals": [
          2,
          4,
          6,
          8,
          10,
          12,
          14
         ],
         "title": "liczba iteracji",
         "titlefont": {
          "color": "rgba(0, 0, 0, 1.000)",
          "family": "sans-serif",
          "size": 15
         },
         "type": "-",
         "visible": true,
         "zeroline": false,
         "zerolinecolor": "rgba(0, 0, 0, 1.000)"
        },
        "yaxis": {
         "anchor": "x1",
         "domain": [
          0.07581474190726165,
          0.9901574803149606
         ],
         "gridcolor": "rgba(0, 0, 0, 0.100)",
         "gridwidth": 0.5,
         "linecolor": "rgba(0, 0, 0, 1.000)",
         "mirror": false,
         "range": [
          -9.24,
          317.24
         ],
         "showgrid": true,
         "showline": true,
         "showticklabels": true,
         "tickangle": 0,
         "tickcolor": "rgb(0, 0, 0)",
         "tickfont": {
          "color": "rgba(0, 0, 0, 1.000)",
          "family": "sans-serif",
          "size": 11
         },
         "tickmode": "array",
         "ticks": "inside",
         "ticktext": [
          "0",
          "100",
          "200",
          "300"
         ],
         "tickvals": [
          0,
          100,
          200,
          300
         ],
         "title": "liczba cyfr",
         "titlefont": {
          "color": "rgba(0, 0, 0, 1.000)",
          "family": "sans-serif",
          "size": 15
         },
         "type": "-",
         "visible": true,
         "zeroline": false,
         "zerolinecolor": "rgba(0, 0, 0, 1.000)"
        }
       }
      },
      "text/html": [
       "    <div id=\"a8035577-e41a-48f7-9fe6-129f8356ad4f\" style=\"width:600px;height:400px;\"></div>\n",
       "    <script>\n",
       "    PLOT = document.getElementById('a8035577-e41a-48f7-9fe6-129f8356ad4f');\n",
       "    Plotly.plot(PLOT, [{\"xaxis\":\"x1\",\"colorbar\":{\"title\":\"\"},\"yaxis\":\"y1\",\"text\":[null,null,null,null,null,null,null,null,null,null,null,null,null,null,null],\"x\":[1,2,3,4,5,6,7,8,9,10,11,12,13,14,15],\"showlegend\":true,\"mode\":\"lines\",\"name\":\"Halley\",\"zmin\":-0.1,\"legendgroup\":\"Halley\",\"zmax\":0.1,\"line\":{\"color\":\"rgba(0, 154, 250, 1.000)\",\"shape\":\"linear\",\"dash\":\"solid\",\"width\":2},\"y\":[0.0,2.0,7.0,23.0,71.0,213.0,308.0,308.0,308.0,308.0,308.0,308.0,308.0,308.0,308.0],\"type\":\"scatter\",\"hoverinfo\":\"text\"},{\"xaxis\":\"x1\",\"colorbar\":{\"title\":\"\"},\"yaxis\":\"y1\",\"text\":[null,null,null,null,null,null,null,null,null,null,null,null,null,null,null],\"x\":[1,2,3,4,5,6,7,8,9,10,11,12,13,14,15],\"showlegend\":true,\"mode\":\"lines\",\"name\":\"Newton\",\"zmin\":-0.1,\"legendgroup\":\"Newton\",\"zmax\":0.1,\"line\":{\"color\":\"rgba(227, 111, 71, 1.000)\",\"shape\":\"linear\",\"dash\":\"solid\",\"width\":2},\"y\":[0.0,0.0,1.0,2.0,5.0,11.0,22.0,44.0,89.0,179.0,308.0,308.0,308.0,308.0,308.0],\"type\":\"scatter\",\"hoverinfo\":\"text\"},{\"xaxis\":\"x1\",\"colorbar\":{\"title\":\"\"},\"yaxis\":\"y1\",\"text\":[null,null,null,null,null,null,null,null,null,null,null,null,null,null,null],\"x\":[1,2,3,4,5,6,7,8,9,10,11,12,13,14,15],\"showlegend\":true,\"mode\":\"lines\",\"name\":\"quasi-Halley\",\"zmin\":-0.1,\"legendgroup\":\"quasi-Halley\",\"zmax\":0.1,\"line\":{\"color\":\"rgba(62, 164, 78, 1.000)\",\"shape\":\"linear\",\"dash\":\"solid\",\"width\":2},\"y\":[1.0,3.0,7.0,18.0,44.0,107.0,259.0,308.0,308.0,308.0,308.0,308.0,308.0,308.0,308.0],\"type\":\"scatter\",\"hoverinfo\":\"text\"},{\"xaxis\":\"x1\",\"colorbar\":{\"title\":\"\"},\"yaxis\":\"y1\",\"text\":[null,null,null,null,null,null,null,null,null,null,null,null,null,null,null],\"x\":[1,2,3,4,5,6,7,8,9,10,11,12,13,14,15],\"showlegend\":true,\"mode\":\"lines\",\"name\":\"sieczne\",\"zmin\":-0.1,\"legendgroup\":\"sieczne\",\"zmax\":0.1,\"line\":{\"color\":\"rgba(195, 113, 210, 1.000)\",\"shape\":\"linear\",\"dash\":\"solid\",\"width\":2},\"y\":[0.0,1.0,1.0,2.0,4.0,6.0,10.0,17.0,28.0,45.0,74.0,120.0,194.0,308.0,308.0],\"type\":\"scatter\",\"hoverinfo\":\"text\"}], {\"showlegend\":true,\"xaxis\":{\"showticklabels\":true,\"gridwidth\":0.5,\"tickvals\":[2.0,4.0,6.0,8.0,10.0,12.0,14.0],\"visible\":true,\"ticks\":\"inside\",\"range\":[0.5800000000000001,15.42],\"domain\":[0.07646908719743364,0.9934383202099737],\"tickmode\":\"array\",\"linecolor\":\"rgba(0, 0, 0, 1.000)\",\"showgrid\":true,\"title\":\"liczba iteracji\",\"mirror\":false,\"tickangle\":0,\"showline\":true,\"gridcolor\":\"rgba(0, 0, 0, 0.100)\",\"titlefont\":{\"color\":\"rgba(0, 0, 0, 1.000)\",\"family\":\"sans-serif\",\"size\":15},\"tickcolor\":\"rgb(0, 0, 0)\",\"ticktext\":[\"2\",\"4\",\"6\",\"8\",\"10\",\"12\",\"14\"],\"zeroline\":false,\"type\":\"-\",\"tickfont\":{\"color\":\"rgba(0, 0, 0, 1.000)\",\"family\":\"sans-serif\",\"size\":11},\"zerolinecolor\":\"rgba(0, 0, 0, 1.000)\",\"anchor\":\"y1\"},\"paper_bgcolor\":\"rgba(255, 255, 255, 1.000)\",\"annotations\":[],\"height\":400,\"margin\":{\"l\":0,\"b\":20,\"r\":0,\"t\":20},\"plot_bgcolor\":\"rgba(255, 255, 255, 1.000)\",\"yaxis\":{\"showticklabels\":true,\"gridwidth\":0.5,\"tickvals\":[0.0,100.0,200.0,300.0],\"visible\":true,\"ticks\":\"inside\",\"range\":[-9.24,317.24],\"domain\":[0.07581474190726165,0.9901574803149606],\"tickmode\":\"array\",\"linecolor\":\"rgba(0, 0, 0, 1.000)\",\"showgrid\":true,\"title\":\"liczba cyfr\",\"mirror\":false,\"tickangle\":0,\"showline\":true,\"gridcolor\":\"rgba(0, 0, 0, 0.100)\",\"titlefont\":{\"color\":\"rgba(0, 0, 0, 1.000)\",\"family\":\"sans-serif\",\"size\":15},\"tickcolor\":\"rgb(0, 0, 0)\",\"ticktext\":[\"0\",\"100\",\"200\",\"300\"],\"zeroline\":false,\"type\":\"-\",\"tickfont\":{\"color\":\"rgba(0, 0, 0, 1.000)\",\"family\":\"sans-serif\",\"size\":11},\"zerolinecolor\":\"rgba(0, 0, 0, 1.000)\",\"anchor\":\"x1\"},\"legend\":{\"tracegroupgap\":0,\"bordercolor\":\"rgba(0, 0, 0, 1.000)\",\"bgcolor\":\"rgba(255, 255, 255, 1.000)\",\"font\":{\"color\":\"rgba(0, 0, 0, 1.000)\",\"family\":\"sans-serif\",\"size\":11},\"y\":1.0,\"x\":1.0},\"width\":600});\n",
       "    </script>\n"
      ]
     },
     "execution_count": 282,
     "metadata": {},
     "output_type": "execute_result"
    }
   ],
   "source": [
    "w(x) = x^3-8\n",
    "w1(x) = 3*x^2\n",
    "w2(x) = 6x\n",
    "tab1 = test1(w,w1,w2,1.0,15,BigFloat(2.0))\n",
    "tab2 = test2(w,w1,1.0,3.0,15,BigFloat(2.0))\n",
    "plot(\n",
    "1:15,\n",
    "[tab1[1],tab1[2],tab2[1],tab2[2]],\n",
    "xlabel = \"liczba iteracji\", ylabel = \"liczba cyfr\",\n",
    "label=[\"Halley\" \"Newton\" \"quasi-Halley\" \"sieczne\"],\n",
    "lw=2)"
   ]
  },
  {
   "cell_type": "code",
   "execution_count": 255,
   "metadata": {},
   "outputs": [
    {
     "data": {
      "text/plain": [
       "0.0"
      ]
     },
     "execution_count": 255,
     "metadata": {},
     "output_type": "execute_result"
    }
   ],
   "source": [
    "BigFloat(0.0)"
   ]
  },
  {
   "cell_type": "code",
   "execution_count": 269,
   "metadata": {},
   "outputs": [
    {
     "data": {
      "text/plain": [
       "3.148888448366541348233203949609858909221554162549969822844492103917701350286977093722406453852229435722010151342983518559277291494642032879768659495409927180419770598198648613614376110984749418462890624845432999547816921611239983988804765297691631383322413828971877334098143083653909787620689884355857427783622e-172"
      ]
     },
     "execution_count": 269,
     "metadata": {},
     "output_type": "execute_result"
    }
   ],
   "source": [
    "w(x) = x^5+2*x^4+4*x^3+8*x^4+16*x\n",
    "w1(x) = 5*x^4+8*x^3+12*x^2+16*x+16\n",
    "w2(x) = 20*x^3+24*x^2+24*x+16\n",
    "halley(w,w1,w2,8,0.5)"
   ]
  },
  {
   "cell_type": "code",
   "execution_count": 280,
   "metadata": {},
   "outputs": [
    {
     "data": {
      "text/plain": [
       "2.000000000000000000000000000000000000000000000000000000000000000000000000000000000000000000000000000000000000000000000000000000000000000000000000000000000000000000000000442014431298626925360263508587070076356775298478808746359084434304192301085987525877540278079757236717267837606556624908976219456573926088858"
      ]
     },
     "execution_count": 280,
     "metadata": {},
     "output_type": "execute_result"
    }
   ],
   "source": [
    "w(x) = x^3-8\n",
    "w1(x) = 3*x^2\n",
    "w2(x) = 6x\n",
    "newton(w,w1,10,5.0)"
   ]
  },
  {
   "cell_type": "code",
   "execution_count": 288,
   "metadata": {},
   "outputs": [
    {
     "name": "stdout",
     "output_type": "stream",
     "text": [
      "1 & 0 & 0 \\\\\n",
      "2 & 4 & 2 \\\\\n",
      "3 & 13 & 4 \\\\\n",
      "4 & 42 & 10 \\\\\n",
      "5 & 129 & 20 \\\\\n",
      "6 & Inf & 41 \\\\\n",
      "7 & Inf & 84 \\\\\n",
      "8 & Inf & 169 \\\\\n",
      "9 & Inf & Inf \\\\\n",
      "10 & Inf & Inf \\\\\n",
      "11 & Inf & Inf \\\\\n",
      "12 & Inf & Inf \\\\\n",
      "13 & Inf & Inf \\\\\n",
      "14 & Inf & Inf \\\\\n",
      "15 & Inf & Inf \\\\\n",
      "1 & 0 & 0 \\\\ \n",
      "2 & 3 & 1 \\\\ \n",
      "3 & 7 & 3 \\\\ \n",
      "4 & 19 & 5 \\\\ \n",
      "5 & 47 & 9 \\\\ \n",
      "6 & 116 & 15 \\\\ \n",
      "7 & 281 & 25 \\\\ \n",
      "8 & 308 & 42 \\\\ \n",
      "9 & Inf & 68 \\\\ \n",
      "10 & Inf & 111 \\\\ \n",
      "11 & Inf & 181 \\\\ \n",
      "12 & Inf & 293 \\\\ \n",
      "13 & Inf & Inf \\\\ \n",
      "14 & Inf & Inf \\\\ \n",
      "15 & Inf & Inf \\\\ \n"
     ]
    },
    {
     "data": {
      "application/vnd.plotly.v1+json": {
       "data": [
        {
         "colorbar": {
          "title": ""
         },
         "hoverinfo": "text",
         "legendgroup": "Halley",
         "line": {
          "color": "rgba(0, 154, 250, 1.000)",
          "dash": "solid",
          "shape": "linear",
          "width": 2
         },
         "mode": "lines",
         "name": "Halley",
         "showlegend": true,
         "text": [
          null,
          null,
          null,
          null,
          null,
          null,
          null,
          null,
          null,
          null,
          null,
          null,
          null,
          null,
          null
         ],
         "type": "scatter",
         "x": [
          1,
          2,
          3,
          4,
          5,
          6,
          7,
          8,
          9,
          10,
          11,
          12,
          13,
          14,
          15
         ],
         "xaxis": "x1",
         "y": [
          0,
          4,
          13,
          42,
          129,
          308,
          308,
          308,
          308,
          308,
          308,
          308,
          308,
          308,
          308
         ],
         "yaxis": "y1",
         "zmax": 0.1,
         "zmin": -0.1
        },
        {
         "colorbar": {
          "title": ""
         },
         "hoverinfo": "text",
         "legendgroup": "Newton",
         "line": {
          "color": "rgba(227, 111, 71, 1.000)",
          "dash": "solid",
          "shape": "linear",
          "width": 2
         },
         "mode": "lines",
         "name": "Newton",
         "showlegend": true,
         "text": [
          null,
          null,
          null,
          null,
          null,
          null,
          null,
          null,
          null,
          null,
          null,
          null,
          null,
          null,
          null
         ],
         "type": "scatter",
         "x": [
          1,
          2,
          3,
          4,
          5,
          6,
          7,
          8,
          9,
          10,
          11,
          12,
          13,
          14,
          15
         ],
         "xaxis": "x1",
         "y": [
          0,
          2,
          4,
          10,
          20,
          41,
          84,
          169,
          308,
          308,
          308,
          308,
          308,
          308,
          308
         ],
         "yaxis": "y1",
         "zmax": 0.1,
         "zmin": -0.1
        },
        {
         "colorbar": {
          "title": ""
         },
         "hoverinfo": "text",
         "legendgroup": "quasi-Halley",
         "line": {
          "color": "rgba(62, 164, 78, 1.000)",
          "dash": "solid",
          "shape": "linear",
          "width": 2
         },
         "mode": "lines",
         "name": "quasi-Halley",
         "showlegend": true,
         "text": [
          null,
          null,
          null,
          null,
          null,
          null,
          null,
          null,
          null,
          null,
          null,
          null,
          null,
          null,
          null
         ],
         "type": "scatter",
         "x": [
          1,
          2,
          3,
          4,
          5,
          6,
          7,
          8,
          9,
          10,
          11,
          12,
          13,
          14,
          15
         ],
         "xaxis": "x1",
         "y": [
          0,
          3,
          7,
          19,
          47,
          116,
          281,
          308,
          308,
          308,
          308,
          308,
          308,
          308,
          308
         ],
         "yaxis": "y1",
         "zmax": 0.1,
         "zmin": -0.1
        },
        {
         "colorbar": {
          "title": ""
         },
         "hoverinfo": "text",
         "legendgroup": "sieczne",
         "line": {
          "color": "rgba(195, 113, 210, 1.000)",
          "dash": "solid",
          "shape": "linear",
          "width": 2
         },
         "mode": "lines",
         "name": "sieczne",
         "showlegend": true,
         "text": [
          null,
          null,
          null,
          null,
          null,
          null,
          null,
          null,
          null,
          null,
          null,
          null,
          null,
          null,
          null
         ],
         "type": "scatter",
         "x": [
          1,
          2,
          3,
          4,
          5,
          6,
          7,
          8,
          9,
          10,
          11,
          12,
          13,
          14,
          15
         ],
         "xaxis": "x1",
         "y": [
          0,
          1,
          3,
          5,
          9,
          15,
          25,
          42,
          68,
          111,
          181,
          293,
          308,
          308,
          308
         ],
         "yaxis": "y1",
         "zmax": 0.1,
         "zmin": -0.1
        }
       ],
       "layout": {
        "annotations": [],
        "height": 400,
        "legend": {
         "bgcolor": "rgba(255, 255, 255, 1.000)",
         "bordercolor": "rgba(0, 0, 0, 1.000)",
         "font": {
          "color": "rgba(0, 0, 0, 1.000)",
          "family": "sans-serif",
          "size": 11
         },
         "tracegroupgap": 0,
         "x": 1,
         "y": 1
        },
        "margin": {
         "b": 20,
         "l": 0,
         "r": 0,
         "t": 20
        },
        "paper_bgcolor": "rgba(255, 255, 255, 1.000)",
        "plot_bgcolor": "rgba(255, 255, 255, 1.000)",
        "showlegend": true,
        "width": 600,
        "xaxis": {
         "anchor": "y1",
         "domain": [
          0.07646908719743364,
          0.9934383202099737
         ],
         "gridcolor": "rgba(0, 0, 0, 0.100)",
         "gridwidth": 0.5,
         "linecolor": "rgba(0, 0, 0, 1.000)",
         "mirror": false,
         "range": [
          0.5800000000000001,
          15.42
         ],
         "showgrid": true,
         "showline": true,
         "showticklabels": true,
         "tickangle": 0,
         "tickcolor": "rgb(0, 0, 0)",
         "tickfont": {
          "color": "rgba(0, 0, 0, 1.000)",
          "family": "sans-serif",
          "size": 11
         },
         "tickmode": "array",
         "ticks": "inside",
         "ticktext": [
          "2",
          "4",
          "6",
          "8",
          "10",
          "12",
          "14"
         ],
         "tickvals": [
          2,
          4,
          6,
          8,
          10,
          12,
          14
         ],
         "title": "liczba iteracji",
         "titlefont": {
          "color": "rgba(0, 0, 0, 1.000)",
          "family": "sans-serif",
          "size": 15
         },
         "type": "-",
         "visible": true,
         "zeroline": false,
         "zerolinecolor": "rgba(0, 0, 0, 1.000)"
        },
        "yaxis": {
         "anchor": "x1",
         "domain": [
          0.07581474190726165,
          0.9901574803149606
         ],
         "gridcolor": "rgba(0, 0, 0, 0.100)",
         "gridwidth": 0.5,
         "linecolor": "rgba(0, 0, 0, 1.000)",
         "mirror": false,
         "range": [
          -9.24,
          317.24
         ],
         "showgrid": true,
         "showline": true,
         "showticklabels": true,
         "tickangle": 0,
         "tickcolor": "rgb(0, 0, 0)",
         "tickfont": {
          "color": "rgba(0, 0, 0, 1.000)",
          "family": "sans-serif",
          "size": 11
         },
         "tickmode": "array",
         "ticks": "inside",
         "ticktext": [
          "0",
          "100",
          "200",
          "300"
         ],
         "tickvals": [
          0,
          100,
          200,
          300
         ],
         "title": "liczba cyfr",
         "titlefont": {
          "color": "rgba(0, 0, 0, 1.000)",
          "family": "sans-serif",
          "size": 15
         },
         "type": "-",
         "visible": true,
         "zeroline": false,
         "zerolinecolor": "rgba(0, 0, 0, 1.000)"
        }
       }
      },
      "text/html": [
       "    <div id=\"9a3bea47-c0ea-4f72-bc30-040fc865e1a4\" style=\"width:600px;height:400px;\"></div>\n",
       "    <script>\n",
       "    PLOT = document.getElementById('9a3bea47-c0ea-4f72-bc30-040fc865e1a4');\n",
       "    Plotly.plot(PLOT, [{\"xaxis\":\"x1\",\"colorbar\":{\"title\":\"\"},\"yaxis\":\"y1\",\"text\":[null,null,null,null,null,null,null,null,null,null,null,null,null,null,null],\"x\":[1,2,3,4,5,6,7,8,9,10,11,12,13,14,15],\"showlegend\":true,\"mode\":\"lines\",\"name\":\"Halley\",\"zmin\":-0.1,\"legendgroup\":\"Halley\",\"zmax\":0.1,\"line\":{\"color\":\"rgba(0, 154, 250, 1.000)\",\"shape\":\"linear\",\"dash\":\"solid\",\"width\":2},\"y\":[0.0,4.0,13.0,42.0,129.0,308.0,308.0,308.0,308.0,308.0,308.0,308.0,308.0,308.0,308.0],\"type\":\"scatter\",\"hoverinfo\":\"text\"},{\"xaxis\":\"x1\",\"colorbar\":{\"title\":\"\"},\"yaxis\":\"y1\",\"text\":[null,null,null,null,null,null,null,null,null,null,null,null,null,null,null],\"x\":[1,2,3,4,5,6,7,8,9,10,11,12,13,14,15],\"showlegend\":true,\"mode\":\"lines\",\"name\":\"Newton\",\"zmin\":-0.1,\"legendgroup\":\"Newton\",\"zmax\":0.1,\"line\":{\"color\":\"rgba(227, 111, 71, 1.000)\",\"shape\":\"linear\",\"dash\":\"solid\",\"width\":2},\"y\":[0.0,2.0,4.0,10.0,20.0,41.0,84.0,169.0,308.0,308.0,308.0,308.0,308.0,308.0,308.0],\"type\":\"scatter\",\"hoverinfo\":\"text\"},{\"xaxis\":\"x1\",\"colorbar\":{\"title\":\"\"},\"yaxis\":\"y1\",\"text\":[null,null,null,null,null,null,null,null,null,null,null,null,null,null,null],\"x\":[1,2,3,4,5,6,7,8,9,10,11,12,13,14,15],\"showlegend\":true,\"mode\":\"lines\",\"name\":\"quasi-Halley\",\"zmin\":-0.1,\"legendgroup\":\"quasi-Halley\",\"zmax\":0.1,\"line\":{\"color\":\"rgba(62, 164, 78, 1.000)\",\"shape\":\"linear\",\"dash\":\"solid\",\"width\":2},\"y\":[0.0,3.0,7.0,19.0,47.0,116.0,281.0,308.0,308.0,308.0,308.0,308.0,308.0,308.0,308.0],\"type\":\"scatter\",\"hoverinfo\":\"text\"},{\"xaxis\":\"x1\",\"colorbar\":{\"title\":\"\"},\"yaxis\":\"y1\",\"text\":[null,null,null,null,null,null,null,null,null,null,null,null,null,null,null],\"x\":[1,2,3,4,5,6,7,8,9,10,11,12,13,14,15],\"showlegend\":true,\"mode\":\"lines\",\"name\":\"sieczne\",\"zmin\":-0.1,\"legendgroup\":\"sieczne\",\"zmax\":0.1,\"line\":{\"color\":\"rgba(195, 113, 210, 1.000)\",\"shape\":\"linear\",\"dash\":\"solid\",\"width\":2},\"y\":[0.0,1.0,3.0,5.0,9.0,15.0,25.0,42.0,68.0,111.0,181.0,293.0,308.0,308.0,308.0],\"type\":\"scatter\",\"hoverinfo\":\"text\"}], {\"showlegend\":true,\"xaxis\":{\"showticklabels\":true,\"gridwidth\":0.5,\"tickvals\":[2.0,4.0,6.0,8.0,10.0,12.0,14.0],\"visible\":true,\"ticks\":\"inside\",\"range\":[0.5800000000000001,15.42],\"domain\":[0.07646908719743364,0.9934383202099737],\"tickmode\":\"array\",\"linecolor\":\"rgba(0, 0, 0, 1.000)\",\"showgrid\":true,\"title\":\"liczba iteracji\",\"mirror\":false,\"tickangle\":0,\"showline\":true,\"gridcolor\":\"rgba(0, 0, 0, 0.100)\",\"titlefont\":{\"color\":\"rgba(0, 0, 0, 1.000)\",\"family\":\"sans-serif\",\"size\":15},\"tickcolor\":\"rgb(0, 0, 0)\",\"ticktext\":[\"2\",\"4\",\"6\",\"8\",\"10\",\"12\",\"14\"],\"zeroline\":false,\"type\":\"-\",\"tickfont\":{\"color\":\"rgba(0, 0, 0, 1.000)\",\"family\":\"sans-serif\",\"size\":11},\"zerolinecolor\":\"rgba(0, 0, 0, 1.000)\",\"anchor\":\"y1\"},\"paper_bgcolor\":\"rgba(255, 255, 255, 1.000)\",\"annotations\":[],\"height\":400,\"margin\":{\"l\":0,\"b\":20,\"r\":0,\"t\":20},\"plot_bgcolor\":\"rgba(255, 255, 255, 1.000)\",\"yaxis\":{\"showticklabels\":true,\"gridwidth\":0.5,\"tickvals\":[0.0,100.0,200.0,300.0],\"visible\":true,\"ticks\":\"inside\",\"range\":[-9.24,317.24],\"domain\":[0.07581474190726165,0.9901574803149606],\"tickmode\":\"array\",\"linecolor\":\"rgba(0, 0, 0, 1.000)\",\"showgrid\":true,\"title\":\"liczba cyfr\",\"mirror\":false,\"tickangle\":0,\"showline\":true,\"gridcolor\":\"rgba(0, 0, 0, 0.100)\",\"titlefont\":{\"color\":\"rgba(0, 0, 0, 1.000)\",\"family\":\"sans-serif\",\"size\":15},\"tickcolor\":\"rgb(0, 0, 0)\",\"ticktext\":[\"0\",\"100\",\"200\",\"300\"],\"zeroline\":false,\"type\":\"-\",\"tickfont\":{\"color\":\"rgba(0, 0, 0, 1.000)\",\"family\":\"sans-serif\",\"size\":11},\"zerolinecolor\":\"rgba(0, 0, 0, 1.000)\",\"anchor\":\"x1\"},\"legend\":{\"tracegroupgap\":0,\"bordercolor\":\"rgba(0, 0, 0, 1.000)\",\"bgcolor\":\"rgba(255, 255, 255, 1.000)\",\"font\":{\"color\":\"rgba(0, 0, 0, 1.000)\",\"family\":\"sans-serif\",\"size\":11},\"y\":1.0,\"x\":1.0},\"width\":600});\n",
       "    </script>\n"
      ]
     },
     "execution_count": 288,
     "metadata": {},
     "output_type": "execute_result"
    }
   ],
   "source": [
    "f(x) = sqrt(x)-3\n",
    "f1(x) = 1/(2*sqrt(x))\n",
    "f2(x) = -1/(4*x*sqrt(x))\n",
    "tab1 = test1(f,f1,f2,3.0,15,BigFloat(9.0))\n",
    "tab2 = test2(f,f1,3.0,15.0,15,BigFloat(9.0))\n",
    "plot(\n",
    "1:15,\n",
    "[tab1[1],tab1[2],tab2[1],tab2[2]],\n",
    "xlabel = \"liczba iteracji\", ylabel = \"liczba cyfr\",\n",
    "label=[\"Halley\" \"Newton\" \"quasi-Halley\" \"sieczne\"],\n",
    "lw=2)"
   ]
  },
  {
   "cell_type": "code",
   "execution_count": null,
   "metadata": {},
   "outputs": [],
   "source": []
  }
 ],
 "metadata": {
  "@webio": {
   "lastCommId": "DCBD507A4A1F472C820A9DA856280F20",
   "lastKernelId": "303a3081-0cfa-4c96-a686-3137444379c6"
  },
  "kernelspec": {
   "display_name": "Julia 1.0.1",
   "language": "julia",
   "name": "julia-1.0"
  },
  "language_info": {
   "file_extension": ".jl",
   "mimetype": "application/julia",
   "name": "julia",
   "version": "1.0.1"
  }
 },
 "nbformat": 4,
 "nbformat_minor": 2
}
