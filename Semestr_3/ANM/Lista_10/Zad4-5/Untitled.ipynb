{
 "cells": [
  {
   "cell_type": "code",
   "execution_count": 2,
   "metadata": {},
   "outputs": [
    {
     "name": "stdout",
     "output_type": "stream",
     "text": [
      "\u001b[32m\u001b[1m  Updating\u001b[22m\u001b[39m registry at `~/.julia/registries/General`\n",
      "\u001b[32m\u001b[1m  Updating\u001b[22m\u001b[39m git-repo `https://github.com/JuliaRegistries/General.git`\n",
      "\u001b[?25l\u001b[2K\u001b[?25h"
     ]
    },
    {
     "name": "stderr",
     "output_type": "stream",
     "text": [
      "┌ Warning: Some registries failed to update:\n",
      "│     — /home/kamil/.julia/registries/General — failed to fetch from repo\n",
      "└ @ Pkg.API /buildworker/worker/package_linux64/build/usr/share/julia/stdlib/v1.0/Pkg/src/API.jl:157\n"
     ]
    },
    {
     "name": "stdout",
     "output_type": "stream",
     "text": [
      "\u001b[32m\u001b[1m Resolving\u001b[22m\u001b[39m package versions...\n",
      "\u001b[32m\u001b[1m   Cloning\u001b[22m\u001b[39m [1fd47b50-473d-5c70-9696-f719f8f3bcdc] QuadGK from https://github.com/JuliaMath/QuadGK.jl.git\n",
      "\u001b[?25l\u001b[2K\u001b[?25h"
     ]
    },
    {
     "ename": "Pkg.Types.PkgError",
     "evalue": "failed to clone from https://github.com/JuliaMath/QuadGK.jl.git, error: GitError(Code:ERROR, Class:Net, curl error: Received HTTP code 405 from proxy after CONNECT\n)",
     "output_type": "error",
     "traceback": [
      "failed to clone from https://github.com/JuliaMath/QuadGK.jl.git, error: GitError(Code:ERROR, Class:Net, curl error: Received HTTP code 405 from proxy after CONNECT\n)",
      ""
     ]
    }
   ],
   "source": [
    "import Pkg;\n",
    "Pkg.add(\"QuadGK\")\n",
    "using QuadGK\n",
    "using Polynomials"
   ]
  },
  {
   "cell_type": "code",
   "execution_count": null,
   "metadata": {},
   "outputs": [],
   "source": []
  }
 ],
 "metadata": {
  "@webio": {
   "lastCommId": "4748826DC5DA4F30AFCFF2677846D975",
   "lastKernelId": "7d89317d-91ac-469d-b8d9-7353d60fb3bb"
  },
  "kernelspec": {
   "display_name": "Julia 1.0.1",
   "language": "julia",
   "name": "julia-1.0"
  },
  "language_info": {
   "file_extension": ".jl",
   "mimetype": "application/julia",
   "name": "julia",
   "version": "1.0.1"
  }
 },
 "nbformat": 4,
 "nbformat_minor": 2
}
