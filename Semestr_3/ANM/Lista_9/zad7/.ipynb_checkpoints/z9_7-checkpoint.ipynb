{
 "cells": [
  {
   "cell_type": "code",
   "execution_count": null,
   "metadata": {},
   "outputs": [],
   "source": [
    "using QuadGK\n",
    "using Plots\n",
    "plotly();"
   ]
  },
  {
   "cell_type": "code",
   "execution_count": null,
   "metadata": {},
   "outputs": [],
   "source": [
    "function f(x)\n",
    "    return 1.0 / (25x^2+1)\n",
    "end"
   ]
  },
  {
   "cell_type": "code",
   "execution_count": null,
   "metadata": {},
   "outputs": [],
   "source": [
    "function printPoly(coefs, newline=true, symbol=\"x\")\n",
    "    coefs = reverse(coefs)\n",
    "    separators = [\"\"; (x -> (isa(x, Number) && x < 0 ? \"\" : \"+\")).(coefs[2:end])]\n",
    "    symbols = [(x -> string(symbol, \"^\", x)).(length(coefs)-1:-1:1); \"\"]\n",
    "    print(join(Iterators.flatten(zip(separators, coefs, symbols))), newline ? '\\n' : \"\")\n",
    "end"
   ]
  },
  {
   "cell_type": "code",
   "execution_count": null,
   "metadata": {},
   "outputs": [],
   "source": [
    "printPoly([-1.0,2.0,-3.0,4.0,-5.0])\n",
    "printPoly([-1.0, 'c', 'b', 2.0, 'a'])"
   ]
  },
  {
   "cell_type": "code",
   "execution_count": null,
   "metadata": {},
   "outputs": [],
   "source": [
    "function createPolynomial(coef)\n",
    "    return x -> horner(x, coef)\n",
    "end"
   ]
  },
  {
   "cell_type": "code",
   "execution_count": null,
   "metadata": {},
   "outputs": [],
   "source": [
    "#funkcja usuwająca z tablicy wartości bliskie zera\n",
    "function chopZeros(array, eps=1e-10)\n",
    "    array[abs.(array) .<= eps] .= 0\n",
    "end"
   ]
  },
  {
   "cell_type": "code",
   "execution_count": null,
   "metadata": {},
   "outputs": [],
   "source": [
    "legendreBasis = \n",
    "[1. 0. 0. 0. 0. 0. 0. 0. 0. 0.;\n",
    "0. 1. 0. 0. 0. 0. 0. 0. 0. 0.;\n",
    "-0.5 0. 1.5 0. 0. 0. 0. 0. 0. 0.;\n",
    "0. -1.5 0. 2.5 0. 0. 0. 0. 0. 0.;\n",
    "0.375 0. -3.75 0. 4.375 0. 0. 0. 0. 0.;\n",
    "0. 1.875 0. -8.75 0. 7.875 0. 0. 0. 0.;\n",
    "-0.3125 0. 6.5625 0. -19.6875 0. 14.4375 0. 0. 0.;\n",
    "0. -2.1875 0. 19.6875 0. -43.3125 0. 26.8125 0. 0.;\n",
    "0.273438 0. -9.84375 0. 54.1406 0. -93.8438 0. 50.2734 0.;\n",
    "0. 2.46094 0. -36.0938 0. 140.766 0. -201.094 0. 94.9609];"
   ]
  },
  {
   "cell_type": "code",
   "execution_count": null,
   "metadata": {},
   "outputs": [],
   "source": [
    "chebyshevBasis = \n",
    "[1. 0. 0. 0. 0. 0. 0. 0. 0. 0.;\n",
    "0. 1. 0. 0. 0. 0. 0. 0. 0. 0.;\n",
    "-1. 0. 2. 0. 0. 0. 0. 0. 0. 0.;\n",
    "0. -3. 0. 4. 0. 0. 0. 0. 0. 0.;\n",
    "1. 0. -8. 0. 8. 0. 0. 0. 0. 0.;\n",
    "0. 5. 0. -20. 0. 16. 0. 0. 0. 0.;\n",
    "-1. 0. 18. 0. -48. 0. 32. 0. 0. 0.;\n",
    "0. -7. 0. 56. 0. -112. 0. 64. 0. 0.;\n",
    "1. 0. -32. 0. 160. 0. -256. 0. 128. 0.;\n",
    "0. 9. 0. -120. 0. 432. 0. -576. 0. 256.];"
   ]
  },
  {
   "cell_type": "code",
   "execution_count": null,
   "metadata": {},
   "outputs": [],
   "source": [
    "legendreWeight = x -> 1;"
   ]
  },
  {
   "cell_type": "code",
   "execution_count": null,
   "metadata": {},
   "outputs": [],
   "source": [
    "legendreOrthoCoef = k -> 1/(2k+1);"
   ]
  },
  {
   "cell_type": "code",
   "execution_count": null,
   "metadata": {},
   "outputs": [],
   "source": [
    "chebyshevWeight = x-> 1/sqrt(1-x^2);"
   ]
  },
  {
   "cell_type": "code",
   "execution_count": null,
   "metadata": {},
   "outputs": [],
   "source": [
    "chebyshevOrthoCoef = k -> (k == 0 ? pi : pi/2);"
   ]
  },
  {
   "cell_type": "code",
   "execution_count": null,
   "metadata": {
    "scrolled": true
   },
   "outputs": [],
   "source": [
    "function horner(x::T, coefs::Array{Float64, 1})::T where {T}\n",
    "    result::T = coefs[end]\n",
    "    for i = length(coefs)-1:-1:1\n",
    "        result = result*x + coefs[i]\n",
    "    end\n",
    "    return result\n",
    "end"
   ]
  },
  {
   "cell_type": "code",
   "execution_count": null,
   "metadata": {},
   "outputs": [],
   "source": [
    "function newtonCoefs(f, nodes)\n",
    "    coefs = zeros(length(nodes))\n",
    "    for k = 1:length(nodes)\n",
    "        for i = 1:k\n",
    "            tmp = f(nodes[i])\n",
    "            for j = 1:k\n",
    "                if j == i continue end\n",
    "                tmp /= nodes[i] - nodes[j]\n",
    "            end\n",
    "            coefs[k] += tmp\n",
    "        end\n",
    "    end\n",
    "    return coefs\n",
    "end\n",
    "\n",
    "function newton(x, nodes, coefs)\n",
    "    p = [1; cumprod(x .- nodes[1:end-1])]\n",
    "    return sum(p .* coefs)\n",
    "end\n",
    "\n",
    "function createNewtonInterpolant(f, nodes)\n",
    "    return x -> newton(x, nodes, newtonCoefs(f, nodes))\n",
    "end"
   ]
  },
  {
   "cell_type": "code",
   "execution_count": null,
   "metadata": {},
   "outputs": [],
   "source": [
    "function chebyshevZeros(n::Int)\n",
    "    return chebyshevZeros(collect(0:n-1))\n",
    "end\n",
    "\n",
    "function chebyshevZeros(a::Array{Int,1})\n",
    "    return chebyshevZeros.(length(a)-1, a)\n",
    "end\n",
    "\n",
    "function chebyshevZeros(n, k)\n",
    "    return cos((2k+1)/(2n+2)*pi)\n",
    "end"
   ]
  },
  {
   "cell_type": "code",
   "execution_count": null,
   "metadata": {},
   "outputs": [],
   "source": [
    "function chebyshevExtrema(n::Int)\n",
    "    return chebyshevExtrema(collect(0:n))\n",
    "end\n",
    "\n",
    "function chebyshevExtrema(a::Array{Int,1})\n",
    "    return chebyshevExtrema.(length(a)-1, a)\n",
    "end\n",
    "\n",
    "function chebyshevExtrema(n, k)\n",
    "    return cos(k/n*pi)\n",
    "end"
   ]
  },
  {
   "cell_type": "code",
   "execution_count": null,
   "metadata": {},
   "outputs": [],
   "source": [
    "function findMaxDev(f, w, N=1000)\n",
    "    nodes = -1 .+ 2 .* collect(0:N) ./ N\n",
    "    deviations = abs.((x -> (f(x) - w(x))).(nodes))\n",
    "    return maximum(deviations)\n",
    "end"
   ]
  },
  {
   "cell_type": "code",
   "execution_count": null,
   "metadata": {},
   "outputs": [],
   "source": [
    "function leastSquares(f, n, basisMatrix, orthoCoef, w=x->1)\n",
    "    c = orthoCoef.(0:n)\n",
    "    a = (k -> quadgk(x -> (w(x)*f(x)*createPolynomial(basisMatrix[k, 1:k])(x)), -1, 1, atol=0.00001)[1]).(1:n+1) ./ c\n",
    "    coefs = sum(a .* basisMatrix[1:n+1,1:n+1], dims=1)[:]\n",
    "    \n",
    "    chopZeros(coefs)\n",
    "    return coefs\n",
    "end"
   ]
  },
  {
   "cell_type": "code",
   "execution_count": null,
   "metadata": {
    "scrolled": false
   },
   "outputs": [],
   "source": [
    "function main()\n",
    "    optimalLegendre = leastSquares(f, 9, legendreBasis, legendreOrthoCoef, legendreWeight)\n",
    "    optimalLegendreApproximant = createPolynomial(optimalLegendre)\n",
    "\n",
    "    optimalChebyshev = leastSquares(f, 9, chebyshevBasis, chebyshevOrthoCoef, chebyshevWeight)\n",
    "    optimalChebyshevApproximant = createPolynomial(optimalChebyshev)\n",
    "\n",
    "    equidistantNodes = range(-1, stop = 1, length = 20)\n",
    "    equidistantInterpolant = createNewtonInterpolant(f, equidistantNodes)\n",
    "\n",
    "    chebyshevZerosNodes = chebyshevZeros(20)\n",
    "    chebyshevZerosInterpolant = createNewtonInterpolant(f, chebyshevZerosNodes)\n",
    "\n",
    "    chebyshevExtremaNodes = chebyshevExtrema(19)\n",
    "    chebyshevExtremaInterpolant = createNewtonInterpolant(f, chebyshevExtremaNodes)\n",
    "    \n",
    "    \n",
    "    println(\"Legendre \", findMaxDev(f, optimalLegendreApproximant, 10000))\n",
    "    println(\"Chebyshev \", findMaxDev(f, optimalChebyshevApproximant, 10000))\n",
    "    println(\"Equidistant \", findMaxDev(f, equidistantInterpolant, 10000))\n",
    "    println(\"Chebyshev Zeros \", findMaxDev(f, chebyshevZerosInterpolant, 10000))\n",
    "    println(\"Chebyshev Extrema \", findMaxDev(f, chebyshevExtremaInterpolant, 10000))\n",
    "    \n",
    "    rng = range(-1.1, stop = 1.1, length = 200)\n",
    "    plot(rng, f.(rng), label=\"f\", size=(600*1.5,400*1.5), ylim=(-1, 2.5), xlim=(-1.1, 1.1))\n",
    "    plot!(rng, optimalLegendreApproximant.(rng), linestyle=:dot, label=\"Legendre\")\n",
    "    plot!(rng, optimalChebyshevApproximant.(rng), linestyle=:dot, label=\"Chebyshev\")\n",
    "    plot!(rng, equidistantInterpolant.(rng), linestyle=:dash, label=\"Equidistant\")\n",
    "    plot!(rng, chebyshevZerosInterpolant.(rng), linestyle=:dashdot, label=\"Chebyshev Zeros\")\n",
    "    plot!(rng, chebyshevExtremaInterpolant.(rng), linestyle=:dashdot, label=\"Chebyshev Extrema\")\n",
    "end\n",
    "\n",
    "main()"
   ]
  },
  {
   "cell_type": "code",
   "execution_count": null,
   "metadata": {},
   "outputs": [],
   "source": []
  }
 ],
 "metadata": {
  "@webio": {
   "lastCommId": "4AEEDC5C424C4134B4CA7DF143EC48A8",
   "lastKernelId": "04ac391f-4027-44bf-888e-7d4cd9d8ab23"
  },
  "kernelspec": {
   "display_name": "Julia 1.0.1",
   "language": "julia",
   "name": "julia-1.0"
  },
  "language_info": {
   "file_extension": ".jl",
   "mimetype": "application/julia",
   "name": "julia",
   "version": "1.0.1"
  }
 },
 "nbformat": 4,
 "nbformat_minor": 2
}
